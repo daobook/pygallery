{
 "cells": [
  {
   "cell_type": "markdown",
   "metadata": {},
   "source": [
    "# 测试"
   ]
  },
  {
   "cell_type": "code",
   "execution_count": 1,
   "metadata": {},
   "outputs": [],
   "source": [
    "import gif\n",
    "from random import randint\n",
    "from matplotlib import pyplot as plt\n",
    "\n",
    "x = [randint(0, 100) for _ in range(100)]\n",
    "y = [randint(0, 100) for _ in range(100)]\n",
    "\n",
    "# (Optional) Set the dots per inch resolution to 300\n",
    "gif.options.matplotlib[\"dpi\"] = 300\n",
    "\n",
    "# Decorate a plot function with @gif.frame\n",
    "@gif.frame\n",
    "def plot(i):\n",
    "    xi = x[i*10:(i+1)*10]\n",
    "    yi = y[i*10:(i+1)*10]\n",
    "    plt.scatter(xi, yi)\n",
    "    plt.xlim((0, 100))\n",
    "    plt.ylim((0, 100))\n",
    "\n",
    "# Construct \"frames\"\n",
    "frames = [plot(i) for i in range(10)]\n",
    "\n",
    "# Save \"frames\" to gif with a specified duration (milliseconds) between each frame\n",
    "# gif.save(frames, 'example.gif', duration=50)"
   ]
  },
  {
   "cell_type": "markdown",
   "metadata": {},
   "source": []
  }
 ],
 "metadata": {
  "kernelspec": {
   "display_name": "ai",
   "language": "python",
   "name": "python3"
  },
  "language_info": {
   "codemirror_mode": {
    "name": "ipython",
    "version": 3
   },
   "file_extension": ".py",
   "mimetype": "text/x-python",
   "name": "python",
   "nbconvert_exporter": "python",
   "pygments_lexer": "ipython3",
   "version": "3.12.2"
  }
 },
 "nbformat": 4,
 "nbformat_minor": 2
}
