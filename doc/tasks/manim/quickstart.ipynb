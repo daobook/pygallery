{
 "cells": [
  {
   "cell_type": "markdown",
   "metadata": {},
   "source": [
    "# 快速上手 Manim\n",
    "\n",
    "传统上，制作技术概念的动画相当繁琐，因为要使动画足够精确以准确传达这些概念可能很困难。[Manim](https://github.com/ManimCommunity/manim) 利用 Python 的简洁性，通过编程生成动画，使得精确指定每个动画的运行方式变得方便。可以查看[示例图库](https://docs.manim.community/en/stable/examples.html)，获取一些灵感，了解如何使用 Manim 创建精美的图像和视频。\n",
    "\n",
    "```{note}\n",
    "在继续之前，请按照 [安装](https://docs.manim.community/en/stable/installation/conda.html) 部分的步骤安装 Manim，并确保其运行正常。有关在 JupyterLab 或 Jupyter Notebook 中使用 Manim 的信息，请参阅 [IPython 魔法命令 `%%manim` 的文档](https://docs.manim.community/en/stable/reference/manim.utils.ipython_magic.ManimMagic.html#manim.utils.ipython_magic.ManimMagic.manim)。\n",
    "```\n",
    "\n",
    "本快速入门指南将引导你使用 Manim 创建示例项目：用于精确程序化动画的动画引擎。\n",
    "\n",
    "首先，你将使用命令行界面创建 **Scene**（场景），这是 Manim 生成视频的类。在场景中，你将制作一个圆的动画。然后，你将添加另一个场景，展示一个正方形变形为圆的过程。这将是你初步了解 Manim 的动画能力。之后，你将学习如何定位多个数学对象（`Mobject`s）。最后，你将掌握 `.animate` 语法，这是强大的功能，可以动画化你用于修改 `Mobject`s 的方法。\n",
    "\n",
    "## 新建项目\n",
    "\n",
    "首先，创建新文件夹。在本指南中，将其命名为 `project`："
   ]
  },
  {
   "cell_type": "code",
   "execution_count": 1,
   "metadata": {},
   "outputs": [],
   "source": [
    "from pathlib import Path\n",
    "\n",
    "temp_dir = Path(\"./.temp\")\n",
    "(temp_dir/\"project\").mkdir(exist_ok=True)"
   ]
  },
  {
   "cell_type": "markdown",
   "metadata": {},
   "source": [
    "这个文件夹是你项目的 `./.temp` 目录。它包含 Manim 运行所需的所有文件，以及项目生成的任何输出。"
   ]
  },
  {
   "cell_type": "markdown",
   "metadata": {},
   "source": [
    "## **制作圆的动画**\n",
    "\n",
    "编写如下代码："
   ]
  },
  {
   "cell_type": "code",
   "execution_count": 2,
   "metadata": {},
   "outputs": [
    {
     "name": "stdout",
     "output_type": "stream",
     "text": [
      "Overwriting .temp/project/scene.py\n"
     ]
    }
   ],
   "source": [
    "%%file {temp_dir}/project/scene.py\n",
    "from manim import * # 这是使用 Manim 的推荐方式，因为脚本通常会使用 Manim 命名空间中的多个名称。\n",
    "# 导入了并使用了 ``Scene``、``Circle``、``PINK``和``Create``等类。\n",
    "\n",
    "class CreateCircle(Scene):\n",
    "    def construct(self):\n",
    "        circle = Circle()  # create a circle\n",
    "        circle.set_fill(PINK, opacity=0.5)  # set the color and transparency\n",
    "        self.play(Create(circle))  # show the circle on screen"
   ]
  },
  {
   "cell_type": "markdown",
   "metadata": {},
   "source": [
    "打开命令行，导航到你的项目文件夹，然后执行以下命令：\n",
    "```bash\n",
    "manim -pql scene.py CreateCircle\n",
    "```\n",
    "\n",
    "Manim 将输出渲染信息，然后创建 MP4 文件。你的默认视频播放器将播放该 MP4 文件，显示以下动画。\n",
    "\n",
    "```{eval-rst}\n",
    ".. manim:: CreateCircle\n",
    "   :hide_source:\n",
    "\n",
    "   class CreateCircle(Scene):\n",
    "       def construct(self): # 创建对象、在屏幕上显示它们，并对它们进行动画处理\n",
    "           circle = Circle()                   # 创建圆\n",
    "           circle.set_fill(PINK, opacity=0.5)  # 设置颜色和透明度\n",
    "           self.play(Create(circle))     # 在屏幕上显示圆\n",
    "```"
   ]
  },
  {
   "cell_type": "markdown",
   "metadata": {},
   "source": [
    "## 在 Sphinx 文档中嵌入\n",
    "\n",
    "在 Sphinx 项目的 `conf.py` 文件中，添加如下插件：\n",
    "\n",
    "```python\n",
    "extensions = [\n",
    "    \"manim.utils.docbuild.manim_directive\",\n",
    "    \"manim.utils.docbuild.autocolor_directive\",\n",
    "    \"manim.utils.docbuild.autoaliasattr_directive\",\n",
    "]\n",
    "```\n",
    "\n",
    "可以使用 `.. manim::` 指令来嵌入 Manim 场景。以下是基本示例：\n",
    "\n",
    "```rst\n",
    ".. manim:: MyScene\n",
    "\n",
    "    class MyScene(Scene):\n",
    "        def construct(self):\n",
    "            circle = Circle(color=BLUE, fill_opacity=0.5)\n",
    "            self.play(Create(circle))\n",
    "            self.wait()\n",
    "```\n",
    "\n",
    "`manim_directive` 支持多种选项，用于控制视频的渲染和显示方式。以下是一些常用的选项：\n",
    "\n",
    "- **`hide_source`**: 如果设置为 `True`，则不会在文档中显示源代码。\n",
    "- **`no_autoplay`**: 如果设置为 `True`，则视频不会自动播放。\n",
    "- **`quality`**: 控制视频的渲染质量，可选值为 `'low'`, `'medium'`, `'high'`, `'fourk'`。\n",
    "- **`save_as_gif`**: 如果设置为 `True`，则渲染为 GIF 文件。\n",
    "- **`save_last_frame`**: 如果设置为 `True`，则只渲染最后一帧的图像。\n",
    "\n",
    "示例：\n",
    "\n",
    "```rst\n",
    ".. manim:: MyScene\n",
    "    :hide_source:\n",
    "    :quality: high\n",
    "    :save_as_gif:\n",
    "\n",
    "    class MyScene(Scene):\n",
    "        def construct(self):\n",
    "            circle = Circle(color=BLUE, fill_opacity=0.5)\n",
    "            self.play(Create(circle))\n",
    "            self.wait()\n",
    "```\n",
    "\n",
    "```{tip}\n",
    "- 确保你的 Manim 场景类名在文档中是唯一的，以避免冲突。\n",
    "- 如果你在 Sphinx 文档中嵌入多个场景，确保每个场景的类名不同，以避免渲染错误。\n",
    "```\n",
    "\n",
    "## 在 Jupyter Notebook 中使用\n",
    "\n",
    "如果你在 Jupyter Notebook 中使用 Manim，可以使用魔法命令来渲染场景。\n",
    "\n",
    "行模式：\n",
    "```ipython\n",
    "%manim [CLI options] MyAwesomeScene\n",
    "```\n",
    "单元格模式：\n",
    "```\n",
    "%%manim [CLI options] MyAwesomeScene\n",
    "\n",
    "class MyAweseomeScene(Scene):\n",
    "    def construct(self):\n",
    "        ...\n",
    "```\n",
    "\n",
    "```{note}\n",
    "在笔记本中显示的渲染视频的最大宽度可以通过 `media_width` 配置选项进行配置。默认设置为 `25vw`，即当前视口宽度的 25%。为了让输出尽可能大，可以将 `config.media_width` 设置为 `\"100%\"`。\n",
    "\n",
    "`media_embed` 选项会将图像/视频输出嵌入到笔记本中。这通常是不希望的，因为它会使笔记本变得非常大，但在某些平台上是必需的（特别是 Google 的 CoLab，除非通过 `config.embed = False` 抑制，否则它会自动启用），并且在笔记本（或转换后的 HTML 文件）相对于视频位置移动的情况下也是需要的。使用场景包括使用 Sphinx 和 JupyterBook 构建文档。另请参阅 Sphinx 的 manim 指令。\n",
    "```\n",
    "\n",
    "首先，确保在一个单元格中输入 `import manim` 或 `from manim import *` 并执行它。\n",
    "\n",
    "典型的用于 Manim 的 Jupyter 笔记本单元格可能如下所示：\n",
    "```python\n",
    "%%manim -v WARNING --disable_caching -qm BannerExample\n",
    "\n",
    "config.media_width = \"75%\"\n",
    "config.media_embed = True\n",
    "\n",
    "class BannerExample(Scene):\n",
    "    def construct(self):\n",
    "        self.camera.background_color = \"#ece6e2\"\n",
    "        banner_large = ManimBanner(dark_theme=False).scale(0.7)\n",
    "        self.play(banner_large.create())\n",
    "        self.play(banner_large.expand())\n",
    "```"
   ]
  },
  {
   "cell_type": "markdown",
   "metadata": {},
   "source": [
    "执行此单元格将渲染并显示在单元格主体中定义的 `BannerExample` 场景。\n",
    "\n",
    "```{tip}\n",
    "如果你想隐藏包含输出进度条的红色框，可以将 `progress_bar` 配置选项设置为 `None`。这也可以通过传递 `--progress_bar None` 作为命令行标志来实现。\n",
    "```"
   ]
  },
  {
   "cell_type": "markdown",
   "metadata": {},
   "source": [
    "## 将正方形转换为圆\n",
    "\n",
    "在完成圆的动画之后，继续进行一些稍微复杂的内容。"
   ]
  },
  {
   "cell_type": "code",
   "execution_count": 3,
   "metadata": {},
   "outputs": [],
   "source": [
    "from manim import *"
   ]
  },
  {
   "cell_type": "code",
   "execution_count": 4,
   "metadata": {},
   "outputs": [
    {
     "data": {
      "text/html": [
       "<pre style=\"white-space:pre;overflow-x:auto;line-height:normal;font-family:Menlo,'DejaVu Sans Mono',consolas,'Courier New',monospace\">Manim Community <span style=\"color: #008000; text-decoration-color: #008000\">v0.18.1</span>\n",
       "\n",
       "</pre>\n"
      ],
      "text/plain": [
       "Manim Community \u001b[32mv0.\u001b[0m\u001b[32m18.1\u001b[0m\n",
       "\n"
      ]
     },
     "metadata": {},
     "output_type": "display_data"
    },
    {
     "name": "stderr",
     "output_type": "stream",
     "text": [
      "                                                                      \r"
     ]
    },
    {
     "data": {
      "text/html": [
       "<video src=\"media/jupyter/SquareToCircle@2024-12-17@15-32-00.mp4\" controls autoplay loop style=\"max-width: 25%;\"  >\n",
       "      Your browser does not support the <code>video</code> element.\n",
       "    </video>"
      ],
      "text/plain": [
       "<IPython.core.display.Video object>"
      ]
     },
     "metadata": {},
     "output_type": "display_data"
    }
   ],
   "source": [
    "%%manim -v WARNING --disable_caching -ql SquareToCircle\n",
    "\n",
    "config.media_width = \"25%\"\n",
    "config.media_embed = True\n",
    "\n",
    "class SquareToCircle(Scene):\n",
    "    def construct(self):\n",
    "        circle = Circle()  # 创建圆\n",
    "        circle.set_fill(PINK, opacity=0.5)  # 设置颜色和透明度\n",
    "\n",
    "        square = Square()  # 创建正方形\n",
    "        square.rotate(PI / 4)  # 旋转一定角度\n",
    "\n",
    "        self.play(Create(square))  # 动画显示正方形的创建\n",
    "        self.play(Transform(square, circle))  # 将正方形插值转换为圆\n",
    "        self.play(FadeOut(square))  # 淡出动画"
   ]
  },
  {
   "cell_type": "markdown",
   "metadata": {},
   "source": [
    "这个例子展示了Manim的主要功能之一：只需几行代码即可实现复杂且数学密集型的动画（例如在两个几何形状之间进行干净插值）。"
   ]
  },
  {
   "cell_type": "markdown",
   "metadata": {},
   "source": [
    "## 定位 ``Mobject``\n",
    "\n",
    "接下来，将介绍一些定位 ``Mobject`` 的基本技巧。"
   ]
  },
  {
   "cell_type": "code",
   "execution_count": 6,
   "metadata": {},
   "outputs": [
    {
     "data": {
      "text/html": [
       "<pre style=\"white-space:pre;overflow-x:auto;line-height:normal;font-family:Menlo,'DejaVu Sans Mono',consolas,'Courier New',monospace\">Manim Community <span style=\"color: #008000; text-decoration-color: #008000\">v0.18.1</span>\n",
       "\n",
       "</pre>\n"
      ],
      "text/plain": [
       "Manim Community \u001b[32mv0.\u001b[0m\u001b[32m18.1\u001b[0m\n",
       "\n"
      ]
     },
     "metadata": {},
     "output_type": "display_data"
    },
    {
     "name": "stderr",
     "output_type": "stream",
     "text": [
      "                                                                                   \r"
     ]
    },
    {
     "data": {
      "text/html": [
       "<video src=\"media/jupyter/SquareAndCircle@2024-12-17@15-38-20.mp4\" controls autoplay loop style=\"max-width: 25%;\"  >\n",
       "      Your browser does not support the <code>video</code> element.\n",
       "    </video>"
      ],
      "text/plain": [
       "<IPython.core.display.Video object>"
      ]
     },
     "metadata": {},
     "output_type": "display_data"
    }
   ],
   "source": [
    "%%manim -v WARNING --disable_caching -ql SquareAndCircle\n",
    "\n",
    "config.media_embed = True\n",
    "config.media_width = \"25%\"\n",
    "\n",
    "class SquareAndCircle(Scene):\n",
    "    def construct(self):\n",
    "        circle = Circle()  # 创建一个圆\n",
    "        circle.set_fill(PINK, opacity=0.5)  # 设置颜色和透明度\n",
    "\n",
    "        square = Square()  # 创建一个正方形\n",
    "        square.set_fill(BLUE, opacity=0.5)  # 设置颜色和透明度\n",
    "\n",
    "        square.next_to(circle, RIGHT, buff=0.5)  # 设置位置\n",
    "        self.play(Create(circle), Create(square))  # 在屏幕上显示形状"
   ]
  },
  {
   "cell_type": "markdown",
   "metadata": {},
   "source": [
    "\n",
    "\n",
    "``next_to`` 是用于定位 ``Mobject`` 的 ``Mobject`` 方法。\n",
    "\n",
    "我们首先通过将 ``circle`` 作为方法的第一个参数，将粉色圆指定为正方形的参考点。\n",
    "第二个参数用于指定 ``Mobject`` 相对于参考点的放置方向。\n",
    "在本例中，我们将方向设置为 ``RIGHT``，告诉 Manim 将正方形放置在圆的右侧。\n",
    "最后，``buff=0.5`` 在两个对象之间应用了一个小的距离缓冲。\n",
    "\n",
    "尝试将 ``RIGHT`` 更改为 ``LEFT``、``UP`` 或 ``DOWN``，看看这如何改变正方形的位置。\n",
    "\n",
    "使用定位方法，您可以渲染包含多个 ``Mobject`` 的场景，\n",
    "通过坐标设置它们在场景中的位置，或将它们相对于彼此定位。"
   ]
  },
  {
   "cell_type": "markdown",
   "metadata": {},
   "source": [
    "## 使用 ``.animate`` 语法来动画化方法\n",
    "\n",
    "使用 ``.animate`` 用于动画化你对 ``Mobject`` 所做的更改。当你在任何修改 ``Mobject`` 的方法调用前加上 ``.animate`` 时，该方法就会变成可以被 ``self.play`` 播放的动画。回到 ``SquareToCircle``，看看在创建 ``Mobject`` 时使用方法与使用 ``.animate`` 动画化这些方法调用之间的区别。"
   ]
  },
  {
   "cell_type": "code",
   "execution_count": 8,
   "metadata": {},
   "outputs": [
    {
     "data": {
      "text/html": [
       "<pre style=\"white-space:pre;overflow-x:auto;line-height:normal;font-family:Menlo,'DejaVu Sans Mono',consolas,'Courier New',monospace\">Manim Community <span style=\"color: #008000; text-decoration-color: #008000\">v0.18.1</span>\n",
       "\n",
       "</pre>\n"
      ],
      "text/plain": [
       "Manim Community \u001b[32mv0.\u001b[0m\u001b[32m18.1\u001b[0m\n",
       "\n"
      ]
     },
     "metadata": {},
     "output_type": "display_data"
    },
    {
     "name": "stderr",
     "output_type": "stream",
     "text": [
      "                                                                                       \r"
     ]
    },
    {
     "data": {
      "text/html": [
       "<video src=\"media/jupyter/AnimatedSquareToCircle@2024-12-17@16-03-36.mp4\" controls autoplay loop style=\"max-width: 25%;\"  >\n",
       "      Your browser does not support the <code>video</code> element.\n",
       "    </video>"
      ],
      "text/plain": [
       "<IPython.core.display.Video object>"
      ]
     },
     "metadata": {},
     "output_type": "display_data"
    }
   ],
   "source": [
    "%%manim -v WARNING --disable_caching -ql AnimatedSquareToCircle\n",
    "\n",
    "config.media_width = \"25%\"\n",
    "config.media_embed = True\n",
    "\n",
    "class AnimatedSquareToCircle(Scene):\n",
    "    def construct(self):\n",
    "        circle = Circle()  # create a circle\n",
    "        square = Square()  # create a square\n",
    "\n",
    "        self.play(Create(square))  # show the square on screen\n",
    "        self.play(square.animate.rotate(PI / 4))  # rotate the square\n",
    "        self.play(Transform(square, circle))  # transform the square into a circle\n",
    "        self.play(\n",
    "            square.animate.set_fill(PINK, opacity=0.5)\n",
    "        )  # color the circle on screen"
   ]
  },
  {
   "cell_type": "markdown",
   "metadata": {},
   "source": [
    "第一个 ``self.play`` 创建了正方形。第二个动画化地将其旋转45度。第三个将正方形变形为圆形，最后一个将圆形着色为粉色。尽管最终结果与 ``SquareToCircle`` 相同，但 ``.animate`` 展示了 ``rotate`` 和 ``set_fill`` 方法动态地应用于 ``Mobject``，而不是在创建时就已经应用了这些变化。\n",
    "\n",
    "尝试其他方法，比如 ``flip`` 或 ``shift``，看看会发生什么。"
   ]
  },
  {
   "cell_type": "code",
   "execution_count": 9,
   "metadata": {},
   "outputs": [
    {
     "data": {
      "text/html": [
       "<pre style=\"white-space:pre;overflow-x:auto;line-height:normal;font-family:Menlo,'DejaVu Sans Mono',consolas,'Courier New',monospace\">Manim Community <span style=\"color: #008000; text-decoration-color: #008000\">v0.18.1</span>\n",
       "\n",
       "</pre>\n"
      ],
      "text/plain": [
       "Manim Community \u001b[32mv0.\u001b[0m\u001b[32m18.1\u001b[0m\n",
       "\n"
      ]
     },
     "metadata": {},
     "output_type": "display_data"
    },
    {
     "name": "stderr",
     "output_type": "stream",
     "text": [
      "                                                                                             \r"
     ]
    },
    {
     "data": {
      "text/html": [
       "<video src=\"media/jupyter/DifferentRotations@2024-12-17@16-04-45.mp4\" controls autoplay loop style=\"max-width: 25%;\"  >\n",
       "      Your browser does not support the <code>video</code> element.\n",
       "    </video>"
      ],
      "text/plain": [
       "<IPython.core.display.Video object>"
      ]
     },
     "metadata": {},
     "output_type": "display_data"
    }
   ],
   "source": [
    "%%manim -v WARNING --disable_caching -ql DifferentRotations\n",
    "\n",
    "config.media_width = \"25%\"\n",
    "config.media_embed = True\n",
    "\n",
    "class DifferentRotations(Scene):\n",
    "    def construct(self):\n",
    "        left_square = Square(color=BLUE, fill_opacity=0.7).shift(2 * LEFT)\n",
    "        right_square = Square(color=GREEN, fill_opacity=0.7).shift(2 * RIGHT)\n",
    "        self.play(\n",
    "            left_square.animate.rotate(PI), Rotate(right_square, angle=PI), run_time=2\n",
    "        )\n",
    "        self.wait()"
   ]
  },
  {
   "cell_type": "markdown",
   "metadata": {},
   "source": [
    "这个 ``Scene`` 展示了 ``.animate`` 的一些特性。当使用 ``.animate`` 时，Manim 实际上会获取一个 ``Mobject`` 的初始状态和最终状态，并在两者之间进行插值。在 ``AnimatedSquareToCircle`` 类中，你可以观察到这一点，当正方形旋转时：正方形的角在移动到变形所需的第一个正方形到第二个正方形的位置时，似乎会稍微收缩。\n",
    "\n",
    "在 ``DifferentRotations`` 中，``.animate`` 对旋转的解释与 ``Rotate`` 方法之间的差异更加明显。一个旋转180度的 ``Mobject`` 的初始状态和最终状态是相同的，因此 ``.animate`` 试图对两个相同的对象进行插值，结果就是左边的正方形。如果你发现你自己的 ``.animate`` 使用导致了类似的不良行为，可以考虑使用传统的动画方法，比如右边的正方形，它使用了 ``Rotate``。"
   ]
  },
  {
   "cell_type": "markdown",
   "metadata": {},
   "source": [
    "## ``Transform`` 与 ``ReplacementTransform``\n",
    "\n",
    "``Transform`` 和 ``ReplacementTransform`` 之间的区别在于，``Transform(mob1, mob2)`` 会将 ``mob1`` 的点（以及颜色等其他属性）转换为 ``mob2`` 的点/属性。\n",
    "\n",
    "而 ``ReplacementTransform(mob1, mob2)`` 则是直接将场景中的 ``mob1`` 替换为 ``mob2``。\n",
    "\n",
    "使用 ``ReplacementTransform`` 还是 ``Transform`` 主要取决于个人偏好。它们都可以用来实现相同的效果，如下所示。"
   ]
  },
  {
   "cell_type": "code",
   "execution_count": 11,
   "metadata": {},
   "outputs": [
    {
     "data": {
      "text/html": [
       "<pre style=\"white-space:pre;overflow-x:auto;line-height:normal;font-family:Menlo,'DejaVu Sans Mono',consolas,'Courier New',monospace\">Manim Community <span style=\"color: #008000; text-decoration-color: #008000\">v0.18.1</span>\n",
       "\n",
       "</pre>\n"
      ],
      "text/plain": [
       "Manim Community \u001b[32mv0.\u001b[0m\u001b[32m18.1\u001b[0m\n",
       "\n"
      ]
     },
     "metadata": {},
     "output_type": "display_data"
    },
    {
     "name": "stderr",
     "output_type": "stream",
     "text": [
      "                                                                                 \r"
     ]
    },
    {
     "data": {
      "text/html": [
       "<video src=\"media/jupyter/TwoTransforms@2024-12-17@18-44-17.mp4\" controls autoplay loop style=\"max-width: 25%;\"  >\n",
       "      Your browser does not support the <code>video</code> element.\n",
       "    </video>"
      ],
      "text/plain": [
       "<IPython.core.display.Video object>"
      ]
     },
     "metadata": {},
     "output_type": "display_data"
    }
   ],
   "source": [
    "%%manim -v WARNING --disable_caching -ql TwoTransforms\n",
    "\n",
    "config.media_width = \"25%\"\n",
    "config.media_embed = True\n",
    "\n",
    "class TwoTransforms(Scene):\n",
    "    def transform(self):\n",
    "        a = Circle()\n",
    "        b = Square()\n",
    "        c = Triangle()\n",
    "        self.play(Transform(a, b))\n",
    "        self.play(Transform(a, c))\n",
    "        self.play(FadeOut(a))\n",
    "\n",
    "    def replacement_transform(self):\n",
    "        a = Circle()\n",
    "        b = Square()\n",
    "        c = Triangle()\n",
    "        self.play(ReplacementTransform(a, b))\n",
    "        self.play(ReplacementTransform(b, c))\n",
    "        self.play(FadeOut(c))\n",
    "\n",
    "    def construct(self):\n",
    "        self.transform()\n",
    "        self.wait(0.5)  # wait for 0.5 seconds\n",
    "        self.replacement_transform()"
   ]
  },
  {
   "cell_type": "markdown",
   "metadata": {},
   "source": [
    "然而，在某些情况下，使用 ``Transform`` 更为有利，例如当你需要依次转换多个 mobject 时。下面的代码避免了必须保留对上一个被转换的 mobject 的引用的麻烦。"
   ]
  },
  {
   "cell_type": "code",
   "execution_count": 13,
   "metadata": {},
   "outputs": [
    {
     "data": {
      "text/html": [
       "<pre style=\"white-space:pre;overflow-x:auto;line-height:normal;font-family:Menlo,'DejaVu Sans Mono',consolas,'Courier New',monospace\">Manim Community <span style=\"color: #008000; text-decoration-color: #008000\">v0.18.1</span>\n",
       "\n",
       "</pre>\n"
      ],
      "text/plain": [
       "Manim Community \u001b[32mv0.\u001b[0m\u001b[32m18.1\u001b[0m\n",
       "\n"
      ]
     },
     "metadata": {},
     "output_type": "display_data"
    },
    {
     "name": "stderr",
     "output_type": "stream",
     "text": [
      "                                                                      \r"
     ]
    },
    {
     "data": {
      "text/html": [
       "<video src=\"media/jupyter/TransformCycle@2024-12-17@18-46-07.mp4\" controls autoplay loop style=\"max-width: 25%;\"  >\n",
       "      Your browser does not support the <code>video</code> element.\n",
       "    </video>"
      ],
      "text/plain": [
       "<IPython.core.display.Video object>"
      ]
     },
     "metadata": {},
     "output_type": "display_data"
    }
   ],
   "source": [
    "%%manim -v WARNING --disable_caching -ql TransformCycle\n",
    "config.media_embed = True\n",
    "config.media_width = \"25%\"\n",
    "class TransformCycle(Scene):\n",
    "    def construct(self):\n",
    "        a = Circle()\n",
    "        t1 = Square()\n",
    "        t2 = Triangle()\n",
    "        self.add(a)\n",
    "        self.wait()\n",
    "        for t in [t1,t2]:\n",
    "            self.play(Transform(a,t))"
   ]
  },
  {
   "cell_type": "code",
   "execution_count": null,
   "metadata": {},
   "outputs": [],
   "source": []
  }
 ],
 "metadata": {
  "kernelspec": {
   "display_name": "ai",
   "language": "python",
   "name": "python3"
  },
  "language_info": {
   "codemirror_mode": {
    "name": "ipython",
    "version": 3
   },
   "file_extension": ".py",
   "mimetype": "text/x-python",
   "name": "python",
   "nbconvert_exporter": "python",
   "pygments_lexer": "ipython3",
   "version": "3.12.2"
  }
 },
 "nbformat": 4,
 "nbformat_minor": 2
}
