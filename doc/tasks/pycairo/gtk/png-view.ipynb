{
 "cells": [
  {
   "cell_type": "markdown",
   "metadata": {},
   "source": [
    "# 展示 png 文件"
   ]
  },
  {
   "cell_type": "code",
   "execution_count": 1,
   "metadata": {},
   "outputs": [
    {
     "ename": "ModuleNotFoundError",
     "evalue": "No module named 'gi'",
     "output_type": "error",
     "traceback": [
      "\u001b[0;31m---------------------------------------------------------------------------\u001b[0m",
      "\u001b[0;31mModuleNotFoundError\u001b[0m                       Traceback (most recent call last)",
      "Cell \u001b[0;32mIn[1], line 4\u001b[0m\n\u001b[1;32m      1\u001b[0m \u001b[38;5;28;01mimport\u001b[39;00m \u001b[38;5;21;01msys\u001b[39;00m\n\u001b[1;32m      3\u001b[0m \u001b[38;5;28;01mimport\u001b[39;00m \u001b[38;5;21;01mcairo\u001b[39;00m\n\u001b[0;32m----> 4\u001b[0m \u001b[38;5;28;01mimport\u001b[39;00m \u001b[38;5;21;01mgi\u001b[39;00m\n\u001b[1;32m      5\u001b[0m gi\u001b[38;5;241m.\u001b[39mrequire_version(\u001b[38;5;124m\"\u001b[39m\u001b[38;5;124mGtk\u001b[39m\u001b[38;5;124m\"\u001b[39m, \u001b[38;5;124m\"\u001b[39m\u001b[38;5;124m3.0\u001b[39m\u001b[38;5;124m\"\u001b[39m)\n\u001b[1;32m      6\u001b[0m \u001b[38;5;28;01mfrom\u001b[39;00m \u001b[38;5;21;01mgi\u001b[39;00m\u001b[38;5;21;01m.\u001b[39;00m\u001b[38;5;21;01mrepository\u001b[39;00m \u001b[38;5;28;01mimport\u001b[39;00m Gtk\n",
      "\u001b[0;31mModuleNotFoundError\u001b[0m: No module named 'gi'"
     ]
    }
   ],
   "source": [
    "import sys\n",
    "\n",
    "import cairo\n",
    "import gi\n",
    "gi.require_version(\"Gtk\", \"3.0\")\n",
    "from gi.repository import Gtk\n",
    "\n",
    "\n",
    "def draw_event(widget, ctx, surface):\n",
    "    ctx.set_source_surface(surface, 0, 0)\n",
    "    ctx.paint()\n",
    "\n",
    "\n",
    "if len(sys.argv) != 2:\n",
    "    raise SystemExit('usage: png_view.py png_file')\n",
    "\n",
    "filename = sys.argv[1]\n",
    "\n",
    "surface = cairo.ImageSurface.create_from_png(filename)\n",
    "width = surface.get_width()\n",
    "height = surface.get_height()\n",
    "\n",
    "win = Gtk.Window()\n",
    "win.connect('destroy', Gtk.main_quit)\n",
    "\n",
    "drawingarea = Gtk.DrawingArea()\n",
    "win.add(drawingarea)\n",
    "drawingarea.connect('draw', draw_event, surface)\n",
    "drawingarea.set_size_request(width, height)\n",
    "\n",
    "win.show_all()\n",
    "Gtk.main()\n"
   ]
  },
  {
   "cell_type": "code",
   "execution_count": null,
   "metadata": {},
   "outputs": [],
   "source": []
  }
 ],
 "metadata": {
  "kernelspec": {
   "display_name": "ai",
   "language": "python",
   "name": "python3"
  },
  "language_info": {
   "codemirror_mode": {
    "name": "ipython",
    "version": 3
   },
   "file_extension": ".py",
   "mimetype": "text/x-python",
   "name": "python",
   "nbconvert_exporter": "python",
   "pygments_lexer": "ipython3",
   "version": "3.12.2"
  }
 },
 "nbformat": 4,
 "nbformat_minor": 2
}
