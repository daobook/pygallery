{
 "cells": [
  {
   "cell_type": "markdown",
   "metadata": {},
   "source": [
    "用 Python 介绍 Cairo\n",
    "====================================\n",
    "\n",
    "Cairo 是用于绘制矢量图形的库。矢量图形之所以有趣，是因为它们在缩放或变换时不会失去清晰度。\n",
    "\n",
    "Pycairo 是 Cairo 的一组绑定。它提供了 cairo 模块，可以用来从 Python 调用 Cairo 命令。\n",
    "\n",
    "\n",
    "理解如何使用 Cairo\n",
    "------------------------------\n",
    "\n",
    "理解如何使用 Cairo 的最佳方法是将你自己想象成艺术家，使用画笔在画布上绘制形状。\n",
    "\n",
    "首先，你可以选择画笔的几个特性。你可以选择画笔的粗细和你想要使用的颜色。你还可以选择画笔尖的形状——你可以选择圆形或方形。\n",
    "\n",
    "一旦你选择了画笔，你就可以开始绘画了。在描述你想要绘制的内容时，你需要非常精确。\n",
    "\n",
    "首先，决定你希望将画笔放在画布的哪个位置。你可以通过提供x和y坐标来实现这一点。接下来，你定义你希望画笔的笔触看起来是什么样子——弧形、直线等。最后，你定义你希望笔触结束的位置，同样通过提供x和y坐标。绘制三角形和正方形非常简单！\n",
    "\n",
    "更复杂的图形是通过上述主题的变体生成的，并添加了一些额外的功能，如填充（着色）、变换（缩放、移动）等。使用Python接口来使用Cairo。\n",
    "\n",
    "几乎所有的工作都围绕着使用: {class}`cairo.Context`（在 Cairo 的 C API 中称为 ``cairo_t``）。这是你发送绘图命令的对象。有几种不同的方式可以初始化这个对象。\n",
    "\n",
    "初始化 {class}`cairo.Context` 对象\n",
    "-------------------------------------\n",
    "\n",
    "* 非常重要的事情是，你需要意识到你描述图形时使用的坐标和你将要显示图形时使用的坐标之间是有区别的。\n",
    "\n",
    "  （例如——在演示时，你先在透明胶片上绘制，然后在投影仪上显示——Cairo称透明胶片为用户空间坐标，称投影图像为设备空间坐标）\n",
    "\n",
    "  在初始化Cairo上下文对象时，我们告诉它如何将我们的描述转换为应该如何显示。为此，我们提供了一个变换矩阵。修改变换矩阵可以导致一些非常有趣的结果。\n",
    "\n",
    "* Cairo最强大的功能之一是它可以以多种不同的格式输出图形（它可以使用多个后端）。对于打印，我们可以让Cairo将我们的图形转换为Postscript并发送到打印机。对于屏幕显示，我们可以让Cairo将我们的图形转换为glitz可以理解的格式，以实现硬件加速渲染！它还有许多其他重要且有用的目标后端。在初始化:class:`cairo.Context`时，我们设置它的目标后端，并提供一些细节（如颜色深度和大小），如下例所示。\n",
    "\n",
    "示例"
   ]
  },
  {
   "cell_type": "code",
   "execution_count": 2,
   "metadata": {},
   "outputs": [],
   "source": [
    "from pathlib import Path\n",
    "temp_dir = Path(\".temp/\")\n",
    "temp_dir.mkdir(exist_ok=True)"
   ]
  },
  {
   "cell_type": "code",
   "execution_count": 3,
   "metadata": {},
   "outputs": [],
   "source": [
    "import math\n",
    "import cairo\n",
    "\n",
    "WIDTH, HEIGHT = 256, 256\n",
    "\n",
    "surface = cairo.ImageSurface(cairo.FORMAT_ARGB32, WIDTH, HEIGHT)\n",
    "ctx = cairo.Context(surface)\n",
    "\n",
    "ctx.scale(WIDTH, HEIGHT)  # 规范化画布\n",
    "\n",
    "pat = cairo.LinearGradient(0.0, 0.0, 0.0, 1.0)\n",
    "pat.add_color_stop_rgba(1, 0.7, 0, 0, 0.5)  # 第一个停止点，50%不透明度\n",
    "pat.add_color_stop_rgba(0, 0.9, 0.7, 0.2, 1)  # 最后一个停止点，100%不透明度\n",
    "\n",
    "ctx.rectangle(0, 0, 1, 1)  # 矩形(x0, y0, x1, y1)\n",
    "ctx.set_source(pat)\n",
    "ctx.fill()\n",
    "\n",
    "ctx.translate(0.1, 0.1)  # 改变当前的变换矩阵\n",
    "\n",
    "ctx.move_to(0, 0)\n",
    "# 弧形(cx, cy, radius, start_angle, stop_angle)\n",
    "ctx.arc(0.2, 0.1, 0.1, -math.pi / 2, 0)\n",
    "ctx.line_to(0.5, 0.1)  # 直线到(x,y)\n",
    "# 曲线(x1, y1, x2, y2, x3, y3)\n",
    "ctx.curve_to(0.5, 0.2, 0.5, 0.4, 0.2, 0.8)\n",
    "ctx.close_path()\n",
    "\n",
    "ctx.set_source_rgb(0.3, 0.2, 0.5)  # 纯色\n",
    "ctx.set_line_width(0.02)\n",
    "ctx.stroke()\n",
    "\n",
    "surface.write_to_png(f\"{temp_dir}/example.png\")  # 输出到PNG文件"
   ]
  },
  {
   "cell_type": "code",
   "execution_count": 5,
   "metadata": {
    "tags": [
     "hide-input"
    ]
   },
   "outputs": [
    {
     "data": {
      "image/png": "[encoded data removed]",
      "text/plain": [
       "<IPython.core.display.Image object>"
      ]
     },
     "execution_count": 5,
     "metadata": {},
     "output_type": "execute_result"
    }
   ],
   "source": [
    "from IPython import display\n",
    "display.Image(f\"{temp_dir}/example.png\")"
   ]
  },
  {
   "cell_type": "markdown",
   "metadata": {},
   "source": [
    "## 查找 cairo 动态库"
   ]
  },
  {
   "cell_type": "code",
   "execution_count": 2,
   "metadata": {},
   "outputs": [],
   "source": [
    "def get_include_path():\n",
    "    import os\n",
    "    from importlib.util import find_spec\n",
    "    spec = find_spec(\"cairo\")\n",
    "    assert spec is not None\n",
    "    return os.path.join(os.path.dirname(spec.origin), 'include')"
   ]
  },
  {
   "cell_type": "code",
   "execution_count": 3,
   "metadata": {},
   "outputs": [
    {
     "data": {
      "text/plain": [
       "'/media/pc/data/lxw/envs/anaconda3a/envs/ai/lib/python3.12/site-packages/cairo/include'"
      ]
     },
     "execution_count": 3,
     "metadata": {},
     "output_type": "execute_result"
    }
   ],
   "source": [
    "get_include_path()"
   ]
  }
 ],
 "metadata": {
  "kernelspec": {
   "display_name": "ai",
   "language": "python",
   "name": "python3"
  },
  "language_info": {
   "codemirror_mode": {
    "name": "ipython",
    "version": 3
   },
   "file_extension": ".py",
   "mimetype": "text/x-python",
   "name": "python",
   "nbconvert_exporter": "python",
   "pygments_lexer": "ipython3",
   "version": "3.12.2"
  }
 },
 "nbformat": 4,
 "nbformat_minor": 2
}
