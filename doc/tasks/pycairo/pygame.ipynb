{
 "cells": [
  {
   "cell_type": "markdown",
   "metadata": {},
   "source": [
    "# 集成 Pygame"
   ]
  },
  {
   "cell_type": "markdown",
   "metadata": {},
   "source": [
    "从 ImageSurface 创建 {mod}`pygame.image`："
   ]
  },
  {
   "cell_type": "code",
   "execution_count": 1,
   "metadata": {},
   "outputs": [
    {
     "name": "stdout",
     "output_type": "stream",
     "text": [
      "pygame 2.6.1 (SDL 2.28.4, Python 3.12.2)\n",
      "Hello from the pygame community. https://www.pygame.org/contribute.html\n"
     ]
    }
   ],
   "source": [
    "import pygame\n",
    "import cairo\n",
    "\n",
    "width, height = 255, 255\n",
    "surface = cairo.ImageSurface(cairo.FORMAT_ARGB32, width, height)\n",
    "buf = surface.get_data()\n",
    "image = pygame.image.frombuffer(buf, (width, height), \"ARGB\")"
   ]
  },
  {
   "cell_type": "code",
   "execution_count": 2,
   "metadata": {},
   "outputs": [
    {
     "data": {
      "text/plain": [
       "<Surface(255x255x32 SW)>"
      ]
     },
     "execution_count": 2,
     "metadata": {},
     "output_type": "execute_result"
    }
   ],
   "source": [
    "image"
   ]
  },
  {
   "cell_type": "markdown",
   "metadata": {},
   "source": [
    "更多示例："
   ]
  },
  {
   "cell_type": "code",
   "execution_count": 3,
   "metadata": {},
   "outputs": [],
   "source": [
    "from pathlib import Path\n",
    "temp_dir = Path(\".temp/\")\n",
    "temp_dir.mkdir(exist_ok=True)"
   ]
  },
  {
   "cell_type": "code",
   "execution_count": 4,
   "metadata": {},
   "outputs": [
    {
     "name": "stdout",
     "output_type": "stream",
     "text": [
      "Overwriting .temp/pygame-demo.py\n"
     ]
    }
   ],
   "source": [
    "%%file {temp_dir}/pygame-demo.py\n",
    "#!/usr/bin/env python\n",
    "\"\"\"demonstrate pycairo and pygame\"\"\"\n",
    "import math\n",
    "import sys\n",
    "\n",
    "import cairo\n",
    "import pygame\n",
    "\n",
    "\n",
    "def draw(surface):\n",
    "    x, y, radius = (250, 250, 200)\n",
    "    ctx = cairo.Context(surface)\n",
    "    ctx.set_line_width(15)\n",
    "    ctx.arc(x, y, radius, 0, 2.0 * math.pi)\n",
    "    ctx.set_source_rgb(0.8, 0.8, 0.8)\n",
    "    ctx.fill_preserve()\n",
    "    ctx.set_source_rgb(1, 1, 1)\n",
    "    ctx.stroke()\n",
    "\n",
    "\n",
    "def input(events):\n",
    "    for event in events:\n",
    "        if event.type == pygame.QUIT:\n",
    "            sys.exit(0)\n",
    "        else:\n",
    "            print(event)\n",
    "\n",
    "\n",
    "def main():\n",
    "    width, height = 512, 512\n",
    "    surface = cairo.ImageSurface(cairo.FORMAT_ARGB32, width, height)\n",
    "\n",
    "    pygame.init()\n",
    "    pygame.display.set_mode((width, height))\n",
    "    screen = pygame.display.get_surface()\n",
    "\n",
    "    draw(surface)\n",
    "\n",
    "    # Create PyGame surface from Cairo Surface\n",
    "    buf = surface.get_data()\n",
    "    image = pygame.image.frombuffer(buf, (width, height), \"ARGB\")\n",
    "    # Tranfer to Screen\n",
    "    screen.blit(image, (0, 0))\n",
    "    pygame.display.flip()\n",
    "\n",
    "    while True:\n",
    "        input(pygame.event.get())\n",
    "\n",
    "\n",
    "if __name__ == \"__main__\":\n",
    "    main()"
   ]
  },
  {
   "cell_type": "code",
   "execution_count": null,
   "metadata": {},
   "outputs": [],
   "source": []
  }
 ],
 "metadata": {
  "kernelspec": {
   "display_name": "ai",
   "language": "python",
   "name": "python3"
  },
  "language_info": {
   "codemirror_mode": {
    "name": "ipython",
    "version": 3
   },
   "file_extension": ".py",
   "mimetype": "text/x-python",
   "name": "python",
   "nbconvert_exporter": "python",
   "pygments_lexer": "ipython3",
   "version": "3.12.2"
  }
 },
 "nbformat": 4,
 "nbformat_minor": 2
}
