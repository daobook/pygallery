{
 "cells": [
  {
   "cell_type": "markdown",
   "metadata": {},
   "source": [
    "# 集成 Pillow 库"
   ]
  },
  {
   "cell_type": "markdown",
   "metadata": {},
   "source": [
    "从 PIL 图像创建 ImageSurface："
   ]
  },
  {
   "cell_type": "markdown",
   "metadata": {},
   "source": [
    "```python\n",
    "import cairo\n",
    "import PIL.Image as Image\n",
    "\n",
    "def from_pil(im: Image, alpha: float=1.0, format: cairo.Format=cairo.FORMAT_ARGB32) -> cairo.ImageSurface:\n",
    "    \"\"\"\n",
    "    :param im: Pillow Image\n",
    "    :param alpha: 0..1 alpha to add to non-alpha images\n",
    "    :param format: Pixel format for output surface\n",
    "    \"\"\"\n",
    "    assert format in (\n",
    "        cairo.FORMAT_RGB24,\n",
    "        cairo.FORMAT_ARGB32,\n",
    "    ), f\"Unsupported pixel format: {format}\"\n",
    "    if 'A' not in im.getbands():\n",
    "        im.putalpha(int(alpha * 256.))\n",
    "    arr = bytearray(im.tobytes('raw', 'BGRa'))\n",
    "    surface = cairo.ImageSurface.create_for_data(arr, format, im.width, im.height)\n",
    "    return surface\n",
    "\n",
    "\n",
    "filename = 'test.jpeg'\n",
    "\n",
    "# Open image to an ARGB32 ImageSurface\n",
    "im = Image.open(filename)\n",
    "surface1 = from_pil(im)\n",
    "\n",
    "# Open image to an RGB24 ImageSurface\n",
    "im = Image.open(filename)\n",
    "surface2 = from_pil(im, format=cairo.FORMAT_RGB24)\n",
    "\n",
    "# Open image to an ARGB32 ImageSurface, 50% opacity\n",
    "im = Image.open(filename)\n",
    "surface3 = from_pil(im, alpha=0.5, format=cairo.FORMAT_ARGB32)\n",
    "```"
   ]
  },
  {
   "cell_type": "markdown",
   "metadata": {},
   "source": [
    "将 ImageSurface 转换为 PIL 图像："
   ]
  },
  {
   "cell_type": "markdown",
   "metadata": {},
   "source": [
    "```python\n",
    "import cairo\n",
    "import PIL.Image as Image\n",
    "\n",
    "def to_pil(surface: cairo.ImageSurface) -> Image:\n",
    "    format = surface.get_format()\n",
    "    size = (surface.get_width(), surface.get_height())\n",
    "    stride = surface.get_stride()\n",
    "\n",
    "    with surface.get_data() as memory:\n",
    "        if format == cairo.Format.RGB24:\n",
    "            return Image.frombuffer(\n",
    "                \"RGB\", size, memory.tobytes(),\n",
    "                'raw', \"BGRX\", stride)\n",
    "        elif format == cairo.Format.ARGB32:\n",
    "            return Image.frombuffer(\n",
    "                \"RGBA\", size, memory.tobytes(),\n",
    "                'raw', \"BGRa\", stride)\n",
    "        else:\n",
    "            raise NotImplementedError(repr(format))\n",
    "\n",
    "# Create an image surface from a PNG file (or any other source)\n",
    "surface = cairo.ImageSurface.create_from_png(\"test.png\")\n",
    "\n",
    "# Convert to a PIL Image\n",
    "im = to_pil(surface)\n",
    "\n",
    "# Use Pillow to store it as a JPEG\n",
    "im.save(\"result.jpg\")\n",
    "```\n"
   ]
  }
 ],
 "metadata": {
  "kernelspec": {
   "display_name": "ai",
   "language": "python",
   "name": "python3"
  },
  "language_info": {
   "codemirror_mode": {
    "name": "ipython",
    "version": 3
   },
   "file_extension": ".py",
   "mimetype": "text/x-python",
   "name": "python",
   "nbconvert_exporter": "python",
   "pygments_lexer": "ipython3",
   "version": "3.12.2"
  }
 },
 "nbformat": 4,
 "nbformat_minor": 2
}
