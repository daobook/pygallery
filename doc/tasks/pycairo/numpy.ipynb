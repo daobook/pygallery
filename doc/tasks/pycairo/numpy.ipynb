{
 "cells": [
  {
   "cell_type": "markdown",
   "metadata": {},
   "source": [
    "# 集成 NumPy"
   ]
  },
  {
   "cell_type": "markdown",
   "metadata": {},
   "source": [
    "从 NumPy 数组创建 ImageSurface："
   ]
  },
  {
   "cell_type": "code",
   "execution_count": 3,
   "metadata": {},
   "outputs": [
    {
     "data": {
      "text/plain": [
       "<cairo.ImageSurface at 0x7f008c2ab030>"
      ]
     },
     "execution_count": 3,
     "metadata": {},
     "output_type": "execute_result"
    }
   ],
   "source": [
    "import numpy\n",
    "import cairo\n",
    "\n",
    "width, height = 255, 255\n",
    "data = numpy.ndarray(shape=(height, width), dtype=numpy.uint32)\n",
    "surface = cairo.ImageSurface.create_for_data(\n",
    "    data, cairo.FORMAT_ARGB32, width, height\n",
    ")\n",
    "surface"
   ]
  },
  {
   "cell_type": "markdown",
   "metadata": {},
   "source": [
    "从 ImageSurface 创建 NumPy 数组："
   ]
  },
  {
   "cell_type": "code",
   "execution_count": 4,
   "metadata": {},
   "outputs": [],
   "source": [
    "import numpy\n",
    "import cairo\n",
    "\n",
    "width, height = 255, 255\n",
    "surface = cairo.ImageSurface(cairo.FORMAT_ARGB32, width, height)\n",
    "buf = surface.get_data()\n",
    "data = numpy.ndarray(shape=(height, width),\n",
    "                        dtype=numpy.uint32,\n",
    "                        buffer=buf)"
   ]
  }
 ],
 "metadata": {
  "kernelspec": {
   "display_name": "ai",
   "language": "python",
   "name": "python3"
  },
  "language_info": {
   "codemirror_mode": {
    "name": "ipython",
    "version": 3
   },
   "file_extension": ".py",
   "mimetype": "text/x-python",
   "name": "python",
   "nbconvert_exporter": "python",
   "pygments_lexer": "ipython3",
   "version": "3.12.2"
  }
 },
 "nbformat": 4,
 "nbformat_minor": 2
}
