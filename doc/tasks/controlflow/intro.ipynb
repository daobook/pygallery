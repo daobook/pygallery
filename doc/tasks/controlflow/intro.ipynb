{
 "cells": [
  {
   "cell_type": "markdown",
   "metadata": {},
   "source": [
    "# ControlFlow 简介\n",
    "\n",
    "[ControlFlow](https://github.com/PrefectHQ/ControlFlow) 是用于构建代理式人工智能工作流(agentic AI workflows)的 Python 框架。"
   ]
  },
  {
   "cell_type": "markdown",
   "metadata": {},
   "source": []
  }
 ],
 "metadata": {
  "language_info": {
   "name": "python"
  }
 },
 "nbformat": 4,
 "nbformat_minor": 2
}
