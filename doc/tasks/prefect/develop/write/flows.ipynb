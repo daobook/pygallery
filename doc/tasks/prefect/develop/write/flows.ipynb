{
 "cells": [
  {
   "cell_type": "markdown",
   "metadata": {},
   "source": [
    "# 编写并运行流\n",
    "\n",
    "学习定义和运行流的基础知识。"
   ]
  },
  {
   "cell_type": "code",
   "execution_count": null,
   "metadata": {},
   "outputs": [],
   "source": [
    "from pathlib import Path\n",
    "\n",
    "temp_dir = Path(\".temp\")\n",
    "# 创建临时目录\n",
    "if not temp_dir.exists():\n",
    "    temp_dir.mkdir(exist_ok=True)"
   ]
  },
  {
   "cell_type": "markdown",
   "metadata": {},
   "source": [
    "流(flow)是工作流(workflow)逻辑的容器。\n",
    "\n",
    "流被定义为 Python 函数。它们可以接受输入，执行任务，并返回结果。\n",
    "\n",
    "通过添加 `@flow` 装饰器，将任何 Python 函数变成 Prefect 流程：\n",
    "```python\n",
    "from prefect import flow\n",
    "\n",
    "\n",
    "@flow\n",
    "def my_flow() -> str:\n",
    "    return \"Hello, world!\"\n",
    "\n",
    "if __name__ == \"__main__\":\n",
    "    print(my_flow())\n",
    "```"
   ]
  },
  {
   "cell_type": "markdown",
   "metadata": {},
   "source": [
    "当函数转变为流程时，它获得了以下能力：\n",
    "\n",
    "- 自动跟踪有关[流运行](https://docs.prefect.io/v3/develop/write-flows#flow-runs)的元数据，例如运行时间和最终状态。\n",
    "- 记录流进入的每个[状态](https://docs.prefect.io/v3/develop/manage-states)。这使得您可以观察并[针对流执行中的每次转换](https://docs.prefect.io/v3/develop/manage-states#execute-code-on-state-changes)采取行动。\n",
    "- 输入参数可以作为工作流[参数](https://docs.prefect.io/#specify-flow-parameters)进行类型验证。\n",
    "- 在失败时可以进行[重试](https://docs.prefect.io/v3/develop/write-flows#retries)，并可配置延迟和重试限制。\n",
    "- 可以实施超时机制以防止意外的长时间运行的工作流。\n",
    "- 流可以被[部署](https://docs.prefect.io/v3/deploy/infrastructure-examples/docker)，从而暴露出用于远程交互的 API。"
   ]
  },
  {
   "cell_type": "markdown",
   "metadata": {},
   "source": [
    "流程通过名称来唯一标识。可以为该流程提供 `name` 参数值："
   ]
  },
  {
   "cell_type": "markdown",
   "metadata": {},
   "source": [
    "```python\n",
    "from prefect import flow\n",
    "\n",
    "@flow(name=\"My Flow\")\n",
    "def my_flow() -> str:\n",
    "    return \"Hello, world!\"\n",
    "```"
   ]
  },
  {
   "cell_type": "markdown",
   "metadata": {},
   "source": [
    "如果没有提供 `name`，Prefect 将使用流函数的名称。"
   ]
  },
  {
   "cell_type": "markdown",
   "metadata": {},
   "source": [
    "## 运行流\n",
    "\n",
    "流运行是指流的一次执行。\n",
    "\n",
    "通过调用其函数名称来创建流运行，就像调用普通的 Python 函数一样。\n",
    "\n",
    "您还可以通过以下方式创建流运行：\n",
    "\n",
    "- 使用外部调度器（如 `cron`）来调用流函数\n",
    "- 在 Prefect Cloud 或自托管的 Prefect 服务器中触发该流程的[部署](https://docs.prefect.io/v3/deploy/infrastructure-examples/docker)\n",
    "- 通过调度、Prefect 用户界面或 Prefect API 启动部署的流运行\n",
    "\n",
    "无论您如何运行您的流，Prefect 都会监控流运行，捕捉其状态以实现可观测性。您可以记录关于流运行的[各种元数据](https://docs.prefect.io/v3/develop/logging)，用于监控、故障排除和审计目的。"
   ]
  },
  {
   "cell_type": "markdown",
   "metadata": {},
   "source": [
    "以下示例使用 HTTPX 客户端库来获取有关 [Prefect 存储库 main 分支](https://github.com/PrefectHQ/prefect) 的统计数据。"
   ]
  },
  {
   "cell_type": "code",
   "execution_count": null,
   "metadata": {},
   "outputs": [],
   "source": [
    "%%file {temp_dir}/repo_info.py\n",
    "import httpx\n",
    "from prefect import flow\n",
    "\n",
    "\n",
    "@flow\n",
    "def get_repo_info():\n",
    "    url = \"https://api.github.com/repos/PrefectHQ/prefect\"\n",
    "    response = httpx.get(url)\n",
    "    response.raise_for_status()\n",
    "    repo = response.json()\n",
    "    print(\"PrefectHQ/prefect repository statistics 🤓:\")\n",
    "    print(f\"Stars 🌠 : {repo['stargazers_count']}\")\n",
    "    print(f\"Forks 🍴 : {repo['forks_count']}\")\n",
    "\n",
    "\n",
    "if __name__ == \"__main__\":\n",
    "    get_repo_info()"
   ]
  },
  {
   "cell_type": "markdown",
   "metadata": {},
   "source": [
    "执行此脚本后，将得到以下输出：\n",
    "```bash\n",
    "12:47:42.792 | INFO | prefect.engine - Created flow run 'ludicrous-warthog' for flow 'get-repo-info'\n",
    "PrefectHQ/prefect repository statistics 🤓:\n",
    "Stars 🌠 : 12146\n",
    "Forks 🍴 : 1245\n",
    "12:47:45.008 | INFO | Flow run 'ludicrous-warthog' - Finished in state Completed()\n",
    "```"
   ]
  },
  {
   "cell_type": "markdown",
   "metadata": {},
   "source": [
    "## 指定流参数\n",
    "\n",
    "正如任何 Python 函数一样，你可以向流传递参数，包括位置参数和关键字参数。这些在流函数上定义的参数被称为[参数](https://docs.prefect.io/v3/develop/write-flows#parameters)。它们由 Prefect 编排引擎存储在流运行对象上。\n",
    "\n",
    "Prefect 利用提供的任何类型提示自动对输入进行类型转换。类型提示提供了一种简单的方式来在你的流参数上强制执行类型检查，并且可以使用 [Pydantic](https://pydantic-docs.helpmanual.io/) 进行自定义。Prefect 支持任何 Pydantic 模型作为流参数的类型提示。\n",
    "\n",
    "例如，要自动将参数转换为 {mod}`datetime` 对象："
   ]
  },
  {
   "cell_type": "code",
   "execution_count": null,
   "metadata": {},
   "outputs": [],
   "source": [
    "%%file {temp_dir}/what_day_is_it.py\n",
    "from datetime import (\n",
    "    datetime,\n",
    "    timezone,\n",
    ")\n",
    "from prefect import flow\n",
    "\n",
    "\n",
    "@flow\n",
    "def what_day_is_it(date: datetime | None = None):\n",
    "    if date is None:\n",
    "        date = datetime.now(timezone.utc)\n",
    "    print(f\"It was {date.strftime('%A')} on {date.isoformat()}\")\n",
    "\n",
    "\n",
    "if __name__ == \"__main__\":\n",
    "    what_day_is_it(\"2021-01-01T02:00:19.180906\")\n"
   ]
  },
  {
   "cell_type": "markdown",
   "metadata": {},
   "source": [
    "当你运行这个流时，你将看到以下输出：\n",
    "```bash\n",
    "It was Friday on 2021-01-01T02:00:19.180906\n",
    "```"
   ]
  },
  {
   "cell_type": "markdown",
   "metadata": {},
   "source": [
    "您也可以传递 `BaseModel` 参数的 {data}`dict` 表示，并且它将被强制转换。"
   ]
  },
  {
   "cell_type": "code",
   "execution_count": null,
   "metadata": {},
   "outputs": [],
   "source": [
    "%%file {temp_dir}/dict_custom.py\n",
    "from prefect import flow\n",
    "from pydantic import BaseModel\n",
    "\n",
    "\n",
    "class Model(BaseModel):\n",
    "    a: int\n",
    "    b: str\n",
    "\n",
    "\n",
    "@flow\n",
    "def flow_that_validates_parameters(model: Model): ...\n",
    "\n",
    "if __name__ == \"__main__\":\n",
    "    flow_that_validates_parameters(\n",
    "        model={\"a\": \"WRONG\", \"b\": \"fine\"}\n",
    "    )\n"
   ]
  },
  {
   "cell_type": "markdown",
   "metadata": {},
   "source": [
    "这个流运行将因以下错误而失败：\n",
    "\n",
    "```bash\n",
    "Flow run received invalid parameters:\n",
    " - model.a: Input should be a valid integer, unable to parse string as an integer\n",
    "```"
   ]
  },
  {
   "cell_type": "markdown",
   "metadata": {},
   "source": [
    "请注意，您可以通过[部署](https://docs.prefect.io/v3/deploy)使用 API 为流提供参数值。发送到 API 的流运行参数在可能的情况下会被强制转换为适当的类型。"
   ]
  },
  {
   "cell_type": "markdown",
   "metadata": {},
   "source": [
    "```{admonition} Prefect API 需要关键字参数\n",
    ":class: tip\n",
    "\n",
    "使用 Prefect API 创建流程运行时，您在覆盖默认参数时必须指定参数名。传递的值不能是位置参数。\n",
    "```"
   ]
  },
  {
   "cell_type": "markdown",
   "metadata": {},
   "source": [
    "在执行流之前，会先对参数进行验证。如果部署的流程运行接收到无效参数，它将从待定状态直接转为失败状态，而不会进入运行状态。\n",
    "\n",
    "```{note}\n",
    "流量运行参数的大小不得超过512kb。\n",
    "```"
   ]
  },
  {
   "cell_type": "markdown",
   "metadata": {},
   "source": [
    "## 编排工作流\n",
    "\n",
    "在 Prefect 工作流中，流可以调用[任务](https://docs.prefect.io/v3/develop/write-tasks)，这是编排工作中最细微的单元。"
   ]
  },
  {
   "cell_type": "code",
   "execution_count": null,
   "metadata": {},
   "outputs": [],
   "source": [
    "from prefect import flow, task\n",
    "\n",
    "\n",
    "@task\n",
    "def print_hello(name):\n",
    "    print(f\"Hello {name}!\")\n",
    "\n",
    "\n",
    "@flow(name=\"Hello Flow\")\n",
    "def hello_world(name=\"world\"):\n",
    "    print_hello(name)\n"
   ]
  },
  {
   "cell_type": "markdown",
   "metadata": {},
   "source": [
    "单个流函数可以包含你所有工作流的代码。然而，如果你将所有的工作流逻辑都放在一个流函数中，并且任何一行代码出现故障，整个流程就会失败，并且必须从头开始重新尝试。你的工作流越细致划分，它们从失败中恢复的能力就越强，你也就能更容易地找到并修复问题。\n",
    "\n",
    "Perfect 任务非常适合使用分布式计算框架（如 Dask 或 Ray）进行并行或分布式执行。"
   ]
  },
  {
   "cell_type": "markdown",
   "metadata": {},
   "source": [
    "### 嵌套流\n",
    "\n",
    "除了在流中调用任务外，流还可以调用其他流。当一个流函数被另一个流程调用时，就会创建嵌套的流运行。当一个流调用另一个流时，调用流的运行被称为“父”运行，而被调用的流运行则被称为“子”运行。\n",
    "\n",
    "在用户界面中，每个子流运行都与其父流链接在一起，并且可以单独观察。\n",
    "\n",
    "对于大多数目的而言，嵌套的流运行表现得就像非嵌套的流运行一样。在后端中，嵌套的流运行有完整的表示，就好像它是单独被调用的一样。嵌套的流运行与普通的流运行不同之处在于，它们会将任何传递的任务未来结果解析为数据。这使得数据可以从父流程运行轻松地传递给嵌套的流运行。"
   ]
  },
  {
   "cell_type": "markdown",
   "metadata": {},
   "source": [
    "当嵌套流开始运行时，它会为其包含的任何任务创建新的[任务执行器](https://docs.prefect.io/v3/develop/task-runners)。当嵌套流完成时，这个任务执行器就会关闭。嵌套流会阻塞父级流的执行，直到其完成。然而，异步嵌套流可以与 [AnyIO 任务组](https://anyio.readthedocs.io/en/stable/tasks.html)或 {func}`asyncio.gather` 并发运行。\n",
    "\n",
    "嵌套运行之间的关系是通过在父级流中的特殊任务运行来记录的，它代表了子流运行。代表子流运行的任务运行的 `state_details` 字段包括 `child_flow_run_id`。嵌套流运行的 `state_details` 字段包括 `parent_task_run_id`。\n",
    "\n",
    "你可以在同一个文件中定义多个流。无论是本地运行还是通过[部署](https://docs.prefect.io/v3/deploy/infrastructure-examples/docker)运行，你都必须指明哪个流是流运行的入口点。"
   ]
  },
  {
   "cell_type": "markdown",
   "metadata": {},
   "source": [
    "```{warning}\n",
    "在不取消其父流运行的情况下，无法取消嵌套的流运行。如果您需要能够独立于其父流运行来取消嵌套的流运行，建议将其单独部署，并使用 [`run_deployment`](https://prefect-python-sdk-docs.netlify.app/prefect/deployments/flow_runs/#prefect.deployments.flow_runs.run_deployment) 方法启动它。\n",
    "```"
   ]
  },
  {
   "cell_type": "markdown",
   "metadata": {},
   "source": [
    "还可以在单独的模块中定义流或任务，并将它们导入以供使用\n",
    "\n",
    "```python\n",
    "from prefect import flow, task\n",
    "\n",
    "\n",
    "@flow(name=\"Nestedflow\")\n",
    "def my_nested_flow(msg):\n",
    "    print(f\"Nestedflow says: {msg}\")\n",
    "```"
   ]
  },
  {
   "cell_type": "markdown",
   "metadata": {},
   "source": [
    "这里有父流程，它导入并使用了 `my_nested_flow` 作为嵌套的子流程。"
   ]
  },
  {
   "cell_type": "code",
   "execution_count": null,
   "metadata": {},
   "outputs": [],
   "source": [
    "%%file {temp_dir}/hello.py\n",
    "\n",
    "from prefect import flow, task\n",
    "from myproject.flows import my_nested_flow\n",
    "\n",
    "\n",
    "@task(name=\"Print Hello\")\n",
    "def print_hello(name):\n",
    "    msg = f\"Hello {name}!\"\n",
    "    print(msg)\n",
    "    return msg\n",
    "\n",
    "\n",
    "@flow(name=\"Hello Flow\")\n",
    "def hello_world(name=\"world\"):\n",
    "    message = print_hello(name)\n",
    "    my_nested_flow(message)\n",
    "\n",
    "\n",
    "if __name__==\"__main__\":\n",
    "    hello_world(\"Marvin\")\n"
   ]
  },
  {
   "cell_type": "markdown",
   "metadata": {},
   "source": [
    "运行 `hello_world()` 流会创建如下的流执行：\n",
    "```bash\n",
    "08:24:06.617 | INFO    | prefect.engine - Created flow run 'sage-mongoose' for flow 'Hello Flow'\n",
    "08:24:06.620 | INFO    | prefect.engine - View at https://app.prefect.cloud/...\n",
    "08:24:07.113 | INFO    | Task run 'Print Hello-0' - Created task run 'Print Hello-0' for task 'Print Hello'\n",
    "Hello Marvin!\n",
    "08:24:07.445 | INFO    | Task run 'Print Hello-0' - Finished in state Completed()\n",
    "08:24:07.825 | INFO    | Flow run 'sage-mongoose' - Created subflow run 'powerful-capybara' for flow 'Nestedflow'\n",
    "08:24:07.826 | INFO    | prefect.engine - View at https://app.prefect.cloud/...\n",
    "Nestedflow says: Hello Marvin!\n",
    "08:24:08.165 | INFO    | Flow run 'powerful-capybara' - Finished in state Completed()\n",
    "08:24:08.296 | INFO    | Flow run 'sage-mongoose' - Finished in state Completed()\n",
    "```"
   ]
  },
  {
   "cell_type": "markdown",
   "metadata": {},
   "source": [
    "以下情况，你可能需要定义嵌套流而不是单独调用任务：\n",
    "\n",
    "- 可观测性：嵌套流，如同任何其他流运行一样，在 Prefect UI 和 Prefect Cloud 中具有一流的可观测性。你会在运行仪表板中看到嵌套流的状态，而无需深入特定流运行中的任务。请参阅[最终状态确定](https://docs.prefect.io/v3/develop/write-flows#final-state-determination)，以了解如何在流中使用任务状态的示例。\n",
    "- 条件流程：如果你有一组仅在特定条件下运行的任务，你可以将它们分组在嵌套流程中，并根据条件运行嵌套流程，而不是单独运行每个任务。\n",
    "- 参数化：流程对参数化提供了一流的支持，通过简单地向运行它们的嵌套流程传递不同的参数，可以轻松地在不同的使用案例中运行相同的任务组。\n",
    "- 任务运行器：嵌套流程允许你指定用于流程中任务的任务运行器。例如，为了优化 Dask 的某些任务的并行执行，将它们分组在使用 Dask 任务运行器的嵌套流程中。你可以为每个嵌套流程使用不同的任务运行器。"
   ]
  },
  {
   "cell_type": "markdown",
   "metadata": {},
   "source": [
    "## 支持的功能\n",
    "\n",
    "通过添加 `@flow` 装饰器，几乎所有标准 Python 函数都可以转变为 Prefect 流。默认情况下，流在主线程中执行，以便于进行原生 Python 调试和性能分析。\n",
    "\n",
    "如上例所示，流默认以同步方式运行。\n",
    "\n",
    "### 异步函数\n",
    "\n",
    "Prefect 也支持异步执行。生成的流程是协程，可以按照 [`async` Python 的标准规则](https://docs.python.org/3/library/asyncio-task.html)进行等待或并发运行。例如："
   ]
  },
  {
   "cell_type": "code",
   "execution_count": null,
   "metadata": {},
   "outputs": [],
   "source": [
    "%%file {temp_dir}/async_flow.py\n",
    "import asyncio\n",
    "from prefect import task, flow\n",
    "\n",
    "\n",
    "@task\n",
    "async def print_values(values):\n",
    "    for value in values:\n",
    "        await asyncio.sleep(1)\n",
    "        print(value, end=\" \")\n",
    "\n",
    "\n",
    "@flow\n",
    "async def async_flow():\n",
    "    print(\"Hello, I'm an async flow\")\n",
    "\n",
    "    # runs immediately\n",
    "    await print_values([1, 2])\n",
    "\n",
    "    # runs concurrently\n",
    "    coros = [print_values(\"abcd\"), print_values(\"6789\")]\n",
    "    await asyncio.gather(*coros)\n",
    "\n",
    "\n",
    "if __name__ == \"__main__\":\n",
    "    asyncio.run(async_flow())\n"
   ]
  },
  {
   "cell_type": "markdown",
   "metadata": {},
   "source": [
    "### 类方法\n",
    "\n",
    "Prefect 支持同步和异步的类方法，包括实例方法、类方法和静态方法。对于类方法和静态方法，请在 `@flow` 装饰器上方应用适当的方法装饰器："
   ]
  },
  {
   "cell_type": "code",
   "execution_count": 9,
   "metadata": {},
   "outputs": [
    {
     "name": "stdout",
     "output_type": "stream",
     "text": [
      "Writing .temp/class_meth.py\n"
     ]
    }
   ],
   "source": [
    "%%file {temp_dir}/class_meth.py\n",
    "from prefect import flow\n",
    "\n",
    "\n",
    "class MyClass:\n",
    "\n",
    "    @flow\n",
    "    def my_instance_method(self):\n",
    "        pass\n",
    "\n",
    "\n",
    "    @classmethod\n",
    "    @flow\n",
    "    def my_class_method(cls):\n",
    "        pass\n",
    "\n",
    "\n",
    "    @staticmethod\n",
    "    @flow\n",
    "    def my_static_method():\n",
    "        pass\n",
    "\n",
    "\n",
    "MyClass().my_instance_method()\n",
    "MyClass.my_class_method()\n",
    "MyClass.my_static_method()\n"
   ]
  },
  {
   "cell_type": "markdown",
   "metadata": {},
   "source": [
    "### 生成器\n",
    "\n",
    "Prefect 支持将同步和异步生成器作为流。只要生成器正在产出值，该流就被视为正在运行中。当生成器耗尽时，流则被认为已完成。由生成器产生的任何值都可以被其他流或任务所消费。"
   ]
  },
  {
   "cell_type": "code",
   "execution_count": 10,
   "metadata": {},
   "outputs": [
    {
     "name": "stdout",
     "output_type": "stream",
     "text": [
      "Writing .temp/gen.py\n"
     ]
    }
   ],
   "source": [
    "%%file {temp_dir}/gen.py\n",
    "from prefect import flow\n",
    "\n",
    "\n",
    "@flow\n",
    "def generator():\n",
    "    for i in range(10):\n",
    "        yield i\n",
    "\n",
    "@flow\n",
    "def consumer(x):\n",
    "    print(x)\n",
    "\n",
    "\n",
    "for val in generator():\n",
    "    consumer(val)\n"
   ]
  },
  {
   "cell_type": "markdown",
   "metadata": {},
   "source": [
    "````{admonition} 生成器在流返回时被消耗\n",
    ":class: warning\n",
    "\n",
    "\n",
    "完成流的结果必须是可序列化的，但生成器无法被序列化。因此，如果你从流中返回生成器，该生成器将被完全消耗，并且其产生的值将作为列表返回。如果生成器是无限的或非常大的，这可能导致意外行为或阻塞。\n",
    "\n",
    "以下是主动(proactive)生成器消耗的例子：\n",
    "```python\n",
    "from prefect import flow\n",
    "\n",
    "\n",
    "def gen():\n",
    "    yield from [1, 2, 3]\n",
    "    print('Generator consumed!')\n",
    "\n",
    "\n",
    "@flow\n",
    "def f():\n",
    "    return gen()\n",
    "\n",
    "\n",
    "f()  # prints 'Generator consumed!'\n",
    "```\n",
    "如果你需要在不消耗生成器的情况下将其返回，可以使用 `yield` 代替 `return`。从生成器流中产生的值不被视为最终结果，因此不会面临相同的序列化限制：\n",
    "\n",
    "```python\n",
    "from prefect import flow\n",
    "\n",
    "\n",
    "def gen():\n",
    "    yield from [1, 2, 3]\n",
    "    print('Generator consumed!')\n",
    "\n",
    "\n",
    "@flow\n",
    "def f():\n",
    "    yield gen\n",
    "\n",
    "\n",
    "generator = next(f())\n",
    "list(generator()) # prints 'Generator consumed!'\n",
    "```\n",
    "````"
   ]
  },
  {
   "cell_type": "markdown",
   "metadata": {},
   "source": [
    "## 流程运行\n",
    "\n",
    "一次流运行是指执行一次流。\n",
    "\n",
    "你可以通过手动调用流函数，或者使用外部调度器（如 `cron`）来触发流函数，从而创建一次流运行。大多数用户通过在 Prefect Cloud 或 Prefect 服务器上创建部署，然后通过调度、Prefect UI 或 Prefect API 为该[部署](https://docs.prefect.io/v3/deploy)调度一次流运行。\n",
    "\n",
    "无论你如何运行流，Prefect API 都会监控这次流运行，并记录用于监控、故障排查和审计的信息。"
   ]
  },
  {
   "cell_type": "markdown",
   "metadata": {},
   "source": [
    "## 流设置\n",
    "\n",
    "所有流都可以通过向装饰器传递参数来进行配置。流接受以下可选设置："
   ]
  },
  {
   "cell_type": "markdown",
   "metadata": {},
   "source": [
    "| 参数                                              | 描述                                                                                                                                                                                                                                      |\n",
    "| ------------------------------------------------ | -------------------------------------------------------------------------------------------------------------------------------------------------------------------------------------------------------------------------------------- |\n",
    "| `description`                                    | 流程的可选字符串描述。如果未提供，则从装饰函数的文档字符串中提取描述。                                                                                                                                                  |\n",
    "| `name`                                           | 流程的可选名称。如果未提供，则从函数中推断名称。                                                                                                                                                                        |\n",
    "| `retries`                                        | 在流程运行失败时重试的次数（可选）。                                                                                                                                                                                              |\n",
    "| <span class=\"no-wrap\">`retry_delay_seconds`</span> | 在失败后等待重新尝试流程的时间（以秒为单位）（仅当 `retries` 不为零时适用）。                                                                                                                                            |\n",
    "| `flow_run_name`                                  | 用于区分此流程运行的可选名称；该名称可以作为包含流程参数变量的字符串模板提供；也可以提供一个返回字符串的函数来提供此名称。                                                                                                  |\n",
    "| `task_runner`                                    | 用于在流程内执行任务时使用的任务运行器（可选）。如果在提交任务时未提供，并且使用了 `.submit()` 方法，则使用 `ThreadPoolTaskRunner`。                                                                                           |\n",
    "| `timeout_seconds`                                | 指示流程最大运行时长的可选秒数。如果流程超过此时间限制，则标记为失败。流程执行可能会继续直到调用下一个任务。                                                                                                              |\n",
    "| `validate_parameters`                            | 布尔值，指示是否通过 Pydantic 验证传递给流程的参数。默认值为 `True`。                                                                                                                                                    |\n",
    "| `version`                                        | 流程的可选版本字符串。如果未提供，我们将尝试创建包含包装函数的文件的哈希值作为版本字符串。如果无法找到文件，版本将为 null。                                                                                                |"
   ]
  },
  {
   "cell_type": "markdown",
   "metadata": {},
   "source": [
    "例如，您可以提供 `name` 和 `description` 参数\n",
    "```python\n",
    "from prefect import flow\n",
    "\n",
    "\n",
    "@flow(\n",
    "    name=\"My Flow\", description=\"My flow with a name and description\", log_prints=True)\n",
    "def my_flow():\n",
    "    print(\"Hello, I'm a flow\")\n",
    "\n",
    "\n",
    "if __name__ == \"__main__\":\n",
    "    my_flow()\n",
    "```"
   ]
  },
  {
   "cell_type": "markdown",
   "metadata": {},
   "source": [
    "如果未提供 `description`，则使用流函数的文档字符串作为描述。\n",
    "\n",
    "您可以通过传递 `flow_run_name` 来区分不同的流运行。\n",
    "该参数接受字符串，可以包含对流参数的模板引用。\n",
    "名称使用 Python 的标准字符串格式化语法进行格式化：\n",
    "```python\n",
    "import datetime\n",
    "from prefect import flow\n",
    "\n",
    "\n",
    "@flow(flow_run_name=\"{name}-on-{date:%A}\")\n",
    "def my_flow(name: str, date: datetime.datetime):\n",
    "    pass\n",
    "\n",
    "\n",
    "# creates a flow run called 'marvin-on-Thursday'\n",
    "if __name__ == \"__main__\":\n",
    "    my_flow(name=\"marvin\", date=datetime.datetime.now(datetime.timezone.utc))\n",
    "```"
   ]
  },
  {
   "cell_type": "markdown",
   "metadata": {},
   "source": [
    "这个设置同样接受函数，该函数返回字符串作为流运行的名称\n",
    "```python\n",
    "import datetime\n",
    "from prefect import flow\n",
    "\n",
    "\n",
    "def generate_flow_run_name():\n",
    "    date = datetime.datetime.now(datetime.timezone.utc)\n",
    "    return f\"{date:%A}-is-a-nice-day\"\n",
    "\n",
    "\n",
    "@flow(flow_run_name=generate_flow_run_name)\n",
    "def my_flow(name: str):\n",
    "    pass\n",
    "\n",
    "\n",
    "# creates a flow run named 'Thursday-is-a-nice-day'\n",
    "if __name__ == \"__main__\":\n",
    "    my_flow(name=\"marvin\")\n",
    "```"
   ]
  },
  {
   "cell_type": "markdown",
   "metadata": {},
   "source": [
    "如果您需要获取关于流的信息，请使用 `prefect.runtime` 模块。例如：\n",
    "```python\n",
    "from prefect import flow\n",
    "from prefect.runtime import flow_run\n",
    "\n",
    "\n",
    "def generate_flow_run_name():\n",
    "    flow_name = flow_run.flow_name\n",
    "\n",
    "    parameters = flow_run.parameters\n",
    "    name = parameters[\"name\"]\n",
    "    limit = parameters[\"limit\"]\n",
    "\n",
    "    return f\"{flow_name}-with-{name}-and-{limit}\"\n",
    "\n",
    "\n",
    "@flow(flow_run_name=generate_flow_run_name)\n",
    "def my_flow(name: str, limit: int = 100):\n",
    "    pass\n",
    "\n",
    "\n",
    "# creates a flow run named 'my-flow-with-marvin-and-100'\n",
    "if __name__ == \"__main__\":\n",
    "    my_flow(name=\"marvin\")\n",
    "```"
   ]
  },
  {
   "cell_type": "markdown",
   "metadata": {},
   "source": [
    "请注意，`validate_parameters` 函数会检查输入值是否符合函数上标注的类型。\n",
    "在可能的情况下，值会被强制转换为正确的类型。\n",
    "例如，如果一个参数被定义为 `x: int` 并且传递了字符串 **\"5\"**，它将被解析为 `5`。\n",
    "如果设置为 `False`，则不会对流程参数执行验证。"
   ]
  },
  {
   "cell_type": "markdown",
   "metadata": {},
   "source": [
    "## 最终状态的确定\n",
    "\n",
    "状态是记录特定任务运行或流运行状况的档案。\n",
    "\n",
    "流程的最终状态由其返回值决定。以下规则适用：\n",
    "\n",
    "- 如果在流函数中直接抛出异常，则该流运行将被标记为失败（FAILED）。\n",
    "- 如果流返回手动创建的状态，它将被用作最终流运行的状态。这允许手动确定最终状态。\n",
    "- 如果流返回可迭代的状态集合，其中任何失败（FAILED）状态的存在都会导致运行被标记为失败。\n",
    "\n",
    "在没有错误的情况下，任何流程的返回都将被标记为“已完成”。\n",
    "\n",
    "````{warning}\n",
    "如果您通过编程方式操控状态，您可以创建一些情况，在这些情况下流中的任务可能会失败，但不会引发整个流运行的失败。例如：\n",
    "```python\n",
    "from prefect import flow, task \n",
    "\n",
    "\n",
    "@task \n",
    "def add_one(x):\n",
    "    return x + 1\n",
    "\n",
    "\n",
    "@flow \n",
    "def my_flow():\n",
    "    # avoided raising an exception via `return_state=True`\n",
    "    state = add_one(\"1\", return_state=True)\n",
    "    assert state.is_failed()\n",
    "\n",
    "    # the flow function returns successfully!\n",
    "    return\n",
    "```\n",
    "如果从流程函数中返回了`state`，则运行将被标记为 `FAILED`。\n",
    "````"
   ]
  },
  {
   "cell_type": "markdown",
   "metadata": {},
   "source": [
    "### 返回未来值\n",
    "\n",
    "如果流返回一个或多个 future，那么最终状态将根据底层状态来确定。\n",
    "```python\n",
    "from prefect import flow, task\n",
    "\n",
    "\n",
    "@task\n",
    "def always_fails_task():\n",
    "    raise ValueError(\"I fail successfully\")\n",
    "\n",
    "\n",
    "@task\n",
    "def always_succeeds_task():\n",
    "    print(\"I'm fail safe!\")\n",
    "    return \"success\"\n",
    "\n",
    "\n",
    "@flow\n",
    "def always_succeeds_flow():\n",
    "    x = always_fails_task.submit().result(raise_on_failure=False)\n",
    "    y = always_succeeds_task.submit(wait_for=[x])\n",
    "    return y\n",
    "\n",
    "\n",
    "if __name__ == \"__main__\":\n",
    "    always_succeeds_flow()\n",
    "```\n",
    "\n",
    "这个流运行以“完成”的最终状态结束，因为流返回了成功任务的未来值："
   ]
  },
  {
   "cell_type": "markdown",
   "metadata": {},
   "source": [
    "```bash\n",
    "18:35:24.965 | INFO    | prefect.engine - Created flow run 'whispering-guan' for flow 'always-succeeds-flow'\n",
    "18:35:25.204 | INFO    | Flow run 'whispering-guan' - Created task run 'always_fails_task-96e4be14-0' for task 'always_fails_task'\n",
    "18:35:25.205 | INFO    | Flow run 'whispering-guan' - Submitted task run 'always_fails_task-96e4be14-0' for execution.\n",
    "18:35:25.232 | ERROR   | Task run 'always_fails_task-96e4be14-0' - Encountered exception during execution:\n",
    "Traceback (most recent call last):\n",
    "  ...\n",
    "ValueError: I fail successfully\n",
    "18:35:25.265 | ERROR   | Task run 'always_fails_task-96e4be14-0' - Finished in state Failed('Task run encountered an exception.')\n",
    "18:35:25.289 | INFO    | Flow run 'whispering-guan' - Created task run 'always_succeeds_task-9c27db32-0' for task 'always_succeeds_task'\n",
    "18:35:25.289 | INFO    | Flow run 'whispering-guan' - Submitted task run 'always_succeeds_task-9c27db32-0' for execution.\n",
    "I'm fail safe!\n",
    "18:35:25.335 | INFO    | Task run 'always_succeeds_task-9c27db32-0' - Finished in state Completed()\n",
    "18:35:25.362 | INFO    | Flow run 'whispering-guan' - Finished in state Completed('All states completed.')\n",
    "```"
   ]
  },
  {
   "cell_type": "markdown",
   "metadata": {},
   "source": [
    "### 返回多个状态或者未来\n",
    "\n",
    "如果一个流程返回了多个状态或未来状态的混合，最终的状态将通过解析所有未来状态为确定状态，然后判断这些状态中是否有未 `COMPLETED` 的状态来确定。"
   ]
  },
  {
   "cell_type": "markdown",
   "metadata": {},
   "source": [
    "```python\n",
    "from prefect import task, flow\n",
    "\n",
    "\n",
    "@task\n",
    "def always_fails_task():\n",
    "    raise ValueError(\"I am bad task\")\n",
    "\n",
    "\n",
    "@task\n",
    "def always_succeeds_task():\n",
    "    return \"foo\"\n",
    "\n",
    "\n",
    "@flow\n",
    "def always_succeeds_flow():\n",
    "    return \"bar\"\n",
    "\n",
    "\n",
    "@flow\n",
    "def always_fails_flow():\n",
    "    x = always_fails_task()\n",
    "    y = always_succeeds_task()\n",
    "    z = always_succeeds_flow()\n",
    "    return x, y, z\n",
    "```\n",
    "\n",
    "执行 `always_fails_flow` 失败，原因在于返回的三个 future 中有一个失败了。请注意，每个返回的 future 的状态都包含在流程运行输出中："
   ]
  },
  {
   "cell_type": "markdown",
   "metadata": {},
   "source": [
    "```bash\n",
    "...\n",
    "20:57:52.438 | INFO    | Flow run 'unbiased-firefly' - Finished in state Completed()\n",
    "20:57:52.811 | ERROR   | Flow run 'impartial-gorilla' - Finished in state Failed('1/3 states failed.')\n",
    "Failed(message='1/3 states failed.', type=FAILED, result=(Failed(message='Task run encountered an exception.', type=FAILED, result=ValueError('I am bad task'), task_run_id=5fd4c697-7c4c-440d-8ebc-dd9c5bbf2245), Completed(message=None, type=COMPLETED, result='foo', task_run_id=df9b6256-f8ac-457c-ba69-0638ac9b9367), Completed(message=None, type=COMPLETED, result='bar', task_run_id=cfdbf4f1-dccd-4816-8d0f-128750017d0c)), flow_run_id=6d2ec094-001a-4cb0-a24e-d2051db6318d)\n",
    "```"
   ]
  },
  {
   "cell_type": "markdown",
   "metadata": {},
   "source": [
    "如果返回多个状态，它们必须被包含在 `set`、`list`或 `tuple` 中。"
   ]
  },
  {
   "cell_type": "markdown",
   "metadata": {},
   "source": [
    "### 运行手动状态\n",
    "\n",
    "如果流程返回手动创建的状态，那么最终状态将根据返回值来确定。"
   ]
  },
  {
   "cell_type": "markdown",
   "metadata": {},
   "source": [
    "```python\n",
    "from prefect import task, flow\n",
    "from prefect.states import Completed, Failed\n",
    "\n",
    "\n",
    "@task\n",
    "def always_fails_task():\n",
    "    raise ValueError(\"I fail successfully\")\n",
    "\n",
    "\n",
    "@task\n",
    "def always_succeeds_task():\n",
    "    print(\"I'm fail safe!\")\n",
    "    return \"success\"\n",
    "\n",
    "\n",
    "@flow\n",
    "def always_succeeds_flow():\n",
    "    x = always_fails_task.submit()\n",
    "    y = always_succeeds_task.submit()\n",
    "    if y.result() == \"success\":\n",
    "        return Completed(message=\"I am happy with this result\")\n",
    "    else:\n",
    "        return Failed(message=\"How did this happen!?\")\n",
    "\n",
    "\n",
    "if __name__ == \"__main__\":\n",
    "    always_succeeds_flow()\n",
    "```"
   ]
  },
  {
   "cell_type": "markdown",
   "metadata": {},
   "source": [
    "执行该流将得到以下结果："
   ]
  },
  {
   "cell_type": "markdown",
   "metadata": {},
   "source": [
    "```bash\n",
    "...\n",
    "ValueError: I fail successfully\n",
    "07:29:34.754 | INFO    | Task run 'always_succeeds_task-0' - Created task run 'always_succeeds_task-0' for task 'always_succeeds_task'\n",
    "07:29:34.848 | ERROR   | Task run 'always_fails_task-0' - Finished in state Failed('Task run encountered an exception ValueError: I fail successfully')\n",
    "I'm fail safe!\n",
    "07:29:35.086 | INFO    | Task run 'always_succeeds_task-0' - Finished in state Completed()\n",
    "07:29:35.225 | INFO    | Flow run 'hidden-butterfly' - Finished in state Completed('I am happy with this result')\n",
    "```"
   ]
  },
  {
   "cell_type": "markdown",
   "metadata": {},
   "source": [
    "如果流运行返回任何其他对象，则该运行被记录为 `COMPLETED`。\n",
    "\n",
    "#### 自定义命名状态\n",
    "\n",
    "您还可以创建自定义命名状态，以在流运行状态中提供更细致的分类。\n",
    "\n",
    "例如，可以创建 `Skipped` 状态，以指示某个流程运行已被跳过。"
   ]
  },
  {
   "cell_type": "markdown",
   "metadata": {},
   "source": [
    "```python\n",
    "from prefect import flow\n",
    "from prefect.states import Completed\n",
    "\n",
    "@flow\n",
    "def my_flow(work_to_do: bool):\n",
    "    if not work_to_do:\n",
    "        return Completed(message=\"No work to do 💤\", name=\"Skipped\")\n",
    "    else:\n",
    "        return Completed(message=\"Work was done 💪\")\n",
    "\n",
    "\n",
    "if __name__ == \"__main__\":\n",
    "    my_flow(work_to_do=False)\n",
    "```\n",
    "运行结果："
   ]
  },
  {
   "cell_type": "markdown",
   "metadata": {},
   "source": [
    "```bash\n",
    "15:26:49.644 | INFO    | Flow run 'liberal-zebra' - Finished in state Skipped('No work to do', type=COMPLETED)\n",
    "```\n"
   ]
  },
  {
   "cell_type": "markdown",
   "metadata": {},
   "source": [
    "## 重试\n",
    "\n",
    "在工作流中可能会遇到意外错误。例如，GitHub API 可能暂时不可用或受到速率限制。\n",
    "\n",
    "Prefect 可以在失败时自动重试流程运行。\n",
    "\n",
    "要启用重试功能，请将整数传递给流程的 `retries` 参数。如果流程运行失败，Prefect 将尝试最多重试 `retries` 次。\n",
    "\n",
    "如果流运行在最后一次重试时失败，Prefect 会将最终的流程运行状态记录为失败。\n",
    "\n",
    "可选地，可以通过向 `retry_delay_seconds` 传递整数来指定每次重试尝试之间等待的秒数。\n",
    "\n",
    "查看[事务](https://docs.prefect.io/v3/develop/transactions)处理部分，可以使您的流程更加健壮，并在需要时回滚操作。"
   ]
  }
 ],
 "metadata": {
  "kernelspec": {
   "display_name": "ai",
   "language": "python",
   "name": "python3"
  },
  "language_info": {
   "codemirror_mode": {
    "name": "ipython",
    "version": 3
   },
   "file_extension": ".py",
   "mimetype": "text/x-python",
   "name": "python",
   "nbconvert_exporter": "python",
   "pygments_lexer": "ipython3",
   "version": "3.12.7"
  }
 },
 "nbformat": 4,
 "nbformat_minor": 2
}
