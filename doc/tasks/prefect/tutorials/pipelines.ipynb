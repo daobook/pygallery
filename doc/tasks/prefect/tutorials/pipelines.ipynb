{
 "cells": [
  {
   "cell_type": "markdown",
   "metadata": {},
   "source": [
    "# 构建数据管道\n",
    "\n",
    "学习如何使用 Prefect 构建健壮且高效的数据管道。\n",
    "\n",
    "在本教程中，您将学习如何将此流程转变为健壮且高效的数据管道。现实世界是混乱的，而 Prefect 旨在应对这种混乱。\n",
    "\n",
    "- 您的 API请求可能会失败。\n",
    "- 您的 API 请求运行得太慢。\n",
    "- 您的 API 请求运行得太快，导致被限流。\n",
    "- 您浪费了时间和金钱重复运行相同的任务。\n",
    "\n",
    "与其在业务逻辑本身中解决这些问题，不如使用 Prefect 的内置功能来处理它们。"
   ]
  },
  {
   "cell_type": "code",
   "execution_count": 2,
   "metadata": {},
   "outputs": [],
   "source": [
    "from pathlib import Path\n",
    "\n",
    "temp_dir = Path(\".temp\")\n",
    "# 创建临时目录\n",
    "if not temp_dir.exists():\n",
    "    temp_dir.mkdir(exist_ok=True)"
   ]
  },
  {
   "cell_type": "markdown",
   "metadata": {},
   "source": [
    "## 失败重试\n",
    "\n",
    "你可以做出的第一个改进是在流程中加入重试机制。每当 HTTP 请求失败时，你可以在放弃之前尝试重新发送几次。"
   ]
  },
  {
   "cell_type": "code",
   "execution_count": 1,
   "metadata": {},
   "outputs": [],
   "source": [
    "import httpx\n",
    "from prefect import task\n",
    "\n",
    "@task(retries=3)\n",
    "def fetch_stats(github_repo: str):\n",
    "    \"\"\"Task 1: Fetch the statistics for a GitHub repo\"\"\"\n",
    "\n",
    "    api_response = httpx.get(f\"https://api.github.com/repos/{github_repo}\")\n",
    "    api_response.raise_for_status() # Force a retry if you don't get a 2xx status code\n",
    "    return api_response.json()\n"
   ]
  },
  {
   "cell_type": "markdown",
   "metadata": {},
   "source": [
    "完整示例："
   ]
  },
  {
   "cell_type": "code",
   "execution_count": 9,
   "metadata": {
    "tags": [
     "hide-cell"
    ]
   },
   "outputs": [
    {
     "name": "stdout",
     "output_type": "stream",
     "text": [
      "Writing .temp/retry_on_failure.py\n"
     ]
    }
   ],
   "source": [
    "%%file {temp_dir}/retry_on_failure.py\n",
    "import httpx\n",
    "\n",
    "from prefect import flow, task # Prefect flow and task decorators\n",
    "\n",
    "\n",
    "@flow(log_prints=True)\n",
    "def show_stars(github_repos: list[str]):\n",
    "    \"\"\"Flow: Show the number of stars that GitHub repos have\"\"\"\n",
    "\n",
    "    for repo in github_repos:\n",
    "        # Call Task 1\n",
    "        repo_stats = fetch_stats(repo)\n",
    "\n",
    "        # Call Task 2\n",
    "        stars = get_stars(repo_stats)\n",
    "\n",
    "        # Print the result\n",
    "        print(f\"{repo}: {stars} stars\")\n",
    "\n",
    "\n",
    "@task(retries=3)\n",
    "def fetch_stats(github_repo: str):\n",
    "    \"\"\"Task 1: Fetch the statistics for a GitHub repo\"\"\"\n",
    "\n",
    "    api_response = httpx.get(f\"https://api.github.com/repos/{github_repo}\")\n",
    "    api_response.raise_for_status() # Force a retry if you don't get a 2xx status code\n",
    "    return api_response.json()\n",
    "\n",
    "\n",
    "@task\n",
    "def get_stars(repo_stats: dict):\n",
    "    \"\"\"Task 2: Get the number of stars from GitHub repo statistics\"\"\"\n",
    "\n",
    "    return repo_stats['stargazers_count']\n",
    "\n",
    "\n",
    "# Run the flow\n",
    "if __name__ == \"__main__\":\n",
    "    show_stars([\n",
    "        \"PrefectHQ/prefect\",\n",
    "        \"pydantic/pydantic\",\n",
    "        \"huggingface/transformers\"\n",
    "    ])\n"
   ]
  },
  {
   "cell_type": "markdown",
   "metadata": {},
   "source": [
    "## 并行执行慢速任务\n",
    "\n",
    "如果单个 API 请求响应缓慢，你可以通过同时发起多个请求来在总体上加快速度。当你对任务调用 `submit` 方法时，该任务将被提交给任务执行器进行执行。"
   ]
  },
  {
   "cell_type": "code",
   "execution_count": 4,
   "metadata": {},
   "outputs": [],
   "source": [
    "from prefect import flow\n",
    "\n",
    "@flow(log_prints=True)\n",
    "def show_stars(github_repos: list[str]):\n",
    "    \"\"\"Flow: Show the number of stars that GitHub repos have\"\"\"\n",
    "\n",
    "    # Task 1: Make HTTP requests concurrently\n",
    "    repo_stats = []\n",
    "    for repo in github_repos:\n",
    "        repo_stats.append({\n",
    "            'repo': repo,\n",
    "            'task': fetch_stats.submit(repo) # Submit each task to a task runner\n",
    "        })\n",
    "\n",
    "    # Task 2: Once each concurrent task completes, show the results\n",
    "    for repo in repo_stats:\n",
    "        repo_name = repo['repo']\n",
    "        stars = get_stars(repo['task'].result()) # Block until the task has completed\n",
    "        print(f\"{repo_name}: {stars} stars\")\n"
   ]
  },
  {
   "cell_type": "markdown",
   "metadata": {},
   "source": [
    "完整示例："
   ]
  },
  {
   "cell_type": "code",
   "execution_count": 5,
   "metadata": {
    "tags": [
     "hide-cell"
    ]
   },
   "outputs": [
    {
     "name": "stdout",
     "output_type": "stream",
     "text": [
      "Writing .temp/slow_tasks.py\n"
     ]
    }
   ],
   "source": [
    "%%file {temp_dir}/slow_tasks.py\n",
    "import httpx\n",
    "\n",
    "from prefect import flow, task # Prefect flow and task decorators\n",
    "\n",
    "\n",
    "@flow(log_prints=True)\n",
    "def show_stars(github_repos: list[str]):\n",
    "    \"\"\"Flow: Show the number of stars that GitHub repos have\"\"\"\n",
    "\n",
    "    # Task 1: Make HTTP requests concurrently\n",
    "    repo_stats = []\n",
    "    for repo in github_repos:\n",
    "        repo_stats.append({\n",
    "            'repo': repo,\n",
    "            'task': fetch_stats.submit(repo) # Submit each task to a task runner\n",
    "        })\n",
    "\n",
    "    # Task 2: Once each concurrent task completes, show the results\n",
    "    for repo in repo_stats:\n",
    "        repo_name = repo['repo']\n",
    "        stars = get_stars(repo['task'].result()) # Block until the task has completed\n",
    "        print(f\"{repo_name}: {stars} stars\")\n",
    "\n",
    "\n",
    "@task\n",
    "def fetch_stats(github_repo: str):\n",
    "    \"\"\"Task 1: Fetch the statistics for a GitHub repo\"\"\"\n",
    "\n",
    "    return httpx.get(f\"https://api.github.com/repos/{github_repo}\").json()\n",
    "\n",
    "\n",
    "@task\n",
    "def get_stars(repo_stats: dict):\n",
    "    \"\"\"Task 2: Get the number of stars from GitHub repo statistics\"\"\"\n",
    "\n",
    "    return repo_stats['stargazers_count']\n",
    "\n",
    "\n",
    "# Run the flow\n",
    "if __name__ == \"__main__\":\n",
    "    show_stars([\n",
    "        \"PrefectHQ/prefect\",\n",
    "        \"pydantic/pydantic\",\n",
    "        \"huggingface/transformers\"\n",
    "    ])\n"
   ]
  },
  {
   "cell_type": "markdown",
   "metadata": {},
   "source": [
    "## 避免达到速率限制\n",
    "\n",
    "同时运行任务的后果是，你更有可能触及到你所使用的任何 API 的速率限制。为避免这种情况，可以使用 Prefect 设置全局并发限制。\n",
    "\n",
    "```bash\n",
    "# GitHub每小时限制 60 次非认证请求（约每秒0.016次请求）}}\n",
    "prefect gcl create github-api --limit 60 --slot-decay-per-second 0.016\n",
    "```"
   ]
  },
  {
   "cell_type": "markdown",
   "metadata": {},
   "source": [
    "现在，你可以在你的代码中使用这个全局并发限制了。"
   ]
  },
  {
   "cell_type": "code",
   "execution_count": 6,
   "metadata": {},
   "outputs": [],
   "source": [
    "from prefect import flow\n",
    "from prefect.concurrency.sync import rate_limit\n",
    "\n",
    "@flow(log_prints=True)\n",
    "def show_stars(github_repos: list[str]):\n",
    "    \"\"\"Flow: Show the number of stars that GitHub repos have\"\"\"\n",
    "\n",
    "    repo_stats = []\n",
    "    for repo in github_repos:\n",
    "        # Apply the concurrency limit to this loop\n",
    "        rate_limit(\"github-api\")\n",
    "\n",
    "        # Call Task 1\n",
    "        repo_stats.append({\n",
    "            'repo': repo,\n",
    "            'task': fetch_stats.submit(repo)\n",
    "        })\n",
    "\n",
    "        # ...\n"
   ]
  },
  {
   "cell_type": "markdown",
   "metadata": {},
   "source": [
    "完整代码："
   ]
  },
  {
   "cell_type": "code",
   "execution_count": 8,
   "metadata": {
    "tags": [
     "hide-cell"
    ]
   },
   "outputs": [
    {
     "name": "stdout",
     "output_type": "stream",
     "text": [
      "Writing .temp/rate_limit.py\n"
     ]
    }
   ],
   "source": [
    "%%file {temp_dir}/rate_limit.py\n",
    "import httpx\n",
    "\n",
    "from prefect import flow, task # Prefect flow and task decorators\n",
    "from prefect.concurrency.sync import rate_limit\n",
    "\n",
    "\n",
    "@flow(log_prints=True)\n",
    "def show_stars(github_repos: list[str]):\n",
    "    \"\"\"Flow: Show the number of stars that GitHub repos have\"\"\"\n",
    "\n",
    "    repo_stats = []\n",
    "    for repo in github_repos:\n",
    "        # Apply the concurrency limit to this loop\n",
    "        rate_limit(\"github-api\")\n",
    "\n",
    "        # Call Task 1\n",
    "        repo_stats.append({\n",
    "            'repo': repo,\n",
    "            'task': fetch_stats.submit(repo)\n",
    "        })\n",
    "\n",
    "        # Call Task 2\n",
    "        stars = get_stars(repo_stats)\n",
    "\n",
    "        # Print the result\n",
    "        print(f\"{repo}: {stars} stars\")\n",
    "\n",
    "\n",
    "@task\n",
    "def fetch_stats(github_repo: str):\n",
    "    \"\"\"Task 1: Fetch the statistics for a GitHub repo\"\"\"\n",
    "\n",
    "    return httpx.get(f\"https://api.github.com/repos/{github_repo}\").json()\n",
    "\n",
    "\n",
    "@task\n",
    "def get_stars(repo_stats: dict):\n",
    "    \"\"\"Task 2: Get the number of stars from GitHub repo statistics\"\"\"\n",
    "\n",
    "    return repo_stats['stargazers_count']\n",
    "\n",
    "\n",
    "# Run the flow\n",
    "if __name__ == \"__main__\":\n",
    "    show_stars([\n",
    "        \"PrefectHQ/prefect\",\n",
    "        \"pydantic/pydantic\",\n",
    "        \"huggingface/transformers\"\n",
    "    ])\n"
   ]
  },
  {
   "cell_type": "markdown",
   "metadata": {},
   "source": [
    "## 缓存任务结果\n",
    "\n",
    "为了提高效率，可以跳过那些已经执行过的任务。例如，如果你不想每天多次获取特定仓库的星标数量，你可以将这个结果缓存一天。"
   ]
  },
  {
   "cell_type": "code",
   "execution_count": 10,
   "metadata": {},
   "outputs": [],
   "source": [
    "from datetime import timedelta\n",
    "\n",
    "from prefect import task\n",
    "from prefect.cache_policies import INPUTS\n",
    "\n",
    "@task(cache_policy=INPUTS, cache_expiration=timedelta(days=1))\n",
    "def fetch_stats(github_repo: str):\n",
    "    \"\"\"Task 1: Fetch the statistics for a GitHub repo\"\"\"\n",
    "    # ...\n",
    "    "
   ]
  },
  {
   "cell_type": "markdown",
   "metadata": {},
   "source": [
    "完整代码："
   ]
  },
  {
   "cell_type": "code",
   "execution_count": 12,
   "metadata": {
    "tags": [
     "hide-cell"
    ]
   },
   "outputs": [
    {
     "name": "stdout",
     "output_type": "stream",
     "text": [
      "Writing .temp/cache_task.py\n"
     ]
    }
   ],
   "source": [
    "%%file {temp_dir}/cache_task.py\n",
    "from datetime import timedelta\n",
    "import httpx\n",
    "\n",
    "from prefect import flow, task # Prefect flow and task decorators\n",
    "from prefect.cache_policies import INPUTS\n",
    "\n",
    "\n",
    "@flow(log_prints=True)\n",
    "def show_stars(github_repos: list[str]):\n",
    "    \"\"\"Flow: Show the number of stars that GitHub repos have\"\"\"\n",
    "\n",
    "    for repo in github_repos:\n",
    "        # Call Task 1\n",
    "        repo_stats = fetch_stats(repo)\n",
    "\n",
    "        # Call Task 2\n",
    "        stars = get_stars(repo_stats)\n",
    "\n",
    "        # Print the result\n",
    "        print(f\"{repo}: {stars} stars\")\n",
    "\n",
    "\n",
    "@task(cache_policy=INPUTS, cache_expiration=timedelta(days=1))\n",
    "def fetch_stats(github_repo: str):\n",
    "    \"\"\"Task 1: Fetch the statistics for a GitHub repo\"\"\"\n",
    "\n",
    "    return httpx.get(f\"https://api.github.com/repos/{github_repo}\").json()\n",
    "\n",
    "\n",
    "@task\n",
    "def get_stars(repo_stats: dict):\n",
    "    \"\"\"Task 2: Get the number of stars from GitHub repo statistics\"\"\"\n",
    "\n",
    "    return repo_stats['stargazers_count']\n",
    "\n",
    "\n",
    "# Run the flow\n",
    "if __name__ == \"__main__\":\n",
    "    show_stars([\n",
    "        \"PrefectHQ/prefect\",\n",
    "        \"pydantic/pydantic\",\n",
    "        \"huggingface/transformers\"\n",
    "    ])\n"
   ]
  },
  {
   "cell_type": "markdown",
   "metadata": {},
   "source": [
    "## 运行改善后的任务\n",
    "\n",
    "应用了所有这些改进后，你的流程将呈现如下："
   ]
  },
  {
   "cell_type": "code",
   "execution_count": 15,
   "metadata": {},
   "outputs": [
    {
     "name": "stdout",
     "output_type": "stream",
     "text": [
      "Overwriting .temp/my_data_pipeline.py\n"
     ]
    }
   ],
   "source": [
    "%%file {temp_dir}/my_data_pipeline.py\n",
    "from datetime import timedelta\n",
    "import httpx\n",
    "\n",
    "from prefect import flow, task\n",
    "from prefect.cache_policies import INPUTS\n",
    "from prefect.concurrency.sync import rate_limit\n",
    "\n",
    "\n",
    "@flow(log_prints=True)\n",
    "def show_stars(github_repos: list[str]):\n",
    "    \"\"\"Flow: Show the number of stars that GitHub repos have\"\"\"\n",
    "\n",
    "    # Task 1: Make HTTP requests concurrently while respecting concurrency limits\n",
    "    repo_stats = []\n",
    "    for repo in github_repos:\n",
    "        rate_limit(\"github-api\")\n",
    "        repo_stats.append({\n",
    "            'repo': repo,\n",
    "            'task': fetch_stats.submit(repo) # Submit each task to a task runner\n",
    "        })\n",
    "\n",
    "    # Task 2: Once each concurrent task completes, show the results\n",
    "    for repo in repo_stats:\n",
    "        repo_name = repo['repo']\n",
    "        stars = get_stars(repo['task'].result()) # Block until the task has completed\n",
    "        print(f\"{repo_name}: {stars} stars\")\n",
    "\n",
    "\n",
    "@task(retries=3, cache_policy=INPUTS, cache_expiration=timedelta(days=1))\n",
    "def fetch_stats(github_repo: str):\n",
    "    \"\"\"Task 1: Fetch the statistics for a GitHub repo\"\"\"\n",
    "\n",
    "    api_response = httpx.get(f\"https://api.github.com/repos/{github_repo}\")\n",
    "    api_response.raise_for_status() # Force a retry if you don't get a 2xx status code\n",
    "    return api_response.json()\n",
    "\n",
    "\n",
    "@task\n",
    "def get_stars(repo_stats: dict):\n",
    "    \"\"\"Task 2: Get the number of stars from GitHub repo statistics\"\"\"\n",
    "\n",
    "    return repo_stats['stargazers_count']\n",
    "\n",
    "\n",
    "# Run the flow\n",
    "if __name__ == \"__main__\":\n",
    "    show_stars([\n",
    "        \"PrefectHQ/prefect\",\n",
    "        \"pydantic/pydantic\",\n",
    "        \"huggingface/transformers\"\n",
    "    ])\n"
   ]
  },
  {
   "cell_type": "markdown",
   "metadata": {},
   "source": [
    "执行两次流程：第一次运行任务并缓存结果，第二次从缓存中检索结果。\n",
    "\n",
    "```bash\n",
    "# Run the tasks and cache the results\n",
    "python my_data_pipeline.py\n",
    "\n",
    "# Retrieve the cached results\n",
    "python my_data_pipeline.py\n",
    "```"
   ]
  },
  {
   "cell_type": "markdown",
   "metadata": {},
   "source": [
    "第二次流程运行的终端输出应该如下所示：\n",
    "\n",
    "```bash\n",
    "09:08:12.265 | INFO    | prefect.engine - Created flow run 'laughing-nightingale' for flow 'show-stars'\n",
    "09:08:12.266 | INFO    | prefect.engine - View at http://127.0.0.1:4200/runs/flow-run/541864e8-12f7-4890-9397-b2ed361f6b20\n",
    "09:08:12.322 | INFO    | Task run 'fetch_stats-0c9' - Finished in state Cached(type=COMPLETED)\n",
    "09:08:12.359 | INFO    | Task run 'fetch_stats-e89' - Finished in state Cached(type=COMPLETED)\n",
    "09:08:12.360 | INFO    | Task run 'get_stars-b51' - Finished in state Completed()\n",
    "09:08:12.361 | INFO    | Flow run 'laughing-nightingale' - PrefectHQ/prefect: 17320 stars\n",
    "09:08:12.372 | INFO    | Task run 'fetch_stats-8ef' - Finished in state Cached(type=COMPLETED)\n",
    "09:08:12.374 | INFO    | Task run 'get_stars-08d' - Finished in state Completed()\n",
    "09:08:12.374 | INFO    | Flow run 'laughing-nightingale' - pydantic/pydantic: 186319 stars\n",
    "09:08:12.387 | INFO    | Task run 'get_stars-2af' - Finished in state Completed()\n",
    "09:08:12.387 | INFO    | Flow run 'laughing-nightingale' - huggingface/transformers: 134849 stars\n",
    "09:08:12.404 | INFO    | Flow run 'laughing-nightingale' - Finished in state Completed()\n",
    "```"
   ]
  }
 ],
 "metadata": {
  "kernelspec": {
   "display_name": "ai",
   "language": "python",
   "name": "python3"
  },
  "language_info": {
   "codemirror_mode": {
    "name": "ipython",
    "version": 3
   },
   "file_extension": ".py",
   "mimetype": "text/x-python",
   "name": "python",
   "nbconvert_exporter": "python",
   "pygments_lexer": "ipython3",
   "version": "3.12.7"
  }
 },
 "nbformat": 4,
 "nbformat_minor": 2
}
