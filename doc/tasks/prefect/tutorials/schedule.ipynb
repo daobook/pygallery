{
 "cells": [
  {
   "cell_type": "markdown",
   "metadata": {},
   "source": [
    "## 流程调度\n",
    "\n",
    "使用 Prefect 调度并运行流程。\n",
    "\n",
    "在本教程中，您将学习如何将该流程从本地机器上移出，并使用 Prefect 调度运行。"
   ]
  },
  {
   "cell_type": "code",
   "execution_count": 1,
   "metadata": {},
   "outputs": [],
   "source": [
    "from pathlib import Path\n",
    "\n",
    "temp_dir = Path(\".temp\")\n",
    "# 创建临时目录\n",
    "if not temp_dir.exists():\n",
    "    temp_dir.mkdir(exist_ok=True)"
   ]
  },
  {
   "cell_type": "markdown",
   "metadata": {},
   "source": [
    "## 发布代码到远程仓库\n",
    "\n",
    "首先，你需要将本地机器上的代码推送到远程仓库。比如：\n",
    "\n",
    "```bash\n",
    "https://github.com/prefecthq/demos.git\n",
    "```"
   ]
  },
  {
   "cell_type": "markdown",
   "metadata": {},
   "source": [
    "## 创建工作池\n",
    "\n",
    "在本地运行流程是很好的开始，但大多数使用案例都需要远程执行环境。[工作池](https://docs.prefect.io/v3/deploy/infrastructure-concepts/work-pools)是部署流程到远程基础设施最常见的接口。"
   ]
  },
  {
   "cell_type": "markdown",
   "metadata": {},
   "source": [
    "`````{tab-set}\n",
    "````{tab-item} 自托管\n",
    "将你的流程部署到自托管的Prefect服务器实例上，使用进程工作池(Process work pool)。所有提交给这个工作池的流程运行都将在本地子进程中进行（对于在远程基础设施上运行的其他类型的工作池，其创建机制类似）。 \n",
    "1. 创建 `Process` 工作池：\n",
    "```bash\n",
    "prefect work-pool create --type process my-work-pool\n",
    "```\n",
    "2. 请确认工作池是否存在\n",
    "```bash\n",
    "prefect work-pool ls\n",
    "```\n",
    "3. 启动 worker 以轮询工作池：\n",
    "```bash\n",
    "prefect worker start --pool my-work-pool\n",
    "```\n",
    "````\n",
    "````{tab-item} Prefect Cloud\n",
    "使用托管工作池将您的流程部署到 Prefect Cloud。\n",
    "1. 创建[受管理的工作池](https://docs.prefect.io/v3/deploy/infrastructure-concepts/work-pools)：\n",
    "```bash\n",
    "prefect work-pool create my-work-pool --type prefect:managed\n",
    "```\n",
    "2. 请在用户界面的工作池页面上查看您的新工作池。\n",
    "````\n",
    "`````"
   ]
  },
  {
   "cell_type": "markdown",
   "metadata": {},
   "source": [
    "```{note}\n",
    "也可以从其他[工作池类型](https://docs.prefect.io/concepts/work-pools#worker-types)中进行选择。\n",
    "```"
   ]
  },
  {
   "cell_type": "markdown",
   "metadata": {},
   "source": [
    "## 部署并调度流程\n",
    "\n",
    "部署用于确定流程何时、在何地以及如何运行。通过部署，流程被提升为具有自己 API 的远程可配置实体。要设置流程按照预定计划运行，您需要创建部署。"
   ]
  },
  {
   "cell_type": "markdown",
   "metadata": {},
   "source": [
    "1. 创建部署代码："
   ]
  },
  {
   "cell_type": "code",
   "execution_count": 2,
   "metadata": {},
   "outputs": [
    {
     "name": "stdout",
     "output_type": "stream",
     "text": [
      "Writing .temp/create_deployment.py\n"
     ]
    }
   ],
   "source": [
    "%%file {temp_dir}/create_deployment.py\n",
    "from prefect import flow\n",
    "\n",
    "# Source for the code to deploy (here, a GitHub repo)\n",
    "SOURCE_REPO=\"https://github.com/prefecthq/demos.git\"\n",
    "\n",
    "if __name__ == \"__main__\":\n",
    "    flow.from_source(\n",
    "        source=SOURCE_REPO,\n",
    "        entrypoint=\"my_gh_workflow.py:repo_info\", # Specific flow to run\n",
    "    ).deploy(\n",
    "        name=\"my-first-deployment\",\n",
    "        work_pool_name=\"my-work-pool\", # Work pool target\n",
    "        cron=\"* * * * *\", # Cron schedule (every minute)\n",
    "    )\n"
   ]
  },
  {
   "cell_type": "markdown",
   "metadata": {},
   "source": [
    "```{tip}\n",
    "您可以将流程代码存储在几乎任何 Prefect 能够访问的位置。有关更多详细信息，请查看[“流程代码存储位置”](https://docs.prefect.io/v3/deploy/infrastructure-concepts/store-flow-code)部分。\n",
    "```"
   ]
  },
  {
   "cell_type": "markdown",
   "metadata": {},
   "source": [
    "2. 执行脚本以创建部署环境：\n",
    "```bash\n",
    "python create_deployment.py\n",
    "```"
   ]
  },
  {
   "cell_type": "markdown",
   "metadata": {},
   "source": [
    "请检查日志以确保您的部署已成功创建\n",
    "```bash\n",
    "Successfully created/updated all deployments!\n",
    "______________________________________________________\n",
    "|                    Deployments                     |  \n",
    "______________________________________________________\n",
    "|    Name                       |  Status  | Details |\n",
    "______________________________________________________\n",
    "| repo-info/my-first-deployment | applied  |         |\n",
    "______________________________________________________\n",
    "```"
   ]
  },
  {
   "cell_type": "markdown",
   "metadata": {},
   "source": [
    "3. 调度部署的运行\n",
    "```bash\n",
    "prefect deployment run 'repo-info/my-first-deployment'\n",
    "```\n"
   ]
  },
  {
   "cell_type": "markdown",
   "metadata": {},
   "source": [
    "很快能在用户界面的 `Flow Run` 页面上看到流程运行图和日志。同时，日志也会实时传输到终端。"
   ]
  }
 ],
 "metadata": {
  "kernelspec": {
   "display_name": "ai",
   "language": "python",
   "name": "python3"
  },
  "language_info": {
   "codemirror_mode": {
    "name": "ipython",
    "version": 3
   },
   "file_extension": ".py",
   "mimetype": "text/x-python",
   "name": "python",
   "nbconvert_exporter": "python",
   "pygments_lexer": "ipython3",
   "version": "3.12.7"
  }
 },
 "nbformat": 4,
 "nbformat_minor": 2
}
