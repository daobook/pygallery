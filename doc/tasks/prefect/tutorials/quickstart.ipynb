{
 "cells": [
  {
   "cell_type": "markdown",
   "metadata": {},
   "source": [
    "# 快速上手 Prefect\n",
    "\n",
    "使用 Prefect，以最简单的方式编排和监控您的数据管道。"
   ]
  },
  {
   "cell_type": "code",
   "execution_count": 1,
   "metadata": {},
   "outputs": [],
   "source": [
    "from pathlib import Path\n",
    "\n",
    "temp_dir = Path(\".temp\")\n",
    "# 创建临时目录\n",
    "if not temp_dir.exists():\n",
    "    temp_dir.mkdir(exist_ok=True)"
   ]
  },
  {
   "cell_type": "markdown",
   "metadata": {},
   "source": [
    "Prefect 是编排和可观测性平台，它赋予开发者快速构建和扩展工作流的能力。在这个快速开始指南中，您将使用 Prefect 将以下 Python 脚本转换为可部署的工作流。"
   ]
  },
  {
   "cell_type": "code",
   "execution_count": 2,
   "metadata": {},
   "outputs": [
    {
     "name": "stdout",
     "output_type": "stream",
     "text": [
      "Writing .temp/my_script.py\n"
     ]
    }
   ],
   "source": [
    "%%file {temp_dir}/my_script.py\n",
    "import httpx\n",
    "\n",
    "\n",
    "def show_stars(github_repos: list[str]):\n",
    "    \"\"\"Show the number of stars that GitHub repos have\"\"\"\n",
    "\n",
    "    for repo in github_repos:\n",
    "        repo_stats = fetch_stats(repo)\n",
    "        stars = get_stars(repo_stats)\n",
    "        print(f\"{repo}: {stars} stars\")\n",
    "\n",
    "\n",
    "def fetch_stats(github_repo: str):\n",
    "    \"\"\"Fetch the statistics for a GitHub repo\"\"\"\n",
    "\n",
    "    return httpx.get(f\"https://api.github.com/repos/{github_repo}\").json()\n",
    "\n",
    "\n",
    "def get_stars(repo_stats: dict):\n",
    "    \"\"\"Get the number of stars from GitHub repo statistics\"\"\"\n",
    "\n",
    "    return repo_stats['stargazers_count']\n",
    "\n",
    "\n",
    "if __name__ == \"__main__\":\n",
    "    show_stars([\n",
    "        \"PrefectHQ/prefect\",\n",
    "        \"pydantic/pydantic\",\n",
    "        \"huggingface/transformers\"\n",
    "    ])\n"
   ]
  },
  {
   "cell_type": "markdown",
   "metadata": {},
   "source": [
    "## 连接至Prefect API\n",
    "\n",
    "连接到 Prefect API：\n",
    "\n",
    "`````{tab-set}\n",
    "````{tab-item} 自托管\n",
    "1. 启动本地 API 服务器 \n",
    "```bash\n",
    "prefect server start\n",
    "```\n",
    "2. 浏览器中打开位于 <http://localhost:4200> 的 Perfect 管理面板。\n",
    "````\n",
    "````{tab-item} Prefect Cloud\n",
    "1. 请访问 <https://app.prefect.cloud/> 并登录或创建免费的 Prefect Cloud 账户。\n",
    "2. 从开发环境中登录到 Prefect Cloud：\n",
    "```bash\n",
    "prefect cloud login\n",
    "```\n",
    "请使用网络浏览器登录，并在打开的浏览器窗口中点击 `Authorize` 按钮。\n",
    "\n",
    "您的命令行接口现在通过本地存储的 API 密钥与 Prefect 云账户进行身份验证，该密钥有效期为30天。\n",
    "\n",
    "如果您在使用基于浏览器的身份验证时遇到任何问题，您可以通过[手动创建的 API 密钥来进行身份验证](https://docs.prefect.io/v3/manage/cloud/manage-users/api-keys)。\n",
    "````\n",
    "`````"
   ]
  },
  {
   "cell_type": "markdown",
   "metadata": {},
   "source": [
    "## 将您的脚本转换为 Prefect 工作流\n",
    "\n",
    "装饰器是将 Python 脚本转换成工作流的最简单方法。\n",
    "\n",
    "1. 在脚本的入口点添加 `@flow` 装饰器。\n",
    "2. 在工作流调用的任何方法上添加 `@task` 装饰器。"
   ]
  },
  {
   "cell_type": "markdown",
   "metadata": {},
   "source": [
    "这将创建[流程](https://docs.prefect.io/v3/develop/write-flows)和相应的[任务](https://docs.prefect.io/v3/develop/write-tasks)。任务在执行前会接收到关于上游依赖项的元数据以及这些依赖项的状态信息。Perfect 在协调这些任务时，会记录下这些依赖关系和状态。"
   ]
  },
  {
   "cell_type": "code",
   "execution_count": 3,
   "metadata": {},
   "outputs": [
    {
     "name": "stdout",
     "output_type": "stream",
     "text": [
      "Writing .temp/my_workflow.py\n"
     ]
    }
   ],
   "source": [
    "%%file {temp_dir}/my_workflow.py\n",
    "import httpx\n",
    "\n",
    "from prefect import flow, task # Prefect flow and task decorators\n",
    "\n",
    "\n",
    "@flow(log_prints=True)\n",
    "def show_stars(github_repos: list[str]):\n",
    "    \"\"\"Flow: Show the number of stars that GitHub repos have\"\"\"\n",
    "\n",
    "    for repo in github_repos:\n",
    "        # Call Task 1\n",
    "        repo_stats = fetch_stats(repo)\n",
    "\n",
    "        # Call Task 2\n",
    "        stars = get_stars(repo_stats)\n",
    "\n",
    "        # Print the result\n",
    "        print(f\"{repo}: {stars} stars\")\n",
    "\n",
    "\n",
    "@task\n",
    "def fetch_stats(github_repo: str):\n",
    "    \"\"\"Task 1: Fetch the statistics for a GitHub repo\"\"\"\n",
    "\n",
    "    return httpx.get(f\"https://api.github.com/repos/{github_repo}\").json()\n",
    "\n",
    "\n",
    "@task\n",
    "def get_stars(repo_stats: dict):\n",
    "    \"\"\"Task 2: Get the number of stars from GitHub repo statistics\"\"\"\n",
    "\n",
    "    return repo_stats['stargazers_count']\n",
    "\n",
    "\n",
    "# Run the flow\n",
    "if __name__ == \"__main__\":\n",
    "    show_stars([\n",
    "        \"PrefectHQ/prefect\",\n",
    "        \"pydantic/pydantic\",\n",
    "        \"huggingface/transformers\"\n",
    "    ])\n"
   ]
  },
  {
   "cell_type": "markdown",
   "metadata": {},
   "source": [
    "```{note}\n",
    "在 `@flow` 装饰器提供的 `log_prints=True` 参数，会自动将函数内的所有打印语句转换为 INFO 级别的日志。\n",
    "```"
   ]
  },
  {
   "cell_type": "markdown",
   "metadata": {},
   "source": [
    "## 执行流程\n",
    "\n",
    "你可以像运行 Python 脚本那样运行 Prefect 流程\n",
    "\n",
    "```bash\n",
    "python my_workflow.py\n",
    "```\n"
   ]
  },
  {
   "cell_type": "markdown",
   "metadata": {},
   "source": [
    "您的终端输出应该与以下内容相似："
   ]
  },
  {
   "cell_type": "markdown",
   "metadata": {},
   "source": [
    "```bash\n",
    "08:21:31.335 | INFO    | prefect.engine - Created flow run 'attentive-kestrel' for flow 'show-stars'\n",
    "08:21:31.336 | INFO    | prefect.engine - View at http://127.0.0.1:4200/runs/flow-run/edf6866f-371d-4e51-a9e3-556a525b1146\n",
    "08:21:31.731 | INFO    | Task run 'fetch_stats-dce' - Finished in state Completed()\n",
    "08:21:31.775 | INFO    | Task run 'get_stars-585' - Finished in state Completed()\n",
    "08:21:31.776 | INFO    | Flow run 'attentive-kestrel' - PrefectHQ/prefect: 17318 stars\n",
    "08:21:32.089 | INFO    | Task run 'fetch_stats-e16' - Finished in state Completed()\n",
    "08:21:32.118 | INFO    | Task run 'get_stars-756' - Finished in state Completed()\n",
    "08:21:32.119 | INFO    | Flow run 'attentive-kestrel' - pydantic/pydantic: 186318 stars\n",
    "08:21:32.409 | INFO    | Task run 'fetch_stats-b62' - Finished in state Completed()\n",
    "08:21:32.440 | INFO    | Task run 'get_stars-8ad' - Finished in state Completed()\n",
    "08:21:32.441 | INFO    | Flow run 'attentive-kestrel' - huggingface/transformers: 134848 stars\n",
    "08:21:32.469 | INFO    | Flow run 'attentive-kestrel' - Finished in state Completed()\n",
    "```"
   ]
  },
  {
   "cell_type": "markdown",
   "metadata": {},
   "source": [
    "Prefect 能够自动追踪流程运行的状态并记录输出，这些信息可以直接在终端或用户界面中查看。"
   ]
  }
 ],
 "metadata": {
  "kernelspec": {
   "display_name": "ai",
   "language": "python",
   "name": "python3"
  },
  "language_info": {
   "codemirror_mode": {
    "name": "ipython",
    "version": 3
   },
   "file_extension": ".py",
   "mimetype": "text/x-python",
   "name": "python",
   "nbconvert_exporter": "python",
   "pygments_lexer": "ipython3",
   "version": "3.12.7"
  }
 },
 "nbformat": 4,
 "nbformat_minor": 2
}
