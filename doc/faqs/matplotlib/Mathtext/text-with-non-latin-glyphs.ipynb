{
 "cells": [
  {
   "cell_type": "markdown",
   "metadata": {},
   "source": [
    "# 带有非拉丁字形的文本\n",
    "\n",
    "自 v2.0 版本起，[默认字体](https://matplotlib.org/stable/users/prev_whats_new/dflt_style_changes.html#default-changes-font) DejaVu 包含许多西方字母的字形，但不包括其他脚本，如中文、韩文或日文。\n",
    "\n",
    "要将默认字体设置为支持所需代码点的字体，请在 `'font.family'` （推荐）或所需别名列表前添加字体名称。"
   ]
  },
  {
   "cell_type": "code",
   "execution_count": 1,
   "metadata": {},
   "outputs": [],
   "source": [
    "import matplotlib\n",
    "\n",
    "matplotlib.rcParams['font.family'] = ['DejaVu Sans', 'Noto Sans CJK JP', 'sans-serif']"
   ]
  },
  {
   "cell_type": "markdown",
   "metadata": {},
   "source": [
    "通用家族别名列表包含与 Matplotlib 一起提供的字体（因此它们有 100% 的被找到的机会），或大多数系统中极有可能存在的字体。\n",
    "\n",
    "设置自定义字体系列时，一个好的做法是将一个通用家族附加到字体系列列表中，作为最后的手段。\n",
    "\n",
    "您还可以在您的 `.matplotlibrc` 文件中进行设置：\n",
    "```\n",
    "font.family: Source Han Sans TW, Arial, sans-serif\n",
    "```"
   ]
  },
  {
   "cell_type": "markdown",
   "metadata": {},
   "source": [
    "要控制每个艺术家的字体使用，请使用文档中记录的 `Text` [属性与布局](https://matplotlib.org/stable/users/explain/text/text_props.html#text-props)中的 `name`、`fontname` 或 `fontproperties` 关键字参数。\n",
    "\n",
    "在 Linux 上，[`fc-list`](https://linux.die.net/man/1/fc-list) 可以是有用的工具来发现字体名称；例如"
   ]
  },
  {
   "cell_type": "code",
   "execution_count": 2,
   "metadata": {},
   "outputs": [
    {
     "name": "stdout",
     "output_type": "stream",
     "text": [
      "Noto Serif CJK JP\n",
      "Noto Serif CJK KR\n",
      "Noto Serif CJK HK\n",
      "AR PL UKai TW MBE\n",
      "Noto Serif CJK SC\n",
      "Noto Serif CJK TC\n",
      "Noto Sans Mono CJK SC\n",
      "Noto Sans Mono CJK TC\n",
      "Noto Sans Mono CJK JP\n",
      "Noto Sans Mono CJK HK\n",
      "Noto Sans Mono CJK KR\n",
      "AR PL UKai TW\n",
      "AR PL UKai HK\n",
      "文泉驿等宽正黑,WenQuanYi Zen Hei Mono,文泉驛等寬正黑\n",
      "AR PL UKai CN\n",
      "AR PL UMing TW MBE\n",
      "AR PL UMing HK\n",
      "AR PL UMing CN\n",
      "Droid Sans Fallback\n",
      "AR PL UMing TW\n",
      "Noto Sans CJK HK\n",
      "Noto Sans CJK KR\n",
      "文泉驿点阵正黑,WenQuanYi Zen Hei Sharp,文泉驛點陣正黑\n",
      "Noto Sans CJK JP\n",
      "Noto Sans CJK SC\n",
      "Noto Sans CJK TC\n",
      "文泉驿正黑,WenQuanYi Zen Hei,文泉驛正黑\n",
      "Fixed\n",
      "黑体,SimHei\n"
     ]
    }
   ],
   "source": [
    "!fc-list :lang=zh family"
   ]
  },
  {
   "cell_type": "markdown",
   "metadata": {},
   "source": [
    "```bash\n",
    "$ fc-list :lang=zh family\n",
    "Noto to Sans Mono CJK TC,Noto Sans Mono CJK TC Bold\n",
    "Noto Sans CJK TC,Noto Sans CJK TC Medium\n",
    "Noto Sans CJK TC,Noto Sans CJK TC DemiLight\n",
    "Noto Sans CJK KR,Noto Sans CJK KR Black\n",
    "Noto Sans CJK TC,Noto Sans CJK TC Black\n",
    "Noto Sans Mono CJK TC,Noto Sans Mono CJK TC Regular\n",
    "Noto Sans CJK SC,Noto Sans CJK SC Light\n",
    "```"
   ]
  }
 ],
 "metadata": {
  "kernelspec": {
   "display_name": "ai",
   "language": "python",
   "name": "python3"
  },
  "language_info": {
   "codemirror_mode": {
    "name": "ipython",
    "version": 3
   },
   "file_extension": ".py",
   "mimetype": "text/x-python",
   "name": "python",
   "nbconvert_exporter": "python",
   "pygments_lexer": "ipython3",
   "version": "3.12.2"
  }
 },
 "nbformat": 4,
 "nbformat_minor": 2
}
