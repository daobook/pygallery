{
 "cells": [
  {
   "cell_type": "markdown",
   "id": "75ac5749",
   "metadata": {},
   "source": [
    "# hello-cmake"
   ]
  },
  {
   "cell_type": "markdown",
   "id": "e67e7036",
   "metadata": {},
   "source": [
    "查看 cmake 版本："
   ]
  },
  {
   "cell_type": "code",
   "execution_count": 1,
   "id": "22df99be",
   "metadata": {},
   "outputs": [
    {
     "name": "stdout",
     "output_type": "stream",
     "text": [
      "cmake version 4.0.3\n",
      "\n",
      "CMake suite maintained and supported by Kitware (kitware.com/cmake).\n"
     ]
    }
   ],
   "source": [
    "!cmake --version"
   ]
  },
  {
   "cell_type": "markdown",
   "id": "450ae208",
   "metadata": {},
   "source": [
    "创建缓存目录"
   ]
  },
  {
   "cell_type": "code",
   "execution_count": 2,
   "id": "c180443a",
   "metadata": {},
   "outputs": [
    {
     "name": "stdout",
     "output_type": "stream",
     "text": [
      "/media/pc/data/lxw/ai/tao/doc/examples/cmake/01-basic/.temp/A-hello-cmake\n"
     ]
    }
   ],
   "source": [
    "temp_dir = \".temp/A-hello-cmake\"\n",
    "!mkdir -p {temp_dir}\n",
    "%cd {temp_dir}"
   ]
  },
  {
   "cell_type": "markdown",
   "id": "287d34fb",
   "metadata": {},
   "source": [
    "编写 C++ 脚本："
   ]
  },
  {
   "cell_type": "code",
   "execution_count": 3,
   "id": "285a6160",
   "metadata": {},
   "outputs": [
    {
     "name": "stdout",
     "output_type": "stream",
     "text": [
      "Writing main.cpp\n"
     ]
    }
   ],
   "source": [
    "%%file main.cpp\n",
    "#include <iostream>\n",
    "\n",
    "int main(int argc, char *argv[])\n",
    "{\n",
    "   std::cout << \"Hello CMake!\" << std::endl;\n",
    "   return 0;\n",
    "}"
   ]
  },
  {
   "cell_type": "markdown",
   "id": "6a9f723f",
   "metadata": {},
   "source": [
    "编写 `CMakeLists.txt`："
   ]
  },
  {
   "cell_type": "code",
   "execution_count": 4,
   "id": "316d8e65",
   "metadata": {},
   "outputs": [
    {
     "name": "stdout",
     "output_type": "stream",
     "text": [
      "Writing CMakeLists.txt\n"
     ]
    }
   ],
   "source": [
    "%%file CMakeLists.txt\n",
    "cmake_minimum_required(VERSION 3.15...4.0) # 设置 CMake 最小版本\n",
    "project (hello_cmake) # 设置项目名\n",
    "add_executable(hello_cmake main.cpp) # 添加可执行文件"
   ]
  },
  {
   "cell_type": "markdown",
   "id": "6763e382",
   "metadata": {},
   "source": [
    "使用外部构建，创建可以位于文件系统上任何位置的构建文件夹。所有临时构建和目标文件都位于此目录中，以保持源代码树的整洁。\n",
    "\n",
    "运行下述代码，新建 `build` 构建文件夹，并运行 `cmake` 命令："
   ]
  },
  {
   "cell_type": "code",
   "execution_count": 35,
   "id": "cb407acf",
   "metadata": {
    "tags": [
     "hide-output"
    ]
   },
   "outputs": [
    {
     "name": "stdout",
     "output_type": "stream",
     "text": [
      "-- The C compiler identification is GNU 15.1.0\n",
      "-- The CXX compiler identification is GNU 15.1.0\n",
      "-- Detecting C compiler ABI info\n",
      "-- Detecting C compiler ABI info - done\n",
      "-- Check for working C compiler: /media/pc/data/lxw/envs/anaconda3a/envs/xin/bin/cc - skipped\n",
      "-- Detecting C compile features\n",
      "-- Detecting C compile features - done\n",
      "-- Detecting CXX compiler ABI info\n",
      "-- Detecting CXX compiler ABI info - done\n",
      "-- Check for working CXX compiler: /media/pc/data/lxw/envs/anaconda3a/envs/xin/bin/c++ - skipped\n",
      "-- Detecting CXX compile features\n",
      "-- Detecting CXX compile features - done\n",
      "-- Configuring done (0.9s)\n",
      "-- Generating done (0.1s)\n",
      "-- Build files have been written to: /media/pc/data/lxw/ai/tao/doc/examples/cmake/01-basic/.temp/A-hello-cmake/build\n"
     ]
    }
   ],
   "source": [
    "!cmake -S. -B build -G Ninja"
   ]
  },
  {
   "cell_type": "markdown",
   "id": "b8985c62",
   "metadata": {},
   "source": [
    "然后调用该构建系统来实际编译/链接项目："
   ]
  },
  {
   "cell_type": "code",
   "execution_count": 36,
   "id": "3178385f",
   "metadata": {
    "tags": [
     "hide-output"
    ]
   },
   "outputs": [
    {
     "name": "stdout",
     "output_type": "stream",
     "text": [
      "[2/2] Linking CXX executable hello_cmake\u001b[Kcmake.dir/main.cpp.o\u001b[K\n"
     ]
    }
   ],
   "source": [
    "!cmake --build build # 等价于 ninja -C build"
   ]
  },
  {
   "cell_type": "markdown",
   "id": "168e0438",
   "metadata": {},
   "source": [
    "可以看到，`build` 文件夹下生成了许多二进制文件： "
   ]
  },
  {
   "cell_type": "code",
   "execution_count": 31,
   "id": "10e0ede2",
   "metadata": {},
   "outputs": [
    {
     "name": "stdout",
     "output_type": "stream",
     "text": [
      "build.ninja  CMakeCache.txt  CMakeFiles  cmake_install.cmake  hello_cmake\n"
     ]
    }
   ],
   "source": [
    "!ls build/"
   ]
  },
  {
   "cell_type": "markdown",
   "id": "ecbefb62",
   "metadata": {},
   "source": [
    "运行可执行文件："
   ]
  },
  {
   "cell_type": "code",
   "execution_count": 33,
   "id": "285ae15a",
   "metadata": {},
   "outputs": [
    {
     "name": "stdout",
     "output_type": "stream",
     "text": [
      "Hello CMake!\n"
     ]
    }
   ],
   "source": [
    "!./build/hello_cmake"
   ]
  },
  {
   "cell_type": "code",
   "execution_count": null,
   "id": "d2ba7ef9",
   "metadata": {},
   "outputs": [],
   "source": []
  }
 ],
 "metadata": {
  "kernelspec": {
   "display_name": "xin",
   "language": "python",
   "name": "python3"
  },
  "language_info": {
   "codemirror_mode": {
    "name": "ipython",
    "version": 3
   },
   "file_extension": ".py",
   "mimetype": "text/x-python",
   "name": "python",
   "nbconvert_exporter": "python",
   "pygments_lexer": "ipython3",
   "version": "3.12.11"
  }
 },
 "nbformat": 4,
 "nbformat_minor": 5
}
