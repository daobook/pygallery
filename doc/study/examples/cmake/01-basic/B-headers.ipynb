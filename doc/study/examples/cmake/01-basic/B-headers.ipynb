{
 "cells": [
  {
   "cell_type": "markdown",
   "id": "d44b8f7a",
   "metadata": {},
   "source": [
    "# 包含头文件"
   ]
  },
  {
   "cell_type": "markdown",
   "id": "1c601f5d",
   "metadata": {},
   "source": [
    "创建缓存目录"
   ]
  },
  {
   "cell_type": "code",
   "execution_count": 1,
   "id": "4cb77025",
   "metadata": {},
   "outputs": [
    {
     "name": "stdout",
     "output_type": "stream",
     "text": [
      "/media/pc/data/lxw/ai/tao/doc/examples/cmake/01-basic/.temp/B-hello-headers\n"
     ]
    }
   ],
   "source": [
    "temp_dir = \".temp/B-hello-headers\"\n",
    "!mkdir -p {temp_dir}/include {temp_dir}/src\n",
    "%cd {temp_dir}"
   ]
  },
  {
   "cell_type": "markdown",
   "id": "c1dc1071",
   "metadata": {},
   "source": [
    "创建头文件："
   ]
  },
  {
   "cell_type": "code",
   "execution_count": 2,
   "id": "be2ce4d2",
   "metadata": {},
   "outputs": [
    {
     "name": "stdout",
     "output_type": "stream",
     "text": [
      "Writing include/Hello.h\n"
     ]
    }
   ],
   "source": [
    "%%file include/Hello.h\n",
    "#ifndef __HELLO_H__\n",
    "#define __HELLO_H__\n",
    "\n",
    "class Hello\n",
    "{\n",
    "public:\n",
    "    void print();\n",
    "};\n",
    "\n",
    "#endif"
   ]
  },
  {
   "cell_type": "markdown",
   "id": "e1538167",
   "metadata": {},
   "source": [
    "创建源代码文件："
   ]
  },
  {
   "cell_type": "code",
   "execution_count": 3,
   "id": "641fe920",
   "metadata": {},
   "outputs": [
    {
     "name": "stdout",
     "output_type": "stream",
     "text": [
      "Writing src/Hello.cpp\n"
     ]
    }
   ],
   "source": [
    "%%file src/Hello.cpp\n",
    "#include <iostream>\n",
    "\n",
    "#include \"Hello.h\"\n",
    "\n",
    "void Hello::print()\n",
    "{\n",
    "    std::cout << \"Hello Headers!\" << std::endl;\n",
    "}"
   ]
  },
  {
   "cell_type": "markdown",
   "id": "e0faf959",
   "metadata": {},
   "source": [
    "创建主程序："
   ]
  },
  {
   "cell_type": "code",
   "execution_count": 4,
   "id": "ec9cf57d",
   "metadata": {},
   "outputs": [
    {
     "name": "stdout",
     "output_type": "stream",
     "text": [
      "Writing src/main.cpp\n"
     ]
    }
   ],
   "source": [
    "%%file src/main.cpp\n",
    "#include \"Hello.h\"\n",
    "\n",
    "int main(int argc, char *argv[])\n",
    "{\n",
    "    Hello hi;\n",
    "    hi.print();\n",
    "    return 0;\n",
    "}"
   ]
  },
  {
   "cell_type": "markdown",
   "id": "03af7ed0",
   "metadata": {},
   "source": [
    "编写 `CMakeLists.txt`："
   ]
  },
  {
   "cell_type": "markdown",
   "id": "9bc8557e",
   "metadata": {},
   "source": [
    "```cmake\n",
    "cmake_minimum_required(VERSION 3.15...4.0) # 最低CMake版本\n",
    "project (hello_headers) # 设置项目名\n",
    "# 创建变量，名字叫 SOURCE。它包含了所有的 cpp 文件链接\n",
    "set(SOURCES\n",
    "    src/Hello.cpp\n",
    "    src/main.cpp\n",
    ")\n",
    "\n",
    "# 用所有的源文件生成可执行文件，因为这里定义了 SOURCE 变量，所以就不需要罗列 cpp 文件了\n",
    "add_executable(hello_headers ${SOURCES})\n",
    "# 等价于命令：add_executable(hello_headers src/Hello.cpp src/main.cpp)\n",
    "\n",
    "# 设置在为该目标执行构建命令时应包含的目录\n",
    "# 运行g++时，这些目录将以 -I/目录/路径/ 的形式被包含进去\n",
    "target_include_directories(hello_headers\n",
    "    PRIVATE \n",
    "        ${PROJECT_SOURCE_DIR}/include\n",
    ")\n",
    "```"
   ]
  },
  {
   "cell_type": "markdown",
   "id": "a47db03f",
   "metadata": {},
   "source": [
    "- `PROJECT_SOURCE_DIR` 指项目顶层目录"
   ]
  },
  {
   "cell_type": "markdown",
   "id": "98c49875",
   "metadata": {},
   "source": [
    "`make VERBOSE=1` 打印详细信息："
   ]
  },
  {
   "cell_type": "code",
   "execution_count": 6,
   "id": "de600e5c",
   "metadata": {
    "tags": [
     "hide-output"
    ]
   },
   "outputs": [
    {
     "name": "stdout",
     "output_type": "stream",
     "text": [
      "-- The C compiler identification is GNU 15.1.0\n",
      "-- The CXX compiler identification is GNU 15.1.0\n",
      "-- Detecting C compiler ABI info\n",
      "-- Detecting C compiler ABI info - done\n",
      "-- Check for working C compiler: /media/pc/data/lxw/envs/anaconda3a/envs/xin/bin/cc - skipped\n",
      "-- Detecting C compile features\n",
      "-- Detecting C compile features - done\n",
      "-- Detecting CXX compiler ABI info\n",
      "-- Detecting CXX compiler ABI info - done\n",
      "-- Check for working CXX compiler: /media/pc/data/lxw/envs/anaconda3a/envs/xin/bin/c++ - skipped\n",
      "-- Detecting CXX compile features\n",
      "-- Detecting CXX compile features - done\n",
      "-- Configuring done (0.6s)\n",
      "-- Generating done (0.0s)\n",
      "-- Build files have been written to: /media/pc/data/lxw/ai/tao/doc/examples/cmake/01-basic/.temp/B-hello-headers/build\n",
      "[1/3] Building CXX object CMakeFiles/hello_headers.dir/src/main.cpp.o\n",
      "[2/3] Building CXX object CMakeFiles/hello_headers.dir/src/Hello.cpp.o\n",
      "[3/3] Linking CXX executable hello_headers\n"
     ]
    }
   ],
   "source": [
    "%%bash\n",
    "cmake -S. -B build -G Ninja\n",
    "cmake --build build"
   ]
  },
  {
   "cell_type": "markdown",
   "id": "276db390",
   "metadata": {},
   "source": [
    "## 各种可用变量"
   ]
  },
  {
   "cell_type": "markdown",
   "id": "f5cc11c5",
   "metadata": {},
   "source": [
    "| Variable | Info |\n",
    "|----------|------|\n",
    "| CMAKE_SOURCE_DIR | 根源码目录 |\n",
    "| CMAKE_CURRENT_SOURCE_DIR | 当前源码目录（使用子项目/子目录时） |\n",
    "| PROJECT_SOURCE_DIR | 当前 CMake 项目的源码目录 |\n",
    "| CMAKE_BINARY_DIR | 根构建目录（运行 cmake 命令的目录） |\n",
    "| CMAKE_CURRENT_BINARY_DIR | 当前所在构建目录 |\n",
    "| PROJECT_BINARY_DIR | 当前项目的构建目录 |"
   ]
  },
  {
   "cell_type": "markdown",
   "id": "09b64c4a",
   "metadata": {},
   "source": [
    "### 源文件变量(不建议！)\n",
    "\n",
    "创建包含源文件的变量，可以让你更清晰地管理这些文件，并轻松地将它们添加到多个命令中，例如 add_executable()函数。\n",
    "```cmake\n",
    "# Create a sources variable with a link to all cpp files to compile\n",
    "set(SOURCES\n",
    "    src/Hello.cpp\n",
    "    src/main.cpp\n",
    ")\n",
    "\n",
    "add_executable(${PROJECT_NAME} ${SOURCES})\n",
    "```\n",
    "\n",
    "在 SOURCES 变量中设置特定文件名的替代方法是使用 GLOB 命令通过通配符模式匹配来查找文件。\n",
    "\n",
    "```cmake\n",
    "file(GLOB SOURCES \"src/*.cpp\")\n",
    "```\n",
    "\n",
    "对于 modern CMake，不建议对源文件使用变量。不建议使用 glob。\n",
    "\n",
    "相反，通常直接在 `add_xxx` 函数中声明源文件。\n",
    "\n",
    "这对于 glob 命令尤其重要，如果添加新的源文件，这些命令可能不会始终为您显示正确的结果。在 CMake 中指定源文件的最佳方法是明确列出它们。"
   ]
  }
 ],
 "metadata": {
  "kernelspec": {
   "display_name": "xin",
   "language": "python",
   "name": "python3"
  },
  "language_info": {
   "codemirror_mode": {
    "name": "ipython",
    "version": 3
   },
   "file_extension": ".py",
   "mimetype": "text/x-python",
   "name": "python",
   "nbconvert_exporter": "python",
   "pygments_lexer": "ipython3",
   "version": "3.12.11"
  }
 },
 "nbformat": 4,
 "nbformat_minor": 5
}
