{
 "cells": [
  {
   "cell_type": "markdown",
   "id": "af0e368e",
   "metadata": {},
   "source": [
    "# telnetlib3\n",
    "\n",
    "参考：[telnetlib3](https://daobook.github.io/pygallery/topics/web/telnetlib3/intro.html)"
   ]
  },
  {
   "cell_type": "code",
   "execution_count": null,
   "id": "1ecd41ba",
   "metadata": {},
   "outputs": [],
   "source": [
    "# !pip install -q telnetlib3"
   ]
  },
  {
   "cell_type": "markdown",
   "id": "2672161f",
   "metadata": {},
   "source": [
    "使用提供基本战争游戏的流接口编写 Telnet 服务器："
   ]
  },
  {
   "cell_type": "code",
   "execution_count": null,
   "id": "0bd36727",
   "metadata": {},
   "outputs": [],
   "source": [
    "import telnetlib3\n",
    "\n",
    "async def shell(reader, writer):\n",
    "    writer.write('\\r\\nWould you like to play a game? ')\n",
    "    inp = await reader.read(1)\n",
    "    if inp:\n",
    "        writer.echo(inp)\n",
    "        writer.write('\\r\\nThey say the only way to win '\n",
    "                     'is to not play at all.\\r\\n')\n",
    "        await writer.drain()\n",
    "    writer.close()\n",
    "\n",
    "coro = telnetlib3.create_server(port=6023, shell=shell)\n",
    "# loop = asyncio.get_event_loop()\n",
    "# server = loop.run_until_complete(coro)\n",
    "# loop.run_until_complete(server.wait_closed())"
   ]
  },
  {
   "cell_type": "code",
   "execution_count": 3,
   "id": "933eaf75",
   "metadata": {},
   "outputs": [
    {
     "data": {
      "text/plain": [
       "<Server sockets=(<asyncio.TransportSocket fd=79, family=10, type=1, proto=6, laddr=('::', 6023, 0, 0)>, <asyncio.TransportSocket fd=82, family=2, type=1, proto=6, laddr=('0.0.0.0', 6023)>)>"
      ]
     },
     "execution_count": 3,
     "metadata": {},
     "output_type": "execute_result"
    }
   ],
   "source": [
    "await coro"
   ]
  },
  {
   "cell_type": "markdown",
   "id": "8d4a4d22",
   "metadata": {},
   "source": [
    "编写与该服务器玩战争游戏的 Telnet 客户端："
   ]
  },
  {
   "cell_type": "code",
   "execution_count": null,
   "id": "06613375",
   "metadata": {},
   "outputs": [],
   "source": [
    "import telnetlib3\n",
    "\n",
    "async def shell(reader, writer):\n",
    "    while True:\n",
    "        # read stream until '?' mark is found\n",
    "        outp = await reader.read(1024)\n",
    "        if not outp:\n",
    "            # End of File\n",
    "            break\n",
    "        elif '?' in outp:\n",
    "            # reply all questions with 'y'.\n",
    "            writer.write('y')\n",
    "\n",
    "        # display all server output\n",
    "        print(outp, flush=True)\n",
    "\n",
    "    # EOF\n",
    "    print()\n",
    "\n",
    "coro = telnetlib3.open_connection('localhost', 6023, shell=shell)"
   ]
  },
  {
   "cell_type": "code",
   "execution_count": null,
   "id": "c2950d38",
   "metadata": {},
   "outputs": [
    {
     "name": "stdout",
     "output_type": "stream",
     "text": [
      "\n",
      "Would you like to play a game? \n"
     ]
    },
    {
     "name": "stdout",
     "output_type": "stream",
     "text": [
      "y\n",
      "They say the only way to win is to not play at all.\n",
      "\n",
      "\n"
     ]
    }
   ],
   "source": [
    "reader, writer = await coro"
   ]
  },
  {
   "cell_type": "markdown",
   "id": "9d1323a2",
   "metadata": {},
   "source": [
    "## 测试"
   ]
  },
  {
   "cell_type": "code",
   "execution_count": null,
   "id": "49f66324",
   "metadata": {},
   "outputs": [],
   "source": [
    "import logging\n",
    "import io\n",
    "import os\n",
    "from dataclasses import dataclass\n",
    "import telnetlib3\n",
    "\n",
    "logging.basicConfig(level=logging.INFO)\n",
    "\n",
    "@dataclass\n",
    "class Telnet:\n",
    "    host: str = \"localhost\"\n",
    "    port: int = 23\n",
    "    username: str = os.getlogin()\n",
    "    password: str = \"\"\n",
    "    prompt: str = b\"$ \" # 系统的默认提示符\n",
    "\n",
    "    async def __call__(self, command, cols=800, rows=25, **kwargs):\n",
    "        with io.StringIO() as record: # 记录输出\n",
    "            # 连接到 Telnet 服务器\n",
    "            self.reader, self.writer = await telnetlib3.open_connection(self.host, self.port, cols=cols, rows=rows, **kwargs)\n",
    "            await self.login(self.reader, self.writer, record) # 登录\n",
    "            # logger.info(f\"登录:\\n{record.getvalue()}\")\n",
    "        with io.StringIO() as record: # 记录输出\n",
    "            # 执行命令\n",
    "            output = await self.execute(command, record)\n",
    "            logger.info(f\"执行命令:\\n{record.getvalue()}\")\n",
    "        # 退出\n",
    "        self.writer.write(\"exit\\n\")\n",
    "        # 关闭连接\n",
    "        self.writer.close()\n",
    "\n",
    "    async def execute(self, command, record):\n",
    "        \"\"\"执行命令\n",
    "        \"\"\"\n",
    "        self.writer.write(command + \"\\n\")\n",
    "        output = await self.reader.readuntil(self.prompt)\n",
    "        record.write(f\"{output.decode('ascii', errors='ignore')}\")\n",
    "\n",
    "    async def login(self, reader, writer, record):\n",
    "        # 等待登录提示（根据实际服务器调整）\n",
    "        login_prompt = await reader.readuntil(b\"login: \")\n",
    "        record.write(f\"{login_prompt.decode('ascii', errors='ignore')}\")\n",
    "        # 发送用户名\n",
    "        writer.write(self.username + \"\\n\")\n",
    "        # 等待密码提示\n",
    "        password_prompt = await reader.readuntil(b\"Password: \")\n",
    "        record.write(f\"{password_prompt.decode('ascii', errors='ignore')}\")\n",
    "        # 发送密码（注意：密码通常不会回显）\n",
    "        writer.write(self.password + \"\\n\")\n",
    "        # 等待登录完成（根据实际服务器调整提示符）\n",
    "        output = await reader.readuntil(self.prompt)\n",
    "        record.write(f\"{output.decode('ascii', errors='ignore')}\")\n",
    "        return record.getvalue()\n",
    "\n",
    "# 测试\n",
    "telnet = Telnet()\n",
    "# await telnet(\"ls\")"
   ]
  },
  {
   "cell_type": "code",
   "execution_count": null,
   "id": "d72de603",
   "metadata": {},
   "outputs": [],
   "source": []
  }
 ],
 "metadata": {
  "kernelspec": {
   "display_name": "py313",
   "language": "python",
   "name": "python3"
  },
  "language_info": {
   "codemirror_mode": {
    "name": "ipython",
    "version": 3
   },
   "file_extension": ".py",
   "mimetype": "text/x-python",
   "name": "python",
   "nbconvert_exporter": "python",
   "pygments_lexer": "ipython3",
   "version": "3.13.2"
  }
 },
 "nbformat": 4,
 "nbformat_minor": 5
}
