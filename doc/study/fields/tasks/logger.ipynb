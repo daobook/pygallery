{
 "cells": [
  {
   "cell_type": "markdown",
   "id": "51f724d6",
   "metadata": {},
   "source": [
    "# 日志\n",
    "\n",
    "## 禁用日志文件中的终端文本格式化\n",
    "\n",
    "从你给出的日志内容来看，其中包含了 ANSI 转义序列（像 `\u001b[1;34m` 这种），这些序列原本是用于在终端里实现文本格式化的（比如设置颜色、加粗等效果），不过在普通日志输出里，它们就会以原始的样子呈现，进而造成显示混乱。"
   ]
  },
  {
   "cell_type": "code",
   "execution_count": 1,
   "id": "82b016a2",
   "metadata": {},
   "outputs": [
    {
     "name": "stderr",
     "output_type": "stream",
     "text": [
      "INFO|2025-06-27 09:50:13,517|tool|ls\n",
      "bin  dev  etc\n"
     ]
    }
   ],
   "source": [
    "import logging\n",
    "import re\n",
    "\n",
    "class NoColorFormatter(logging.Formatter):\n",
    "    ansi_escape = re.compile(r'\\x1B(?:[@-Z\\\\-_]|\\[[0-?]*[ -/]*[@-~])')\n",
    "    \n",
    "    def format(self, record):\n",
    "        # 先调用父类的格式化方法\n",
    "        msg = super().format(record)\n",
    "        # 过滤ANSI转义序列\n",
    "        return self.ansi_escape.sub('', msg)\n",
    "\n",
    "# 配置日志\n",
    "logger = logging.getLogger('tool')\n",
    "handler = logging.StreamHandler()\n",
    "formatter = NoColorFormatter('%(levelname)s|%(asctime)s|%(name)s|%(message)s')\n",
    "handler.setFormatter(formatter)\n",
    "logger.addHandler(handler)\n",
    "logger.setLevel(logging.INFO)\n",
    "# 测试日志输出\n",
    "logger.info(\"ls\\n\\033[1;34mbin\\033[m  \\033[1;34mdev\\033[m  \\033[1;34metc\\033[m\")"
   ]
  },
  {
   "cell_type": "code",
   "execution_count": 2,
   "id": "1abe6b0a",
   "metadata": {},
   "outputs": [
    {
     "name": "stdout",
     "output_type": "stream",
     "text": [
      "ls\n",
      "\u001b[1;34mbin\u001b[m  \u001b[1;34mdev\u001b[m  \u001b[1;34metc\u001b[m\n"
     ]
    }
   ],
   "source": [
    "print(\"ls\\n\\033[1;34mbin\\033[m  \\033[1;34mdev\\033[m  \\033[1;34metc\\033[m\")"
   ]
  },
  {
   "cell_type": "code",
   "execution_count": null,
   "id": "3e15462b",
   "metadata": {},
   "outputs": [],
   "source": []
  }
 ],
 "metadata": {
  "kernelspec": {
   "display_name": "py313",
   "language": "python",
   "name": "python3"
  },
  "language_info": {
   "codemirror_mode": {
    "name": "ipython",
    "version": 3
   },
   "file_extension": ".py",
   "mimetype": "text/x-python",
   "name": "python",
   "nbconvert_exporter": "python",
   "pygments_lexer": "ipython3",
   "version": "3.13.2"
  }
 },
 "nbformat": 4,
 "nbformat_minor": 5
}
