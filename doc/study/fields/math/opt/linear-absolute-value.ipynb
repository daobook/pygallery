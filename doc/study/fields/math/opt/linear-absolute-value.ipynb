{
 "cells": [
  {
   "cell_type": "markdown",
   "metadata": {},
   "source": [
    "# 绝对值线性化"
   ]
  },
  {
   "cell_type": "markdown",
   "metadata": {},
   "source": [
    "引入\n",
    "\n",
    "$$\n",
    "\\begin{aligned}\n",
    "x^{+} = \\max(0, x) \\\\\n",
    "x^{-} = \\max(0, -x)\n",
    "\\end{aligned}\n",
    "$$\n",
    "\n",
    "便有\n",
    "\n",
    "$$\n",
    "\\begin{cases}\n",
    "x = x^+ - x^- \\\\\n",
    "|x| = x^+ + x^-\n",
    "\\end{cases}\n",
    "$$"
   ]
  },
  {
   "cell_type": "markdown",
   "metadata": {},
   "source": []
  }
 ],
 "metadata": {
  "language_info": {
   "name": "python"
  }
 },
 "nbformat": 4,
 "nbformat_minor": 2
}
