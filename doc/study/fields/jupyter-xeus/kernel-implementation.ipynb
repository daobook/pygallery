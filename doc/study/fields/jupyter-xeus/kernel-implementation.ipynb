{
 "cells": [
  {
   "cell_type": "markdown",
   "metadata": {},
   "source": [
    "# `xeus` 实现内核\n",
    "\n",
    "在大多数情况下，基本的内核实现就足够了，创建内核仅仅意味着实现解释器部分。\n",
    "\n",
    "你的项目结构至少应该看起来像这样：\n",
    "```\n",
    "└── example/\n",
    "    ├── src/\n",
    "    │   ├── custom_interpreter.cpp\n",
    "    │   ├── custom_interpreter.hpp\n",
    "    │   └── main.cpp\n",
    "    ├── share/\n",
    "    │   └── jupyter/\n",
    "    │       └── kernels/\n",
    "    │           └── my_kernel/\n",
    "    │               └── kernel.json.in\n",
    "    └── CMakeLists.txt\n",
    "```"
   ]
  },
  {
   "cell_type": "markdown",
   "metadata": {
    "vscode": {
     "languageId": "c++"
    }
   },
   "source": [
    "`xeus-cookiecutter` 项目提供了一个基于 xeus 的内核模板，并包含了基于 `xeus` 的内核的基本结构。\n",
    "\n",
    "## 实现解释器"
   ]
  },
  {
   "cell_type": "markdown",
   "metadata": {},
   "source": [
    "从编辑 `custom_interpreter.hpp` 文件开始，它应该包含你的解释器类的声明："
   ]
  },
  {
   "cell_type": "markdown",
   "metadata": {
    "tags": [
     "hide-cell"
    ],
    "vscode": {
     "languageId": "c++"
    }
   },
   "source": [
    "```cpp\n",
    "/***************************************************************************\n",
    "* Copyright (c) 2016, Johan Mabille, Sylvain Corlay, Martin Renou          *\n",
    "* Copyright (c) 2016, QuantStack                                           *\n",
    "*                                                                          *\n",
    "* Distributed under the terms of the BSD 3-Clause License.                 *\n",
    "*                                                                          *\n",
    "* The full license is in the file LICENSE, distributed with this software. *\n",
    "****************************************************************************/\n",
    "\n",
    "#ifndef CUSTOM_INTERPRETER\n",
    "#define CUSTOM_INTERPRETER\n",
    "\n",
    "#include \"xeus/xinterpreter.hpp\"\n",
    "\n",
    "#include \"nlohmann/json.hpp\"\n",
    "\n",
    "using xeus::xinterpreter;\n",
    "\n",
    "namespace nl = nlohmann;\n",
    "\n",
    "namespace custom\n",
    "{\n",
    "    class custom_interpreter : public xinterpreter\n",
    "    {\n",
    "    public:\n",
    "\n",
    "        custom_interpreter() = default;\n",
    "        virtual ~custom_interpreter() = default;\n",
    "\n",
    "    private:\n",
    "\n",
    "        void configure_impl() override;\n",
    "\n",
    "        void execute_request_impl(xrequest_context request_context,\n",
    "                                  send_reply_callback cb,\n",
    "                                  int execution_counter,\n",
    "                                  const std::string& code,\n",
    "                                  execute_request_config config,\n",
    "                                  nl::json user_expressions) override;\n",
    "\n",
    "        nl::json complete_request_impl(const std::string& code,\n",
    "                                       int cursor_pos) override;\n",
    "\n",
    "        nl::json inspect_request_impl(const std::string& code,\n",
    "                                      int cursor_pos,\n",
    "                                      int detail_level) override;\n",
    "\n",
    "        nl::json is_complete_request_impl(const std::string& code) override;\n",
    "\n",
    "        nl::json kernel_info_request_impl() override;\n",
    "\n",
    "        void shutdown_request_impl() override;\n",
    "    };\n",
    "}\n",
    "\n",
    "#endif\n",
    "```"
   ]
  },
  {
   "cell_type": "markdown",
   "metadata": {},
   "source": [
    "几乎所有 `custom_interpreter` 方法都返回 `nl::json` 实例。这实际上是在使用 [nlohmann json](https://github.com/nlohmann/json)，它是现代 C++ 实现的 JSON 数据结构。"
   ]
  },
  {
   "cell_type": "markdown",
   "metadata": {},
   "source": [
    "用户可以选择使用回复 API，该 API 将适当地创建回复以发送到内核，或者自己创建回复。"
   ]
  },
  {
   "cell_type": "markdown",
   "metadata": {},
   "source": [
    "待更：https://xeus.readthedocs.io/en/latest/kernel_implementation.html"
   ]
  },
  {
   "cell_type": "markdown",
   "metadata": {},
   "source": []
  }
 ],
 "metadata": {
  "kernelspec": {
   "display_name": "C++11",
   "language": "C++11",
   "name": "xcpp11"
  },
  "language_info": {
   "name": "C++11"
  }
 },
 "nbformat": 4,
 "nbformat_minor": 2
}
