{
 "cells": [
  {
   "cell_type": "markdown",
   "metadata": {},
   "source": [
    "# 魔法命令"
   ]
  },
  {
   "cell_type": "markdown",
   "metadata": {},
   "source": [
    "魔法命令是内核的特殊命令，它们不属于 C++ 编程语言。它们使用符号 `%` 定义为行魔法，使用 `%%` 定义为单元格魔法。"
   ]
  },
  {
   "cell_type": "markdown",
   "metadata": {},
   "source": [
    "## `%%executable`\n",
    "\n",
    "将所有输入的单元格代码导出到可执行二进制文件中。单元格的内容用于主函数的主体。\n",
    "```cpp\n",
    "%%executable filename [-- linker options]\n",
    "```\n",
    "\n",
    "```cpp\n",
    "# include <iostream>\n",
    "int square(int x) {return x*x;}\n",
    "```"
   ]
  },
  {
   "cell_type": "markdown",
   "metadata": {},
   "source": [
    "```cpp\n",
    "%%executable square.x\n",
    "std::cout << square(4) << std::endl;\n",
    "```"
   ]
  },
  {
   "cell_type": "markdown",
   "metadata": {},
   "source": [
    "```cpp\n",
    "!./square.x\n",
    "```"
   ]
  },
  {
   "cell_type": "markdown",
   "metadata": {},
   "source": [
    "您可以使用以下选项，这些选项将传递给链接器并影响代码生成：\n",
    "- `-fsanitize`：使用 ThreadSanitizer 启用仪器\n",
    "- `-g`：在可执行文件中启用调试信息"
   ]
  },
  {
   "cell_type": "markdown",
   "metadata": {},
   "source": [
    "## `%%file`\n",
    "\n",
    "此魔法命令将单元格的内容复制到名为 ``filename`` 的文件中。\n",
    "```python\n",
    "%%file [-a] filename\n",
    "```"
   ]
  },
  {
   "cell_type": "markdown",
   "metadata": {},
   "source": [
    "可选参数 `-a`: 将内容追加到文件中。"
   ]
  },
  {
   "cell_type": "markdown",
   "metadata": {},
   "source": [
    "## `%timeit`\n",
    "\n",
    "测量单行语句的执行时间（`%timeit`）或代码块的执行时间（`%%timeit`）\n",
    "- `%timeit [-n<N> -r<R> -p<P>] statement`\n",
    "- 单元格：\n",
    "```python\n",
    "%%timeit [-n<N> -r<R> -p<P>]\n",
    "statements\n",
    "```"
   ]
  },
  {
   "cell_type": "markdown",
   "metadata": {},
   "source": [
    "可选参数：\n",
    "- `-n`：执行给定的语句 `<N>` 次在循环中。如果这个值没有给出，则选择一个合适的值。\n",
    "- `-r`：重复循环迭代 `<R>` 次并取最佳结果。默认：7\n",
    "- `-p`：使用 `<P>` 位数来显示时间结果。默认值：3"
   ]
  }
 ],
 "metadata": {
  "kernelspec": {
   "display_name": "C++14",
   "language": "C++14",
   "name": "xcpp14"
  },
  "language_info": {
   "codemirror_mode": "text/x-c++src",
   "file_extension": ".cpp",
   "mimetype": "text/x-c++src",
   "name": "C++14",
   "version": "14"
  }
 },
 "nbformat": 4,
 "nbformat_minor": 2
}
