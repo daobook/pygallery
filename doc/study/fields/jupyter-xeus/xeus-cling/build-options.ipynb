{
 "cells": [
  {
   "cell_type": "markdown",
   "metadata": {},
   "source": [
    "# 构建选项"
   ]
  },
  {
   "cell_type": "markdown",
   "metadata": {},
   "source": [
    "您可以在笔记本中指定 `xeus-cling` 将用于编译代码的附加构建标志。为此，您需要编辑内核规范文件（通常为 `share/jupyter/kernels/xcppSTD/kernel.json`，其中 STD 是 C++ 标准的版本），并将构建标志添加到 `argv` 数组中。"
   ]
  },
  {
   "cell_type": "markdown",
   "metadata": {},
   "source": [
    "例如，如果您想将 `-pthread -lpthread` 标志传递给 `xeus-cling` 并编译 C++17 代码，则 C++17 内核规范文件变为：\n",
    "```json\n",
    "{\n",
    "    \"display_name\": \"C++17\",\n",
    "    \"argv\": [\n",
    "        \"/home/yoyo/miniconda3/envs/xwidgets/bin/xcpp\",\n",
    "        \"-f\",\n",
    "        \"{connection_file}\",\n",
    "        \"-std=c++17\",\n",
    "        \"-pthread\",\n",
    "        \"lpthread\"\n",
    "    ],\n",
    "    \"language\": \"C++17\"\n",
    "}\n",
    "```"
   ]
  },
  {
   "cell_type": "markdown",
   "metadata": {},
   "source": [
    "## 使用第三方库\n",
    "\n",
    "在构建二进制文件时，您通常在构建工具中指定第三方库的包含目录和库路径。该库将在二进制文件执行时加载。`xeus-cling` 略有不同，它允许您指定包含目录和库路径，但是您需要显式加载库。这是通过在 Jupyter Notebook 的代码单元中使用特殊的 `pragma` 命令完成的：\n",
    "```cpp\n",
    "#pragma cling add_include_path(\"inc_directory\")\n",
    "\n",
    "#pragma cling add_library_path(\"lib_directory\")\n",
    "\n",
    "#pragma cling load(\"libname\")\n",
    "```"
   ]
  },
  {
   "cell_type": "markdown",
   "metadata": {},
   "source": []
  }
 ],
 "metadata": {
  "kernelspec": {
   "display_name": "C++14",
   "language": "C++14",
   "name": "xcpp14"
  },
  "language_info": {
   "name": "C++14"
  }
 },
 "nbformat": 4,
 "nbformat_minor": 2
}
