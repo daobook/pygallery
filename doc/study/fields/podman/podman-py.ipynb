{
 "cells": [
  {
   "cell_type": "markdown",
   "id": "0f7072c2",
   "metadata": {
    "vscode": {
     "languageId": "plaintext"
    }
   },
   "source": [
    "# PodmanPy: 用于 Podman 服务的 Python 脚本"
   ]
  },
  {
   "cell_type": "markdown",
   "id": "79828ebd",
   "metadata": {},
   "source": [
    "PodmanPy 是 Python3 模块，允许您编写 Python 脚本来访问由 Podman 服务维护的资源。它利用了 Podman 服务的 RESTful API。\n",
    "\n",
    "Podman 服务通过 URL 进行访问，其中协议表明客户端如何连接到服务。支持的协议有：`http+ssh`、`http+unix` 或 `tcp`。格式如下：\n",
    "- `http+ssh://[<login>@]<hostname>[:<port>]/<full filesystem path>`\n",
    "    - `http+ssh://alice@api.example:22/run/user/1000/podman/podman.sock`\n",
    "    - 协议(scheme) `ssh` 被视为别名\n",
    "- `http+unix://<full filesystem path>`\n",
    "    - `http+unix:///run/podman/podman.sock`- \n",
    "    - 协议(scheme) `unix` 被视为别名\n",
    "- `tcp://<hostname>:<port>`\n",
    "    - `tcp://api.example:8888`\n"
   ]
  },
  {
   "cell_type": "markdown",
   "id": "f52237f3",
   "metadata": {},
   "source": [
    "安装：\n",
    "```bash\n",
    "pip install podman\n",
    "```"
   ]
  },
  {
   "cell_type": "markdown",
   "id": "c67b4fb4",
   "metadata": {},
   "source": [
    "```python\n",
    "import json\n",
    "from podman import PodmanClient\n",
    "\n",
    "# Provide a URI path for the libpod service.  In libpod, the URI can be a unix\n",
    "# domain socket(UDS) or TCP.  The TCP connection has not been implemented in this\n",
    "# package yet.\n",
    "\n",
    "uri = \"unix:///run/user/1000/podman/podman.sock\"\n",
    "\n",
    "with PodmanClient(base_url=uri) as client:\n",
    "    version = client.version()\n",
    "    print(\"Release: \", version[\"Version\"])\n",
    "    print(\"Compatible API: \", version[\"ApiVersion\"])\n",
    "    print(\"Podman API: \", version[\"Components\"][0][\"Details\"][\"APIVersion\"], \"\\n\")\n",
    "\n",
    "    # get all images\n",
    "    for image in client.images.list():\n",
    "        print(image, image.id, \"\\n\")\n",
    "\n",
    "    # find all containers\n",
    "    for container in client.containers.list():\n",
    "        # After a list call you would probably want to reload the container\n",
    "        # to get the information about the variables such as status.\n",
    "        # Note that list() ignores the sparse option and assumes True by default.\n",
    "        container.reload()\n",
    "        print(container, container.id, \"\\n\")\n",
    "        print(container, container.status, \"\\n\")\n",
    "\n",
    "        # available fields\n",
    "        print(sorted(container.attrs.keys()))\n",
    "\n",
    "    print(json.dumps(client.df(), indent=4))\n",
    "```"
   ]
  },
  {
   "cell_type": "code",
   "execution_count": null,
   "id": "2db2dda0",
   "metadata": {},
   "outputs": [],
   "source": []
  }
 ],
 "metadata": {
  "kernelspec": {
   "display_name": "py313",
   "language": "python",
   "name": "python3"
  },
  "language_info": {
   "codemirror_mode": {
    "name": "ipython",
    "version": 3
   },
   "file_extension": ".py",
   "mimetype": "text/x-python",
   "name": "python",
   "nbconvert_exporter": "python",
   "pygments_lexer": "ipython3",
   "version": "3.13.2"
  }
 },
 "nbformat": 4,
 "nbformat_minor": 5
}
