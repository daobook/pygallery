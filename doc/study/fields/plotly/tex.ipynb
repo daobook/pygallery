{
 "cells": [
  {
   "cell_type": "markdown",
   "metadata": {},
   "source": [
    "# plotly 如何正确渲染数学公式\n",
    "\n",
    "安装必要依赖\n",
    "```bash\n",
    "pip install plotly\n",
    "```"
   ]
  },
  {
   "cell_type": "markdown",
   "metadata": {},
   "source": [
    "## 渲染 LaTeX 公式\n",
    "在 Plotly 中正确渲染数学公式（LaTeX 格式），关键在于 **配置 MathJax 渲染环境** 并遵循 Plotly 对 LaTeX 语法的支持规则。\n",
    "\n",
    "Plotly 本身不内置 LaTeX 渲染，需借助 **MathJax** （一款 JavaScript 库）实现公式渲染。需完成两件事：  \n",
    "1. 让 Plotly 加载 MathJax 库  \n",
    "2. 用正确的 LaTeX 语法包裹公式（`$$ 公式 $$` 或 `\\( 公式 \\)` ）\n",
    "\n",
    "在 Notebook 中，通过 `IPython.display` 注入 MathJax 脚本，或直接在 Plotly 布局中加载。推荐方案： \n",
    "\n",
    "```python\n",
    "from IPython.display import display, HTML\n",
    "\n",
    "# 注入 MathJax CDN（优先推荐）\n",
    "display(HTML(\"<script src='https://cdnjs.cloudflare.com/ajax/libs/mathjax/2.7.7/MathJax.js?config=TeX-MML-AM_CHTML'></script>\"))\n",
    "```"
   ]
  },
  {
   "cell_type": "markdown",
   "metadata": {},
   "source": [
    "### plotly 画出勾股定理"
   ]
  },
  {
   "cell_type": "code",
   "execution_count": 4,
   "metadata": {
    "tags": [
     "hide-input"
    ]
   },
   "outputs": [
    {
     "data": {
      "text/html": [
       "<script src='https://cdnjs.cloudflare.com/ajax/libs/mathjax/2.7.7/MathJax.js?config=TeX-MML-AM_CHTML'></script>"
      ],
      "text/plain": [
       "<IPython.core.display.HTML object>"
      ]
     },
     "metadata": {},
     "output_type": "display_data"
    },
    {
     "data": {
      "application/vnd.plotly.v1+json": {
       "config": {
        "plotlyServerURL": "https://plot.ly"
       },
       "data": [
        {
         "hoverinfo": "none",
         "line": {
          "color": "royalblue",
          "width": 3
         },
         "mode": "lines+markers",
         "type": "scatter",
         "x": [
          0,
          3,
          0,
          0
         ],
         "y": [
          0,
          0,
          4,
          0
         ]
        }
       ],
       "layout": {
        "annotations": [
         {
          "showarrow": false,
          "text": "$a=3$",
          "x": 1.5,
          "y": -0.5
         },
         {
          "showarrow": false,
          "text": "$b=4$",
          "x": -0.5,
          "y": 2
         },
         {
          "showarrow": false,
          "text": "$c=5$",
          "x": 1.8,
          "y": 2.2
         },
         {
          "font": {
           "size": 18
          },
          "showarrow": false,
          "text": "$a^2 + b^2 = c^2$",
          "x": 1,
          "y": 1.5
         }
        ],
        "height": 500,
        "template": {
         "data": {
          "bar": [
           {
            "error_x": {
             "color": "#2a3f5f"
            },
            "error_y": {
             "color": "#2a3f5f"
            },
            "marker": {
             "line": {
              "color": "white",
              "width": 0.5
             },
             "pattern": {
              "fillmode": "overlay",
              "size": 10,
              "solidity": 0.2
             }
            },
            "type": "bar"
           }
          ],
          "barpolar": [
           {
            "marker": {
             "line": {
              "color": "white",
              "width": 0.5
             },
             "pattern": {
              "fillmode": "overlay",
              "size": 10,
              "solidity": 0.2
             }
            },
            "type": "barpolar"
           }
          ],
          "carpet": [
           {
            "aaxis": {
             "endlinecolor": "#2a3f5f",
             "gridcolor": "#C8D4E3",
             "linecolor": "#C8D4E3",
             "minorgridcolor": "#C8D4E3",
             "startlinecolor": "#2a3f5f"
            },
            "baxis": {
             "endlinecolor": "#2a3f5f",
             "gridcolor": "#C8D4E3",
             "linecolor": "#C8D4E3",
             "minorgridcolor": "#C8D4E3",
             "startlinecolor": "#2a3f5f"
            },
            "type": "carpet"
           }
          ],
          "choropleth": [
           {
            "colorbar": {
             "outlinewidth": 0,
             "ticks": ""
            },
            "type": "choropleth"
           }
          ],
          "contour": [
           {
            "colorbar": {
             "outlinewidth": 0,
             "ticks": ""
            },
            "colorscale": [
             [
              0,
              "#0d0887"
             ],
             [
              0.1111111111111111,
              "#46039f"
             ],
             [
              0.2222222222222222,
              "#7201a8"
             ],
             [
              0.3333333333333333,
              "#9c179e"
             ],
             [
              0.4444444444444444,
              "#bd3786"
             ],
             [
              0.5555555555555556,
              "#d8576b"
             ],
             [
              0.6666666666666666,
              "#ed7953"
             ],
             [
              0.7777777777777778,
              "#fb9f3a"
             ],
             [
              0.8888888888888888,
              "#fdca26"
             ],
             [
              1,
              "#f0f921"
             ]
            ],
            "type": "contour"
           }
          ],
          "contourcarpet": [
           {
            "colorbar": {
             "outlinewidth": 0,
             "ticks": ""
            },
            "type": "contourcarpet"
           }
          ],
          "heatmap": [
           {
            "colorbar": {
             "outlinewidth": 0,
             "ticks": ""
            },
            "colorscale": [
             [
              0,
              "#0d0887"
             ],
             [
              0.1111111111111111,
              "#46039f"
             ],
             [
              0.2222222222222222,
              "#7201a8"
             ],
             [
              0.3333333333333333,
              "#9c179e"
             ],
             [
              0.4444444444444444,
              "#bd3786"
             ],
             [
              0.5555555555555556,
              "#d8576b"
             ],
             [
              0.6666666666666666,
              "#ed7953"
             ],
             [
              0.7777777777777778,
              "#fb9f3a"
             ],
             [
              0.8888888888888888,
              "#fdca26"
             ],
             [
              1,
              "#f0f921"
             ]
            ],
            "type": "heatmap"
           }
          ],
          "histogram": [
           {
            "marker": {
             "pattern": {
              "fillmode": "overlay",
              "size": 10,
              "solidity": 0.2
             }
            },
            "type": "histogram"
           }
          ],
          "histogram2d": [
           {
            "colorbar": {
             "outlinewidth": 0,
             "ticks": ""
            },
            "colorscale": [
             [
              0,
              "#0d0887"
             ],
             [
              0.1111111111111111,
              "#46039f"
             ],
             [
              0.2222222222222222,
              "#7201a8"
             ],
             [
              0.3333333333333333,
              "#9c179e"
             ],
             [
              0.4444444444444444,
              "#bd3786"
             ],
             [
              0.5555555555555556,
              "#d8576b"
             ],
             [
              0.6666666666666666,
              "#ed7953"
             ],
             [
              0.7777777777777778,
              "#fb9f3a"
             ],
             [
              0.8888888888888888,
              "#fdca26"
             ],
             [
              1,
              "#f0f921"
             ]
            ],
            "type": "histogram2d"
           }
          ],
          "histogram2dcontour": [
           {
            "colorbar": {
             "outlinewidth": 0,
             "ticks": ""
            },
            "colorscale": [
             [
              0,
              "#0d0887"
             ],
             [
              0.1111111111111111,
              "#46039f"
             ],
             [
              0.2222222222222222,
              "#7201a8"
             ],
             [
              0.3333333333333333,
              "#9c179e"
             ],
             [
              0.4444444444444444,
              "#bd3786"
             ],
             [
              0.5555555555555556,
              "#d8576b"
             ],
             [
              0.6666666666666666,
              "#ed7953"
             ],
             [
              0.7777777777777778,
              "#fb9f3a"
             ],
             [
              0.8888888888888888,
              "#fdca26"
             ],
             [
              1,
              "#f0f921"
             ]
            ],
            "type": "histogram2dcontour"
           }
          ],
          "mesh3d": [
           {
            "colorbar": {
             "outlinewidth": 0,
             "ticks": ""
            },
            "type": "mesh3d"
           }
          ],
          "parcoords": [
           {
            "line": {
             "colorbar": {
              "outlinewidth": 0,
              "ticks": ""
             }
            },
            "type": "parcoords"
           }
          ],
          "pie": [
           {
            "automargin": true,
            "type": "pie"
           }
          ],
          "scatter": [
           {
            "fillpattern": {
             "fillmode": "overlay",
             "size": 10,
             "solidity": 0.2
            },
            "type": "scatter"
           }
          ],
          "scatter3d": [
           {
            "line": {
             "colorbar": {
              "outlinewidth": 0,
              "ticks": ""
             }
            },
            "marker": {
             "colorbar": {
              "outlinewidth": 0,
              "ticks": ""
             }
            },
            "type": "scatter3d"
           }
          ],
          "scattercarpet": [
           {
            "marker": {
             "colorbar": {
              "outlinewidth": 0,
              "ticks": ""
             }
            },
            "type": "scattercarpet"
           }
          ],
          "scattergeo": [
           {
            "marker": {
             "colorbar": {
              "outlinewidth": 0,
              "ticks": ""
             }
            },
            "type": "scattergeo"
           }
          ],
          "scattergl": [
           {
            "marker": {
             "colorbar": {
              "outlinewidth": 0,
              "ticks": ""
             }
            },
            "type": "scattergl"
           }
          ],
          "scattermap": [
           {
            "marker": {
             "colorbar": {
              "outlinewidth": 0,
              "ticks": ""
             }
            },
            "type": "scattermap"
           }
          ],
          "scattermapbox": [
           {
            "marker": {
             "colorbar": {
              "outlinewidth": 0,
              "ticks": ""
             }
            },
            "type": "scattermapbox"
           }
          ],
          "scatterpolar": [
           {
            "marker": {
             "colorbar": {
              "outlinewidth": 0,
              "ticks": ""
             }
            },
            "type": "scatterpolar"
           }
          ],
          "scatterpolargl": [
           {
            "marker": {
             "colorbar": {
              "outlinewidth": 0,
              "ticks": ""
             }
            },
            "type": "scatterpolargl"
           }
          ],
          "scatterternary": [
           {
            "marker": {
             "colorbar": {
              "outlinewidth": 0,
              "ticks": ""
             }
            },
            "type": "scatterternary"
           }
          ],
          "surface": [
           {
            "colorbar": {
             "outlinewidth": 0,
             "ticks": ""
            },
            "colorscale": [
             [
              0,
              "#0d0887"
             ],
             [
              0.1111111111111111,
              "#46039f"
             ],
             [
              0.2222222222222222,
              "#7201a8"
             ],
             [
              0.3333333333333333,
              "#9c179e"
             ],
             [
              0.4444444444444444,
              "#bd3786"
             ],
             [
              0.5555555555555556,
              "#d8576b"
             ],
             [
              0.6666666666666666,
              "#ed7953"
             ],
             [
              0.7777777777777778,
              "#fb9f3a"
             ],
             [
              0.8888888888888888,
              "#fdca26"
             ],
             [
              1,
              "#f0f921"
             ]
            ],
            "type": "surface"
           }
          ],
          "table": [
           {
            "cells": {
             "fill": {
              "color": "#EBF0F8"
             },
             "line": {
              "color": "white"
             }
            },
            "header": {
             "fill": {
              "color": "#C8D4E3"
             },
             "line": {
              "color": "white"
             }
            },
            "type": "table"
           }
          ]
         },
         "layout": {
          "annotationdefaults": {
           "arrowcolor": "#2a3f5f",
           "arrowhead": 0,
           "arrowwidth": 1
          },
          "autotypenumbers": "strict",
          "coloraxis": {
           "colorbar": {
            "outlinewidth": 0,
            "ticks": ""
           }
          },
          "colorscale": {
           "diverging": [
            [
             0,
             "#8e0152"
            ],
            [
             0.1,
             "#c51b7d"
            ],
            [
             0.2,
             "#de77ae"
            ],
            [
             0.3,
             "#f1b6da"
            ],
            [
             0.4,
             "#fde0ef"
            ],
            [
             0.5,
             "#f7f7f7"
            ],
            [
             0.6,
             "#e6f5d0"
            ],
            [
             0.7,
             "#b8e186"
            ],
            [
             0.8,
             "#7fbc41"
            ],
            [
             0.9,
             "#4d9221"
            ],
            [
             1,
             "#276419"
            ]
           ],
           "sequential": [
            [
             0,
             "#0d0887"
            ],
            [
             0.1111111111111111,
             "#46039f"
            ],
            [
             0.2222222222222222,
             "#7201a8"
            ],
            [
             0.3333333333333333,
             "#9c179e"
            ],
            [
             0.4444444444444444,
             "#bd3786"
            ],
            [
             0.5555555555555556,
             "#d8576b"
            ],
            [
             0.6666666666666666,
             "#ed7953"
            ],
            [
             0.7777777777777778,
             "#fb9f3a"
            ],
            [
             0.8888888888888888,
             "#fdca26"
            ],
            [
             1,
             "#f0f921"
            ]
           ],
           "sequentialminus": [
            [
             0,
             "#0d0887"
            ],
            [
             0.1111111111111111,
             "#46039f"
            ],
            [
             0.2222222222222222,
             "#7201a8"
            ],
            [
             0.3333333333333333,
             "#9c179e"
            ],
            [
             0.4444444444444444,
             "#bd3786"
            ],
            [
             0.5555555555555556,
             "#d8576b"
            ],
            [
             0.6666666666666666,
             "#ed7953"
            ],
            [
             0.7777777777777778,
             "#fb9f3a"
            ],
            [
             0.8888888888888888,
             "#fdca26"
            ],
            [
             1,
             "#f0f921"
            ]
           ]
          },
          "colorway": [
           "#636efa",
           "#EF553B",
           "#00cc96",
           "#ab63fa",
           "#FFA15A",
           "#19d3f3",
           "#FF6692",
           "#B6E880",
           "#FF97FF",
           "#FECB52"
          ],
          "font": {
           "color": "#2a3f5f"
          },
          "geo": {
           "bgcolor": "white",
           "lakecolor": "white",
           "landcolor": "white",
           "showlakes": true,
           "showland": true,
           "subunitcolor": "#C8D4E3"
          },
          "hoverlabel": {
           "align": "left"
          },
          "hovermode": "closest",
          "mapbox": {
           "style": "light"
          },
          "paper_bgcolor": "white",
          "plot_bgcolor": "white",
          "polar": {
           "angularaxis": {
            "gridcolor": "#EBF0F8",
            "linecolor": "#EBF0F8",
            "ticks": ""
           },
           "bgcolor": "white",
           "radialaxis": {
            "gridcolor": "#EBF0F8",
            "linecolor": "#EBF0F8",
            "ticks": ""
           }
          },
          "scene": {
           "xaxis": {
            "backgroundcolor": "white",
            "gridcolor": "#DFE8F3",
            "gridwidth": 2,
            "linecolor": "#EBF0F8",
            "showbackground": true,
            "ticks": "",
            "zerolinecolor": "#EBF0F8"
           },
           "yaxis": {
            "backgroundcolor": "white",
            "gridcolor": "#DFE8F3",
            "gridwidth": 2,
            "linecolor": "#EBF0F8",
            "showbackground": true,
            "ticks": "",
            "zerolinecolor": "#EBF0F8"
           },
           "zaxis": {
            "backgroundcolor": "white",
            "gridcolor": "#DFE8F3",
            "gridwidth": 2,
            "linecolor": "#EBF0F8",
            "showbackground": true,
            "ticks": "",
            "zerolinecolor": "#EBF0F8"
           }
          },
          "shapedefaults": {
           "line": {
            "color": "#2a3f5f"
           }
          },
          "ternary": {
           "aaxis": {
            "gridcolor": "#DFE8F3",
            "linecolor": "#A2B1C6",
            "ticks": ""
           },
           "baxis": {
            "gridcolor": "#DFE8F3",
            "linecolor": "#A2B1C6",
            "ticks": ""
           },
           "bgcolor": "white",
           "caxis": {
            "gridcolor": "#DFE8F3",
            "linecolor": "#A2B1C6",
            "ticks": ""
           }
          },
          "title": {
           "x": 0.05
          },
          "xaxis": {
           "automargin": true,
           "gridcolor": "#EBF0F8",
           "linecolor": "#EBF0F8",
           "ticks": "",
           "title": {
            "standoff": 15
           },
           "zerolinecolor": "#EBF0F8",
           "zerolinewidth": 2
          },
          "yaxis": {
           "automargin": true,
           "gridcolor": "#EBF0F8",
           "linecolor": "#EBF0F8",
           "ticks": "",
           "title": {
            "standoff": 15
           },
           "zerolinecolor": "#EBF0F8",
           "zerolinewidth": 2
          }
         }
        },
        "title": {
         "text": "勾股定理 $\\triangle ABC$"
        },
        "width": 600
       }
      }
     },
     "metadata": {},
     "output_type": "display_data"
    }
   ],
   "source": [
    "import plotly.graph_objects as go\n",
    "import plotly.graph_objects as go\n",
    "from IPython.display import display, HTML\n",
    "\n",
    "# 1. 注入 MathJax（必须！）\n",
    "display(HTML(\"<script src='https://cdnjs.cloudflare.com/ajax/libs/mathjax/2.7.7/MathJax.js?config=TeX-MML-AM_CHTML'></script>\"))\n",
    "\n",
    "# 创建直角三角形顶点\n",
    "x = [0, 3, 0, 0]\n",
    "y = [0, 0, 4, 0]\n",
    "\n",
    "fig = go.Figure()\n",
    "fig.add_trace(go.Scatter(\n",
    "    x=x,\n",
    "    y=y,\n",
    "    mode='lines+markers',\n",
    "    line=dict(color='royalblue', width=3),\n",
    "    hoverinfo='none'\n",
    "))\n",
    "\n",
    "# 添加边标签和公式\n",
    "annotations = [\n",
    "    dict(x=1.5, y=-0.5, text=r'$a=3$', showarrow=False),\n",
    "    dict(x=-0.5, y=2, text=r'$b=4$', showarrow=False),\n",
    "    dict(x=1.8, y=2.2, text=r'$c=5$', showarrow=False),\n",
    "    dict(x=1, y=1.5, text=r'$a^2 + b^2 = c^2$',\n",
    "         font=dict(size=18), showarrow=False)\n",
    "]\n",
    "\n",
    "fig.update_layout(\n",
    "    title=r'勾股定理 $\\triangle ABC$',\n",
    "    annotations=annotations,\n",
    "    width=600,\n",
    "    height=500,\n",
    "    template='plotly_white'\n",
    ")\n",
    "\n",
    "# 显示并导出\n",
    "# fig.show()\n",
    "# fig.write_image('pythagorean_theorem.svg')  # 需要安装 kaleido pip install --upgrade kaleido\n",
    "fig"
   ]
  },
  {
   "cell_type": "markdown",
   "metadata": {},
   "source": [
    "## 渲染 Katex 公式\n",
    "\n",
    "KaTeX 是轻量级的数学公式渲染库，渲染速度快，适合在网页等场景中使用，我们将通过在 Plotly 的布局中注入 KaTeX 相关脚本和样式来实现公式渲染：\n",
    "\n",
    "```python\n",
    "from IPython.display import display, HTML\n",
    "\n",
    "# 注入 KaTeX 的 CSS 和 JS 资源，用于渲染数学公式\n",
    "display(HTML(\"\"\"\n",
    "<link rel=\"stylesheet\" href=\"https://cdn.jsdelivr.net/npm/katex@0.16.8/dist/katex.min.css\" integrity=\"sha384-GvrOXuhMATgEsSwCs4smul74iXGOixntILdUW9XmUC6+HX0sLNAK3q71HotJqlAn\" crossorigin=\"anonymous\">\n",
    "<script defer src=\"https://cdn.jsdelivr.net/npm/katex@0.16.8/dist/katex.min.js\" integrity=\"sha384-cpW21h6RZv/phavutF+AuVYrr+dA8xD9zs6FwLpaCct6O9ctzYFfFr4dgmgccOTx\" crossorigin=\"anonymous\"></script>\n",
    "<script defer src=\"https://cdn.jsdelivr.net/npm/katex@0.16.8/dist/contrib/auto-render.min.js\" integrity=\"sha384-+VBxd3r6XgURycqtZ117nYw44OOcIax56Z4dCRWbxyPt0Koah1uHoK0o4+/RRE05\" crossorigin=\"anonymous\" onload=\"renderMathInElement(document.body);\"></script>\n",
    "\"\"\"))\n",
    "```"
   ]
  },
  {
   "cell_type": "markdown",
   "metadata": {},
   "source": [
    "### plotly 画出饱和量化"
   ]
  },
  {
   "cell_type": "code",
   "execution_count": 2,
   "metadata": {
    "tags": [
     "hide-input"
    ]
   },
   "outputs": [
    {
     "data": {
      "text/html": [
       "\n",
       "<link rel=\"stylesheet\" href=\"https://cdn.jsdelivr.net/npm/katex@0.16.8/dist/katex.min.css\" integrity=\"sha384-GvrOXuhMATgEsSwCs4smul74iXGOixntILdUW9XmUC6+HX0sLNAK3q71HotJqlAn\" crossorigin=\"anonymous\">\n",
       "<script defer src=\"https://cdn.jsdelivr.net/npm/katex@0.16.8/dist/katex.min.js\" integrity=\"sha384-cpW21h6RZv/phavutF+AuVYrr+dA8xD9zs6FwLpaCct6O9ctzYFfFr4dgmgccOTx\" crossorigin=\"anonymous\"></script>\n",
       "<script defer src=\"https://cdn.jsdelivr.net/npm/katex@0.16.8/dist/contrib/auto-render.min.js\" integrity=\"sha384-+VBxd3r6XgURycqtZ117nYw44OOcIax56Z4dCRWbxyPt0Koah1uHoK0o4+/RRE05\" crossorigin=\"anonymous\" onload=\"renderMathInElement(document.body);\"></script>\n"
      ],
      "text/plain": [
       "<IPython.core.display.HTML object>"
      ]
     },
     "metadata": {},
     "output_type": "display_data"
    },
    {
     "data": {
      "application/vnd.plotly.v1+json": {
       "config": {
        "plotlyServerURL": "https://plot.ly"
       },
       "data": [
        {
         "line": {
          "color": "green",
          "width": 2
         },
         "mode": "lines",
         "name": "Upper Line",
         "type": "scatter",
         "x": {
          "bdata": "MzMzMzMz87/Qcv4s58/yv2yyySabbPK/CfKUIE8J8r+mMWAaA6bxv0JxKxS3QvG/37D2DWvf8L988MEHH3zwvxkwjQHTGPC/a9+w9g1r77+kXkfqdaTuv97d3d3d3e2/F1100UUX7b9Q3ArFrVDsv4pbobgViuu/w9o3rH3D6r/8Wc6f5fzpvzbZZJNNNum/cFj7hrVv6L+o15F6Hannv+JWKG6F4ua/HNa+Ye0b5r9VVVVVVVXlv47U60i9juS/yFOCPCXI478B0xgwjQHjvztSryP1OuK/dNFFF1104b+tUNwKxa3gv86f5fxZzt+/QJ4S5ClB3r+0nD/L+bPcvyabbLLJJtu/mJmZmZmZ2b8MmMaAaQzYv36W82c5f9a/8pQgTwny1L9kk0022WTTv9aReh2p19G/SpCnBHlK0L94HanXkXrNv2AaA6YxYMq/SBdddNFFx78oFLdCcSvEvxAREREREcG/8BvWvmHtu7+wFYpbobi1vwAffPDBB6+/oBLkKUGeor+AGDCNAdOIvwAZMI0B04g/oBLkKUGeoj8AH3zwwQevP8AViluhuLU/8BvWvmHtuz8QERERERHBPzAUt0JxK8Q/SBdddNFFxz9gGgOmMWDKP4AdqdeRes0/TJCnBHlK0D/YkXodqdfRP2STTTbZZNM/9JQgTwny1D+AlvNnOX/WPwyYxoBpDNg/nJmZmZmZ2T8om2yyySbbP7ScP8v5s9w/QJ4S5ClB3j/Qn+X8Wc7fP65Q3ArFreA/dNFFF1104T88Uq8j9TriPwLTGDCNAeM/yFOCPCXI4z+Q1OtIvY7kP1ZVVVVVVeU/HNa+Ye0b5j/iVihuheLmP6rXkXodqec/cFj7hrVv6D822WSTTTbpP/5Zzp/l/Ok/wto3rH3D6j+KW6G4FYrrP1LcCsWtUOw/Fl100UUX7T/e3d3d3d3tP6ZeR+p1pO4/at+w9g1r7z8ZMI0B0xjwP33wwQcffPA/37D2DWvf8D9DcSsUt0LxP6cxYBoDpvE/CfKUIE8J8j9tsskmm2zyP9Fy/iznz/I/MzMzMzMz8z8=",
          "dtype": "f8"
         },
         "y": {
          "bdata": "AAAAAAAA4D8AAAAAAADgPwAAAAAAAOA/AAAAAAAA4D8AAAAAAADgPwAAAAAAAOA/AAAAAAAA4D8AAAAAAADgPwAAAAAAAOA/AAAAAAAA4D8AAAAAAADgPwAAAAAAAOA/AAAAAAAA4D8AAAAAAADgPwAAAAAAAOA/AAAAAAAA4D8AAAAAAADgPwAAAAAAAOA/AAAAAAAA4D8AAAAAAADgPwAAAAAAAOA/AAAAAAAA4D8AAAAAAADgPwAAAAAAAOA/AAAAAAAA4D8AAAAAAADgPwAAAAAAAOA/AAAAAAAA4D8AAAAAAADgPwAAAAAAAOA/AAAAAAAA4D8AAAAAAADgPwAAAAAAAOA/AAAAAAAA4D8AAAAAAADgPwAAAAAAAOA/AAAAAAAA4D8AAAAAAADgPwAAAAAAAOA/AAAAAAAA4D8AAAAAAADgPwAAAAAAAOA/AAAAAAAA4D8AAAAAAADgPwAAAAAAAOA/AAAAAAAA4D8AAAAAAADgPwAAAAAAAOA/AAAAAAAA4D8AAAAAAADgPwAAAAAAAOA/AAAAAAAA4D8AAAAAAADgPwAAAAAAAOA/AAAAAAAA4D8AAAAAAADgPwAAAAAAAOA/AAAAAAAA4D8AAAAAAADgPwAAAAAAAOA/AAAAAAAA4D8AAAAAAADgPwAAAAAAAOA/AAAAAAAA4D8AAAAAAADgPwAAAAAAAOA/AAAAAAAA4D8AAAAAAADgPwAAAAAAAOA/AAAAAAAA4D8AAAAAAADgPwAAAAAAAOA/AAAAAAAA4D8AAAAAAADgPwAAAAAAAOA/AAAAAAAA4D8AAAAAAADgPwAAAAAAAOA/AAAAAAAA4D8AAAAAAADgPwAAAAAAAOA/AAAAAAAA4D8AAAAAAADgPwAAAAAAAOA/AAAAAAAA4D8AAAAAAADgPwAAAAAAAOA/AAAAAAAA4D8AAAAAAADgPwAAAAAAAOA/AAAAAAAA4D8AAAAAAADgPwAAAAAAAOA/AAAAAAAA4D8AAAAAAADgPwAAAAAAAOA/AAAAAAAA4D8AAAAAAADgPwAAAAAAAOA/AAAAAAAA4D8=",
          "dtype": "f8"
         }
        },
        {
         "line": {
          "color": "green",
          "width": 2
         },
         "mode": "lines",
         "name": "Lower Line",
         "type": "scatter",
         "x": {
          "bdata": "MzMzMzMz87/Qcv4s58/yv2yyySabbPK/CfKUIE8J8r+mMWAaA6bxv0JxKxS3QvG/37D2DWvf8L988MEHH3zwvxkwjQHTGPC/a9+w9g1r77+kXkfqdaTuv97d3d3d3e2/F1100UUX7b9Q3ArFrVDsv4pbobgViuu/w9o3rH3D6r/8Wc6f5fzpvzbZZJNNNum/cFj7hrVv6L+o15F6Hannv+JWKG6F4ua/HNa+Ye0b5r9VVVVVVVXlv47U60i9juS/yFOCPCXI478B0xgwjQHjvztSryP1OuK/dNFFF1104b+tUNwKxa3gv86f5fxZzt+/QJ4S5ClB3r+0nD/L+bPcvyabbLLJJtu/mJmZmZmZ2b8MmMaAaQzYv36W82c5f9a/8pQgTwny1L9kk0022WTTv9aReh2p19G/SpCnBHlK0L94HanXkXrNv2AaA6YxYMq/SBdddNFFx78oFLdCcSvEvxAREREREcG/8BvWvmHtu7+wFYpbobi1vwAffPDBB6+/oBLkKUGeor+AGDCNAdOIvwAZMI0B04g/oBLkKUGeoj8AH3zwwQevP8AViluhuLU/8BvWvmHtuz8QERERERHBPzAUt0JxK8Q/SBdddNFFxz9gGgOmMWDKP4AdqdeRes0/TJCnBHlK0D/YkXodqdfRP2STTTbZZNM/9JQgTwny1D+AlvNnOX/WPwyYxoBpDNg/nJmZmZmZ2T8om2yyySbbP7ScP8v5s9w/QJ4S5ClB3j/Qn+X8Wc7fP65Q3ArFreA/dNFFF1104T88Uq8j9TriPwLTGDCNAeM/yFOCPCXI4z+Q1OtIvY7kP1ZVVVVVVeU/HNa+Ye0b5j/iVihuheLmP6rXkXodqec/cFj7hrVv6D822WSTTTbpP/5Zzp/l/Ok/wto3rH3D6j+KW6G4FYrrP1LcCsWtUOw/Fl100UUX7T/e3d3d3d3tP6ZeR+p1pO4/at+w9g1r7z8ZMI0B0xjwP33wwQcffPA/37D2DWvf8D9DcSsUt0LxP6cxYBoDpvE/CfKUIE8J8j9tsskmm2zyP9Fy/iznz/I/MzMzMzMz8z8=",
          "dtype": "f8"
         },
         "y": {
          "bdata": "AAAAAAAA4L8AAAAAAADgvwAAAAAAAOC/AAAAAAAA4L8AAAAAAADgvwAAAAAAAOC/AAAAAAAA4L8AAAAAAADgvwAAAAAAAOC/AAAAAAAA4L8AAAAAAADgvwAAAAAAAOC/AAAAAAAA4L8AAAAAAADgvwAAAAAAAOC/AAAAAAAA4L8AAAAAAADgvwAAAAAAAOC/AAAAAAAA4L8AAAAAAADgvwAAAAAAAOC/AAAAAAAA4L8AAAAAAADgvwAAAAAAAOC/AAAAAAAA4L8AAAAAAADgvwAAAAAAAOC/AAAAAAAA4L8AAAAAAADgvwAAAAAAAOC/AAAAAAAA4L8AAAAAAADgvwAAAAAAAOC/AAAAAAAA4L8AAAAAAADgvwAAAAAAAOC/AAAAAAAA4L8AAAAAAADgvwAAAAAAAOC/AAAAAAAA4L8AAAAAAADgvwAAAAAAAOC/AAAAAAAA4L8AAAAAAADgvwAAAAAAAOC/AAAAAAAA4L8AAAAAAADgvwAAAAAAAOC/AAAAAAAA4L8AAAAAAADgvwAAAAAAAOC/AAAAAAAA4L8AAAAAAADgvwAAAAAAAOC/AAAAAAAA4L8AAAAAAADgvwAAAAAAAOC/AAAAAAAA4L8AAAAAAADgvwAAAAAAAOC/AAAAAAAA4L8AAAAAAADgvwAAAAAAAOC/AAAAAAAA4L8AAAAAAADgvwAAAAAAAOC/AAAAAAAA4L8AAAAAAADgvwAAAAAAAOC/AAAAAAAA4L8AAAAAAADgvwAAAAAAAOC/AAAAAAAA4L8AAAAAAADgvwAAAAAAAOC/AAAAAAAA4L8AAAAAAADgvwAAAAAAAOC/AAAAAAAA4L8AAAAAAADgvwAAAAAAAOC/AAAAAAAA4L8AAAAAAADgvwAAAAAAAOC/AAAAAAAA4L8AAAAAAADgvwAAAAAAAOC/AAAAAAAA4L8AAAAAAADgvwAAAAAAAOC/AAAAAAAA4L8AAAAAAADgvwAAAAAAAOC/AAAAAAAA4L8AAAAAAADgvwAAAAAAAOC/AAAAAAAA4L8AAAAAAADgvwAAAAAAAOC/AAAAAAAA4L8=",
          "dtype": "f8"
         }
        },
        {
         "marker": {
          "color": "orange",
          "line": {
           "width": 2
          },
          "size": 15,
          "symbol": "x"
         },
         "mode": "markers",
         "name": "Upper Points",
         "type": "scatter",
         "x": [
          -1,
          -0.7,
          -0.6,
          0,
          0.6,
          0.7,
          0.8,
          1
         ],
         "y": [
          0.5,
          0.5,
          0.5,
          0.5,
          0.5,
          0.5,
          0.5,
          0.5
         ]
        },
        {
         "marker": {
          "color": "orange",
          "line": {
           "width": 2
          },
          "size": 15,
          "symbol": "x"
         },
         "mode": "markers",
         "name": "Lower Points",
         "type": "scatter",
         "x": [
          -0.8,
          -0.5,
          -0.4,
          0,
          0.4,
          0.5,
          0.6,
          0.8
         ],
         "y": [
          -0.5,
          -0.5,
          -0.5,
          -0.5,
          -0.5,
          -0.5,
          -0.5,
          -0.5
         ]
        },
        {
         "line": {
          "color": "black",
          "dash": "dash",
          "width": 1
         },
         "mode": "lines",
         "showlegend": false,
         "type": "scatter",
         "x": [
          -1,
          -0.8
         ],
         "y": [
          0.5,
          -0.5
         ]
        },
        {
         "line": {
          "color": "black",
          "dash": "dash",
          "width": 1
         },
         "mode": "lines",
         "showlegend": false,
         "type": "scatter",
         "x": [
          -0.7,
          -0.5
         ],
         "y": [
          0.5,
          -0.5
         ]
        },
        {
         "line": {
          "color": "black",
          "dash": "dash",
          "width": 1
         },
         "mode": "lines",
         "showlegend": false,
         "type": "scatter",
         "x": [
          -0.6,
          -0.4
         ],
         "y": [
          0.5,
          -0.5
         ]
        },
        {
         "line": {
          "color": "black",
          "dash": "dash",
          "width": 1
         },
         "mode": "lines",
         "showlegend": false,
         "type": "scatter",
         "x": [
          0,
          0
         ],
         "y": [
          0.5,
          -0.5
         ]
        },
        {
         "line": {
          "color": "black",
          "dash": "dash",
          "width": 1
         },
         "mode": "lines",
         "showlegend": false,
         "type": "scatter",
         "x": [
          0.6,
          0.4
         ],
         "y": [
          0.5,
          -0.5
         ]
        },
        {
         "line": {
          "color": "black",
          "dash": "dash",
          "width": 1
         },
         "mode": "lines",
         "showlegend": false,
         "type": "scatter",
         "x": [
          0.7,
          0.5
         ],
         "y": [
          0.5,
          -0.5
         ]
        },
        {
         "line": {
          "color": "black",
          "dash": "dash",
          "width": 1
         },
         "mode": "lines",
         "showlegend": false,
         "type": "scatter",
         "x": [
          0.8,
          0.6
         ],
         "y": [
          0.5,
          -0.5
         ]
        },
        {
         "line": {
          "color": "black",
          "dash": "dash",
          "width": 1
         },
         "mode": "lines",
         "showlegend": false,
         "type": "scatter",
         "x": [
          1,
          0.8
         ],
         "y": [
          0.5,
          -0.5
         ]
        }
       ],
       "layout": {
        "annotations": [
         {
          "font": {
           "color": "black",
           "size": 14
          },
          "showarrow": false,
          "text": "$$\\text{饱和量化：}\\quad Q = \\text{clip}\\left( \\frac{R}{\\text{scale}}, -127, 127 \\right)$$",
          "x": 0,
          "y": 0.8
         },
         {
          "font": {
           "size": 12
          },
          "showarrow": false,
          "text": "$-|\\max|$",
          "x": -1.2,
          "y": 0.65
         },
         {
          "font": {
           "size": 12
          },
          "showarrow": false,
          "text": "$0.0$",
          "x": 0,
          "y": 0.65
         },
         {
          "font": {
           "size": 12
          },
          "showarrow": false,
          "text": "$+|\\max|$",
          "x": 1.2,
          "y": 0.65
         },
         {
          "font": {
           "size": 12
          },
          "showarrow": false,
          "text": "$-127$",
          "x": -0.8,
          "y": -0.65
         },
         {
          "font": {
           "size": 12
          },
          "showarrow": false,
          "text": "$0$",
          "x": 0,
          "y": -0.65
         },
         {
          "font": {
           "size": 12
          },
          "showarrow": false,
          "text": "$127$",
          "x": 0.8,
          "y": -0.65
         },
         {
          "align": "right",
          "font": {
           "color": "gray",
           "size": 12
          },
          "showarrow": false,
          "text": "xinetzone",
          "x": 1,
          "y": -0.8
         }
        ],
        "hovermode": "closest",
        "margin": {
         "b": 20,
         "l": 20,
         "r": 20,
         "t": 20
        },
        "paper_bgcolor": "white",
        "plot_bgcolor": "white",
        "showlegend": false,
        "template": {
         "data": {
          "bar": [
           {
            "error_x": {
             "color": "#2a3f5f"
            },
            "error_y": {
             "color": "#2a3f5f"
            },
            "marker": {
             "line": {
              "color": "#E5ECF6",
              "width": 0.5
             },
             "pattern": {
              "fillmode": "overlay",
              "size": 10,
              "solidity": 0.2
             }
            },
            "type": "bar"
           }
          ],
          "barpolar": [
           {
            "marker": {
             "line": {
              "color": "#E5ECF6",
              "width": 0.5
             },
             "pattern": {
              "fillmode": "overlay",
              "size": 10,
              "solidity": 0.2
             }
            },
            "type": "barpolar"
           }
          ],
          "carpet": [
           {
            "aaxis": {
             "endlinecolor": "#2a3f5f",
             "gridcolor": "white",
             "linecolor": "white",
             "minorgridcolor": "white",
             "startlinecolor": "#2a3f5f"
            },
            "baxis": {
             "endlinecolor": "#2a3f5f",
             "gridcolor": "white",
             "linecolor": "white",
             "minorgridcolor": "white",
             "startlinecolor": "#2a3f5f"
            },
            "type": "carpet"
           }
          ],
          "choropleth": [
           {
            "colorbar": {
             "outlinewidth": 0,
             "ticks": ""
            },
            "type": "choropleth"
           }
          ],
          "contour": [
           {
            "colorbar": {
             "outlinewidth": 0,
             "ticks": ""
            },
            "colorscale": [
             [
              0,
              "#0d0887"
             ],
             [
              0.1111111111111111,
              "#46039f"
             ],
             [
              0.2222222222222222,
              "#7201a8"
             ],
             [
              0.3333333333333333,
              "#9c179e"
             ],
             [
              0.4444444444444444,
              "#bd3786"
             ],
             [
              0.5555555555555556,
              "#d8576b"
             ],
             [
              0.6666666666666666,
              "#ed7953"
             ],
             [
              0.7777777777777778,
              "#fb9f3a"
             ],
             [
              0.8888888888888888,
              "#fdca26"
             ],
             [
              1,
              "#f0f921"
             ]
            ],
            "type": "contour"
           }
          ],
          "contourcarpet": [
           {
            "colorbar": {
             "outlinewidth": 0,
             "ticks": ""
            },
            "type": "contourcarpet"
           }
          ],
          "heatmap": [
           {
            "colorbar": {
             "outlinewidth": 0,
             "ticks": ""
            },
            "colorscale": [
             [
              0,
              "#0d0887"
             ],
             [
              0.1111111111111111,
              "#46039f"
             ],
             [
              0.2222222222222222,
              "#7201a8"
             ],
             [
              0.3333333333333333,
              "#9c179e"
             ],
             [
              0.4444444444444444,
              "#bd3786"
             ],
             [
              0.5555555555555556,
              "#d8576b"
             ],
             [
              0.6666666666666666,
              "#ed7953"
             ],
             [
              0.7777777777777778,
              "#fb9f3a"
             ],
             [
              0.8888888888888888,
              "#fdca26"
             ],
             [
              1,
              "#f0f921"
             ]
            ],
            "type": "heatmap"
           }
          ],
          "histogram": [
           {
            "marker": {
             "pattern": {
              "fillmode": "overlay",
              "size": 10,
              "solidity": 0.2
             }
            },
            "type": "histogram"
           }
          ],
          "histogram2d": [
           {
            "colorbar": {
             "outlinewidth": 0,
             "ticks": ""
            },
            "colorscale": [
             [
              0,
              "#0d0887"
             ],
             [
              0.1111111111111111,
              "#46039f"
             ],
             [
              0.2222222222222222,
              "#7201a8"
             ],
             [
              0.3333333333333333,
              "#9c179e"
             ],
             [
              0.4444444444444444,
              "#bd3786"
             ],
             [
              0.5555555555555556,
              "#d8576b"
             ],
             [
              0.6666666666666666,
              "#ed7953"
             ],
             [
              0.7777777777777778,
              "#fb9f3a"
             ],
             [
              0.8888888888888888,
              "#fdca26"
             ],
             [
              1,
              "#f0f921"
             ]
            ],
            "type": "histogram2d"
           }
          ],
          "histogram2dcontour": [
           {
            "colorbar": {
             "outlinewidth": 0,
             "ticks": ""
            },
            "colorscale": [
             [
              0,
              "#0d0887"
             ],
             [
              0.1111111111111111,
              "#46039f"
             ],
             [
              0.2222222222222222,
              "#7201a8"
             ],
             [
              0.3333333333333333,
              "#9c179e"
             ],
             [
              0.4444444444444444,
              "#bd3786"
             ],
             [
              0.5555555555555556,
              "#d8576b"
             ],
             [
              0.6666666666666666,
              "#ed7953"
             ],
             [
              0.7777777777777778,
              "#fb9f3a"
             ],
             [
              0.8888888888888888,
              "#fdca26"
             ],
             [
              1,
              "#f0f921"
             ]
            ],
            "type": "histogram2dcontour"
           }
          ],
          "mesh3d": [
           {
            "colorbar": {
             "outlinewidth": 0,
             "ticks": ""
            },
            "type": "mesh3d"
           }
          ],
          "parcoords": [
           {
            "line": {
             "colorbar": {
              "outlinewidth": 0,
              "ticks": ""
             }
            },
            "type": "parcoords"
           }
          ],
          "pie": [
           {
            "automargin": true,
            "type": "pie"
           }
          ],
          "scatter": [
           {
            "fillpattern": {
             "fillmode": "overlay",
             "size": 10,
             "solidity": 0.2
            },
            "type": "scatter"
           }
          ],
          "scatter3d": [
           {
            "line": {
             "colorbar": {
              "outlinewidth": 0,
              "ticks": ""
             }
            },
            "marker": {
             "colorbar": {
              "outlinewidth": 0,
              "ticks": ""
             }
            },
            "type": "scatter3d"
           }
          ],
          "scattercarpet": [
           {
            "marker": {
             "colorbar": {
              "outlinewidth": 0,
              "ticks": ""
             }
            },
            "type": "scattercarpet"
           }
          ],
          "scattergeo": [
           {
            "marker": {
             "colorbar": {
              "outlinewidth": 0,
              "ticks": ""
             }
            },
            "type": "scattergeo"
           }
          ],
          "scattergl": [
           {
            "marker": {
             "colorbar": {
              "outlinewidth": 0,
              "ticks": ""
             }
            },
            "type": "scattergl"
           }
          ],
          "scattermap": [
           {
            "marker": {
             "colorbar": {
              "outlinewidth": 0,
              "ticks": ""
             }
            },
            "type": "scattermap"
           }
          ],
          "scattermapbox": [
           {
            "marker": {
             "colorbar": {
              "outlinewidth": 0,
              "ticks": ""
             }
            },
            "type": "scattermapbox"
           }
          ],
          "scatterpolar": [
           {
            "marker": {
             "colorbar": {
              "outlinewidth": 0,
              "ticks": ""
             }
            },
            "type": "scatterpolar"
           }
          ],
          "scatterpolargl": [
           {
            "marker": {
             "colorbar": {
              "outlinewidth": 0,
              "ticks": ""
             }
            },
            "type": "scatterpolargl"
           }
          ],
          "scatterternary": [
           {
            "marker": {
             "colorbar": {
              "outlinewidth": 0,
              "ticks": ""
             }
            },
            "type": "scatterternary"
           }
          ],
          "surface": [
           {
            "colorbar": {
             "outlinewidth": 0,
             "ticks": ""
            },
            "colorscale": [
             [
              0,
              "#0d0887"
             ],
             [
              0.1111111111111111,
              "#46039f"
             ],
             [
              0.2222222222222222,
              "#7201a8"
             ],
             [
              0.3333333333333333,
              "#9c179e"
             ],
             [
              0.4444444444444444,
              "#bd3786"
             ],
             [
              0.5555555555555556,
              "#d8576b"
             ],
             [
              0.6666666666666666,
              "#ed7953"
             ],
             [
              0.7777777777777778,
              "#fb9f3a"
             ],
             [
              0.8888888888888888,
              "#fdca26"
             ],
             [
              1,
              "#f0f921"
             ]
            ],
            "type": "surface"
           }
          ],
          "table": [
           {
            "cells": {
             "fill": {
              "color": "#EBF0F8"
             },
             "line": {
              "color": "white"
             }
            },
            "header": {
             "fill": {
              "color": "#C8D4E3"
             },
             "line": {
              "color": "white"
             }
            },
            "type": "table"
           }
          ]
         },
         "layout": {
          "annotationdefaults": {
           "arrowcolor": "#2a3f5f",
           "arrowhead": 0,
           "arrowwidth": 1
          },
          "autotypenumbers": "strict",
          "coloraxis": {
           "colorbar": {
            "outlinewidth": 0,
            "ticks": ""
           }
          },
          "colorscale": {
           "diverging": [
            [
             0,
             "#8e0152"
            ],
            [
             0.1,
             "#c51b7d"
            ],
            [
             0.2,
             "#de77ae"
            ],
            [
             0.3,
             "#f1b6da"
            ],
            [
             0.4,
             "#fde0ef"
            ],
            [
             0.5,
             "#f7f7f7"
            ],
            [
             0.6,
             "#e6f5d0"
            ],
            [
             0.7,
             "#b8e186"
            ],
            [
             0.8,
             "#7fbc41"
            ],
            [
             0.9,
             "#4d9221"
            ],
            [
             1,
             "#276419"
            ]
           ],
           "sequential": [
            [
             0,
             "#0d0887"
            ],
            [
             0.1111111111111111,
             "#46039f"
            ],
            [
             0.2222222222222222,
             "#7201a8"
            ],
            [
             0.3333333333333333,
             "#9c179e"
            ],
            [
             0.4444444444444444,
             "#bd3786"
            ],
            [
             0.5555555555555556,
             "#d8576b"
            ],
            [
             0.6666666666666666,
             "#ed7953"
            ],
            [
             0.7777777777777778,
             "#fb9f3a"
            ],
            [
             0.8888888888888888,
             "#fdca26"
            ],
            [
             1,
             "#f0f921"
            ]
           ],
           "sequentialminus": [
            [
             0,
             "#0d0887"
            ],
            [
             0.1111111111111111,
             "#46039f"
            ],
            [
             0.2222222222222222,
             "#7201a8"
            ],
            [
             0.3333333333333333,
             "#9c179e"
            ],
            [
             0.4444444444444444,
             "#bd3786"
            ],
            [
             0.5555555555555556,
             "#d8576b"
            ],
            [
             0.6666666666666666,
             "#ed7953"
            ],
            [
             0.7777777777777778,
             "#fb9f3a"
            ],
            [
             0.8888888888888888,
             "#fdca26"
            ],
            [
             1,
             "#f0f921"
            ]
           ]
          },
          "colorway": [
           "#636efa",
           "#EF553B",
           "#00cc96",
           "#ab63fa",
           "#FFA15A",
           "#19d3f3",
           "#FF6692",
           "#B6E880",
           "#FF97FF",
           "#FECB52"
          ],
          "font": {
           "color": "#2a3f5f"
          },
          "geo": {
           "bgcolor": "white",
           "lakecolor": "white",
           "landcolor": "#E5ECF6",
           "showlakes": true,
           "showland": true,
           "subunitcolor": "white"
          },
          "hoverlabel": {
           "align": "left"
          },
          "hovermode": "closest",
          "mapbox": {
           "style": "light"
          },
          "paper_bgcolor": "white",
          "plot_bgcolor": "#E5ECF6",
          "polar": {
           "angularaxis": {
            "gridcolor": "white",
            "linecolor": "white",
            "ticks": ""
           },
           "bgcolor": "#E5ECF6",
           "radialaxis": {
            "gridcolor": "white",
            "linecolor": "white",
            "ticks": ""
           }
          },
          "scene": {
           "xaxis": {
            "backgroundcolor": "#E5ECF6",
            "gridcolor": "white",
            "gridwidth": 2,
            "linecolor": "white",
            "showbackground": true,
            "ticks": "",
            "zerolinecolor": "white"
           },
           "yaxis": {
            "backgroundcolor": "#E5ECF6",
            "gridcolor": "white",
            "gridwidth": 2,
            "linecolor": "white",
            "showbackground": true,
            "ticks": "",
            "zerolinecolor": "white"
           },
           "zaxis": {
            "backgroundcolor": "#E5ECF6",
            "gridcolor": "white",
            "gridwidth": 2,
            "linecolor": "white",
            "showbackground": true,
            "ticks": "",
            "zerolinecolor": "white"
           }
          },
          "shapedefaults": {
           "line": {
            "color": "#2a3f5f"
           }
          },
          "ternary": {
           "aaxis": {
            "gridcolor": "white",
            "linecolor": "white",
            "ticks": ""
           },
           "baxis": {
            "gridcolor": "white",
            "linecolor": "white",
            "ticks": ""
           },
           "bgcolor": "#E5ECF6",
           "caxis": {
            "gridcolor": "white",
            "linecolor": "white",
            "ticks": ""
           }
          },
          "title": {
           "x": 0.05
          },
          "xaxis": {
           "automargin": true,
           "gridcolor": "white",
           "linecolor": "white",
           "ticks": "",
           "title": {
            "standoff": 15
           },
           "zerolinecolor": "white",
           "zerolinewidth": 2
          },
          "yaxis": {
           "automargin": true,
           "gridcolor": "white",
           "linecolor": "white",
           "ticks": "",
           "title": {
            "standoff": 15
           },
           "zerolinecolor": "white",
           "zerolinewidth": 2
          }
         }
        },
        "xaxis": {
         "showgrid": false,
         "showticklabels": false,
         "zeroline": false
        },
        "yaxis": {
         "showgrid": false,
         "showticklabels": false,
         "zeroline": false
        }
       }
      }
     },
     "metadata": {},
     "output_type": "display_data"
    }
   ],
   "source": [
    "import plotly.graph_objects as go\n",
    "import numpy as np\n",
    "from IPython.display import display, HTML\n",
    "\n",
    "# 注入 KaTeX 的 CSS 和 JS 资源，用于渲染数学公式\n",
    "display(HTML(\"\"\"\n",
    "<link rel=\"stylesheet\" href=\"https://cdn.jsdelivr.net/npm/katex@0.16.8/dist/katex.min.css\" integrity=\"sha384-GvrOXuhMATgEsSwCs4smul74iXGOixntILdUW9XmUC6+HX0sLNAK3q71HotJqlAn\" crossorigin=\"anonymous\">\n",
    "<script defer src=\"https://cdn.jsdelivr.net/npm/katex@0.16.8/dist/katex.min.js\" integrity=\"sha384-cpW21h6RZv/phavutF+AuVYrr+dA8xD9zs6FwLpaCct6O9ctzYFfFr4dgmgccOTx\" crossorigin=\"anonymous\"></script>\n",
    "<script defer src=\"https://cdn.jsdelivr.net/npm/katex@0.16.8/dist/contrib/auto-render.min.js\" integrity=\"sha384-+VBxd3r6XgURycqtZ117nYw44OOcIax56Z4dCRWbxyPt0Koah1uHoK0o4+/RRE05\" crossorigin=\"anonymous\" onload=\"renderMathInElement(document.body);\"></script>\n",
    "\"\"\"))\n",
    "\n",
    "# 1. 准备数据\n",
    "# 上方数轴坐标\n",
    "upper_line_x = np.linspace(-1.2, 1.2, 100)\n",
    "upper_line_y = np.full_like(upper_line_x, 0.5)\n",
    "\n",
    "# 下方数轴坐标\n",
    "lower_line_x = np.linspace(-1.2, 1.2, 100)\n",
    "lower_line_y = np.full_like(lower_line_x, -0.5)\n",
    "\n",
    "# 上方数据点（示例）\n",
    "upper_points_x = [-1, -0.7, -0.6, 0, 0.6, 0.7, 0.8, 1]\n",
    "upper_points_y = [0.5] * len(upper_points_x)\n",
    "\n",
    "# 下方数据点（示例，对应映射后位置）\n",
    "lower_points_x = [-0.8, -0.5, -0.4, 0, 0.4, 0.5, 0.6, 0.8]\n",
    "lower_points_y = [-0.5] * len(lower_points_x)\n",
    "\n",
    "# 2. 创建 Plotly 图形对象\n",
    "fig = go.Figure()\n",
    "\n",
    "# 3. 添加上下绿色数轴\n",
    "fig.add_trace(go.Scatter(\n",
    "    x=upper_line_x, y=upper_line_y,\n",
    "    mode='lines',\n",
    "    line=dict(color='green', width=2),\n",
    "    name='Upper Line'\n",
    "))\n",
    "\n",
    "fig.add_trace(go.Scatter(\n",
    "    x=lower_line_x, y=lower_line_y,\n",
    "    mode='lines',\n",
    "    line=dict(color='green', width=2),\n",
    "    name='Lower Line'\n",
    "))\n",
    "\n",
    "# 4. 添加橙色“×”标记\n",
    "fig.add_trace(go.Scatter(\n",
    "    x=upper_points_x, y=upper_points_y,\n",
    "    mode='markers',\n",
    "    marker=dict(color='orange', symbol='x', size=15, line=dict(width=2)),\n",
    "    name='Upper Points'\n",
    "))\n",
    "\n",
    "fig.add_trace(go.Scatter(\n",
    "    x=lower_points_x, y=lower_points_y,\n",
    "    mode='markers',\n",
    "    marker=dict(color='orange', symbol='x', size=15, line=dict(width=2)),\n",
    "    name='Lower Points'\n",
    "))\n",
    "\n",
    "# 5. 添加虚线映射关系\n",
    "for u_x, l_x in zip(upper_points_x, lower_points_x):\n",
    "    fig.add_trace(go.Scatter(\n",
    "        x=[u_x, l_x], y=[0.5, -0.5],\n",
    "        mode='lines',\n",
    "        line=dict(color='black', dash='dash', width=1),\n",
    "        showlegend=False  # 不显示在图例\n",
    "    ))\n",
    "\n",
    "# 6. 添加 KaTeX 公式标注\n",
    "fig.add_annotation(\n",
    "    x=0, y=0.8,\n",
    "    text=r'$$\\text{饱和量化：}\\quad Q = \\text{clip}\\left( \\frac{R}{\\text{scale}}, -127, 127 \\right)$$',\n",
    "    showarrow=False,\n",
    "    font=dict(size=14, color='black')\n",
    ")\n",
    "\n",
    "# 7. 添加文本标注（使用 KaTeX 语法，用 $ 包裹公式）\n",
    "# 上方刻度，KaTeX 用 $ 包裹公式\n",
    "fig.add_annotation(\n",
    "    x=-1.2, y=0.65,\n",
    "    text=r'$-|\\max|$',\n",
    "    showarrow=False,\n",
    "    font=dict(size=12)\n",
    ")\n",
    "fig.add_annotation(\n",
    "    x=0, y=0.65,\n",
    "    text=r'$0.0$',\n",
    "    showarrow=False,\n",
    "    font=dict(size=12)\n",
    ")\n",
    "fig.add_annotation(\n",
    "    x=1.2, y=0.65,\n",
    "    text=r'$+|\\max|$',\n",
    "    showarrow=False,\n",
    "    font=dict(size=12)\n",
    ")\n",
    "\n",
    "# 下方刻度\n",
    "fig.add_annotation(\n",
    "    x=-0.8, y=-0.65,\n",
    "    text=r'$-127$',\n",
    "    showarrow=False,\n",
    "    font=dict(size=12)\n",
    ")\n",
    "fig.add_annotation(\n",
    "    x=0, y=-0.65,\n",
    "    text=r'$0$',\n",
    "    showarrow=False,\n",
    "    font=dict(size=12)\n",
    ")\n",
    "fig.add_annotation(\n",
    "    x=0.8, y=-0.65,\n",
    "    text=r'$127$',\n",
    "    showarrow=False,\n",
    "    font=dict(size=12)\n",
    ")\n",
    "\n",
    "# 右下角标识\n",
    "fig.add_annotation(\n",
    "    x=1.0, y=-0.8,\n",
    "    text='xinetzone',\n",
    "    showarrow=False,\n",
    "    font=dict(size=12, color='gray'),\n",
    "    align='right'\n",
    ")\n",
    "\n",
    "# 8. 布局设置（隐藏坐标轴、调整边距等）\n",
    "fig.update_layout(\n",
    "    xaxis=dict(showticklabels=False, showgrid=False, zeroline=False),\n",
    "    yaxis=dict(showticklabels=False, showgrid=False, zeroline=False),\n",
    "    margin=dict(l=20, r=20, t=20, b=20), # 给公式预留空间\n",
    "    hovermode='closest',\n",
    "    showlegend=False,  # 隐藏图例（如需显示可设为 True）\n",
    "    paper_bgcolor='white',\n",
    "    plot_bgcolor='white',\n",
    ")\n",
    "\n",
    "# 9. 显示图形\n",
    "fig.show()"
   ]
  },
  {
   "cell_type": "markdown",
   "metadata": {},
   "source": [
    "```{admonition} 代码说明\n",
    "1. **注入 KaTeX 资源**：通过 `display(HTML(...))` 注入 KaTeX 的 CSS 样式文件和 JS 脚本文件，其中 `auto-render.min.js` 用于自动渲染页面中的数学公式，它会在页面加载完成后查找包含在 `$...$` 或 `$$...$$` 中的内容并进行渲染。\n",
    "2. **公式编写**：在 `add_annotation` 的 `text` 参数中，使用 KaTeX 支持的语法，用 `$` 包裹数学公式部分（如 `r'$-|\\max|$'` ），KaTeX 会自动识别并渲染成美观的数学符号。 \n",
    "3. **其他绘图逻辑**：和之前 Plotly 绘图的逻辑一致，包括绘制数轴、数据点、虚线连接以及设置布局等，确保图形的结构和样式符合需求。\n",
    "\n",
    "这样，运行代码后，在支持的环境（如 Jupyter Notebook 等）中，就可以利用 KaTeX 来正确渲染数学公式，呈现出包含饱和量化映射关系和相应标注的示意图 。如果是在纯 Python 脚本运行且希望在浏览器中查看效果，代码逻辑也是类似的，同样能借助 KaTeX 实现公式渲染。 \n",
    "```"
   ]
  },
  {
   "cell_type": "markdown",
   "metadata": {},
   "source": [
    "**饱和量化**是数字信号处理中的关键技术，主要用于：\n",
    "\n",
    "$$\n",
    "Q(x) = \\begin{cases} \n",
    "q_{\\text{max}} & x \\geq T_{\\text{max}} \\\\\n",
    "q_{\\text{min}} & x \\leq T_{\\text{min}} \\\\\n",
    "\\text{round}(\\frac{x}{\\Delta}) \\times \\Delta & \\text{其他}\n",
    "\\end{cases}\n",
    "$$\n",
    "\n",
    "**核心特征**：\n",
    "1. **阈值限定**（T<sub>max</sub>/T<sub>min</sub>）\n",
    "2. **量化区间保护**（防止溢出）\n",
    "3. **非线性映射**\n",
    "\n",
    "**典型应用**：\n",
    "- 神经网络权重量化（防止梯度爆炸）\n",
    "- ADC模数转换（电压范围保护）\n",
    "- 图像传感器（光电信号规整）\n",
    "\n",
    "**对比普通量化**：\n",
    "| 特征        | 饱和量化          | 普通量化       |\n",
    "|-------------|-------------------|---------------|\n",
    "| 溢出处理    | 钳位保护          | 模运算循环     |\n",
    "| 误差分布    | 边界集中          | 均匀分布       |\n",
    "| 硬件实现    | 比较器+计数器      | 移位寄存器     |"
   ]
  },
  {
   "cell_type": "markdown",
   "metadata": {},
   "source": []
  }
 ],
 "metadata": {
  "kernelspec": {
   "display_name": "py313",
   "language": "python",
   "name": "python3"
  },
  "language_info": {
   "codemirror_mode": {
    "name": "ipython",
    "version": 3
   },
   "file_extension": ".py",
   "mimetype": "text/x-python",
   "name": "python",
   "nbconvert_exporter": "python",
   "pygments_lexer": "ipython3",
   "version": "3.13.2"
  }
 },
 "nbformat": 4,
 "nbformat_minor": 2
}
