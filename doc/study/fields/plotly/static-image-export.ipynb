{
 "cells": [
  {
   "cell_type": "markdown",
   "id": "0865f47d",
   "metadata": {},
   "source": [
    "# Plotly 中的静态图像导出\n",
    "\n",
    "资料来源：\n",
    "- [Exporting Static Images](https://plotly.com/python/static-image-export/)"
   ]
  },
  {
   "cell_type": "markdown",
   "id": "a5c2ddd7",
   "metadata": {},
   "source": [
    "Plotly 允许您保存您图形的静态图像。将图像保存到本地计算机，或作为静态图像嵌入到您的 Jupyter 笔记本中。"
   ]
  },
  {
   "cell_type": "markdown",
   "id": "8b85ee95",
   "metadata": {},
   "source": [
    "## 安装依赖项\n",
    "\n",
    "静态图像生成需要 Kaleido。使用 pip 安装 Kaleido：\n",
    "\n",
    "```bash\n",
    "pip install --upgrade kaleido\n",
    "```\n",
    "\n",
    "或者使用 conda：\n",
    "\n",
    "```bash\n",
    "conda install -c conda-forge python-kaleido\n",
    "```\n"
   ]
  },
  {
   "cell_type": "markdown",
   "id": "5ee07cc3",
   "metadata": {},
   "source": [
    "Kaleido 使用 Chrome 进行静态图像生成，它会寻找运行其程序的机器上已安装的兼容版本的 Chrome（或 Chromium）。如果你没有安装 Chrome，可以按照你的操作系统说明直接从 Google 安装。\n",
    "\n",
    "Plotly 还提供了从命令行安装 Chrome 的方法：\n",
    "```bash\n",
    "plotly_get_chrome\n",
    "```"
   ]
  },
  {
   "cell_type": "markdown",
   "id": "aed8249e",
   "metadata": {},
   "source": [
    "## 将图像写入文件\n",
    "\n",
    "Plotly 图有 `write_image` 方法可以将其写入文件。`write_image` 支持 PNG、JPEG、WebP、SVG 和 PDF 格式。"
   ]
  },
  {
   "cell_type": "code",
   "execution_count": 1,
   "id": "aa842345",
   "metadata": {},
   "outputs": [],
   "source": [
    "from pathlib import Path\n",
    "\n",
    "temp_dir = Path.cwd() / \"temp\"\n",
    "temp_dir.mkdir(exist_ok=True)"
   ]
  },
  {
   "cell_type": "markdown",
   "id": "646c5240",
   "metadata": {},
   "source": [
    "```python\n",
    "import plotly.express as px\n",
    "data_canada = px.data.gapminder().query(\"country == 'Canada'\")\n",
    "fig = px.bar(data_canada, x='year', y='pop')\n",
    "fig.write_image(temp_dir/\"fig1.png\")\n",
    "```"
   ]
  },
  {
   "cell_type": "markdown",
   "id": "2d6220be",
   "metadata": {},
   "source": [
    "## 写入多个图像\n",
    "\n",
    "plotly.io 提供了 write_images 函数，用于将多个图形写入图像。使用 write_images 比多次调用 fig.write_image 更快。\n",
    "\n",
    "write_images 以图形对象列表或表示图形的字典作为其第一个参数 fig 。第二个参数 file 是导出路径的列表。这些路径可以指定为 str 或 pathlib.Path 对象。"
   ]
  },
  {
   "cell_type": "markdown",
   "id": "caf45828",
   "metadata": {},
   "source": [
    "```python\n",
    "import plotly.graph_objects as go\n",
    "import plotly.express as px\n",
    "import plotly.io as pio\n",
    "\n",
    "\n",
    "fig1 = go.Figure(\n",
    "    data=go.Scatter(x=[1, 2, 3], y=[4, 5, 6], mode='lines+markers'),\n",
    "    layout=go.Layout(title='Line Chart')\n",
    ")\n",
    "\n",
    "fig2 = go.Figure(\n",
    "    data=go.Bar(x=['A', 'B', 'C'], y=[10, 5, 15]),\n",
    "    layout=go.Layout(title='Bar Chart')\n",
    ")\n",
    "\n",
    "fig3 = px.pie(\n",
    "    values=[30, 20, 10, 40],\n",
    "    names=['A', 'B', 'C', 'D'],\n",
    "    title='Pie Chart'\n",
    ")\n",
    "export_images = temp_dir/'export_images'\n",
    "export_images.mkdir()\n",
    "pio.write_images(\n",
    "    fig=[fig1, fig2, fig3],\n",
    "    file=[export_images/im for im in ['line_chart.png', 'bar_chart.png', 'pie_chart.png']]\n",
    ")\n",
    "```"
   ]
  },
  {
   "cell_type": "markdown",
   "id": "82e859a0",
   "metadata": {},
   "source": [
    "## 获取图像为字节\n",
    "\n",
    "除了导出到文件外，Plotly 图形还支持转换为字节对象。要将图形转换为 PNG 字节对象，请调用图形的 to_image 方法，并传入 format 。"
   ]
  },
  {
   "cell_type": "markdown",
   "id": "669fbcd0",
   "metadata": {},
   "source": [
    "```python\n",
    "import plotly.express as px\n",
    "data_canada = px.data.gapminder().query(\"country == 'Canada'\")\n",
    "fig = px.bar(data_canada, x='year', y='pop')\n",
    "img_bytes = fig.to_image(format=\"png\")\n",
    "```"
   ]
  },
  {
   "cell_type": "markdown",
   "id": "1baec59d",
   "metadata": {},
   "source": [
    "使用 IPython.display.Image 显示了 bytes 对象："
   ]
  },
  {
   "cell_type": "markdown",
   "id": "a580459b",
   "metadata": {},
   "source": [
    "```python\n",
    "from IPython.display import Image\n",
    "Image(img_bytes)\n",
    "```"
   ]
  },
  {
   "cell_type": "markdown",
   "id": "7ea657be",
   "metadata": {},
   "source": [
    "## 指定图像尺寸和比例\n",
    "\n",
    "除了图像格式外， to_image 和 write_image 函数还提供参数来指定图像的 width 和 height 在逻辑像素中。它们还提供了 scale 参数，可用于增加（ scale > 1）或减少（ scale < 1）生成图像的物理分辨率。"
   ]
  },
  {
   "cell_type": "markdown",
   "id": "5be4ac37",
   "metadata": {},
   "source": [
    "```python\n",
    "img_bytes = fig.to_image(format=\"png\", width=600, height=350, scale=2)\n",
    "Image(img_bytes)\n",
    "```"
   ]
  },
  {
   "cell_type": "code",
   "execution_count": null,
   "id": "558e3fee",
   "metadata": {},
   "outputs": [],
   "source": []
  }
 ],
 "metadata": {
  "kernelspec": {
   "display_name": "py313",
   "language": "python",
   "name": "python3"
  },
  "language_info": {
   "codemirror_mode": {
    "name": "ipython",
    "version": 3
   },
   "file_extension": ".py",
   "mimetype": "text/x-python",
   "name": "python",
   "nbconvert_exporter": "python",
   "pygments_lexer": "ipython3",
   "version": "3.13.2"
  }
 },
 "nbformat": 4,
 "nbformat_minor": 5
}
