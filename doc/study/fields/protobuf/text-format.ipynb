{
 "cells": [
  {
   "cell_type": "markdown",
   "id": "fbba94eb",
   "metadata": {},
   "source": [
    "# {mod}`google.protobuf.text_format`\n",
    "\n",
    "参考：[google.protobuf.text_format](https://googleapis.dev/python/protobuf/latest/google/protobuf/text_format.html)\n",
    "\n",
    "包含用于以文本格式打印协议消息的例程。\n",
    "\n",
    "简单使用示例：\n",
    "```python\n",
    "# Create a proto object and serialize it to a text proto string.\n",
    "message = my_proto_pb2.MyMessage(foo='bar')\n",
    "text_proto = text_format.MessageToString(message)\n",
    "\n",
    "# Parse a text proto string.\n",
    "message = text_format.Parse(text_proto, my_proto_pb2.MyMessage())\n",
    "```"
   ]
  },
  {
   "cell_type": "markdown",
   "id": "13d59a04",
   "metadata": {},
   "source": [
    "{func}`google.protobuf.text_format.MessageToString` 将 protobuf 消息转换为文本格式。"
   ]
  },
  {
   "cell_type": "code",
   "execution_count": 1,
   "id": "d7fdc460",
   "metadata": {
    "tags": [
     "hide-output"
    ]
   },
   "outputs": [
    {
     "name": "stdout",
     "output_type": "stream",
     "text": [
      "\u001b[31mSignature:\u001b[39m\n",
      "text_format.MessageToString(\n",
      "    message,\n",
      "    as_utf8=\u001b[38;5;28;01mTrue\u001b[39;00m,\n",
      "    as_one_line=\u001b[38;5;28;01mFalse\u001b[39;00m,\n",
      "    use_short_repeated_primitives=\u001b[38;5;28;01mFalse\u001b[39;00m,\n",
      "    pointy_brackets=\u001b[38;5;28;01mFalse\u001b[39;00m,\n",
      "    use_index_order=\u001b[38;5;28;01mFalse\u001b[39;00m,\n",
      "    float_format=\u001b[38;5;28;01mNone\u001b[39;00m,\n",
      "    double_format=\u001b[38;5;28;01mNone\u001b[39;00m,\n",
      "    use_field_number=\u001b[38;5;28;01mFalse\u001b[39;00m,\n",
      "    descriptor_pool=\u001b[38;5;28;01mNone\u001b[39;00m,\n",
      "    indent=\u001b[32m0\u001b[39m,\n",
      "    message_formatter=\u001b[38;5;28;01mNone\u001b[39;00m,\n",
      "    print_unknown_fields=\u001b[38;5;28;01mFalse\u001b[39;00m,\n",
      "    force_colon=\u001b[38;5;28;01mFalse\u001b[39;00m,\n",
      ") -> str\n",
      "\u001b[31mDocstring:\u001b[39m\n",
      "Convert protobuf message to text format.\n",
      "\n",
      "Double values can be formatted compactly with 15 digits of\n",
      "precision (which is the most that IEEE 754 \"double\" can guarantee)\n",
      "using double_format='.15g'. To ensure that converting to text and back to a\n",
      "proto will result in an identical value, double_format='.17g' should be used.\n",
      "\n",
      "Args:\n",
      "  message: The protocol buffers message.\n",
      "  as_utf8: Return unescaped Unicode for non-ASCII characters.\n",
      "  as_one_line: Don't introduce newlines between fields.\n",
      "  use_short_repeated_primitives: Use short repeated format for primitives.\n",
      "  pointy_brackets: If True, use angle brackets instead of curly braces for\n",
      "    nesting.\n",
      "  use_index_order: If True, fields of a proto message will be printed using\n",
      "    the order defined in source code instead of the field number, extensions\n",
      "    will be printed at the end of the message and their relative order is\n",
      "    determined by the extension number. By default, use the field number\n",
      "    order.\n",
      "  float_format (str): If set, use this to specify float field formatting\n",
      "    (per the \"Format Specification Mini-Language\"); otherwise, shortest float\n",
      "    that has same value in wire will be printed. Also affect double field\n",
      "    if double_format is not set but float_format is set.\n",
      "  double_format (str): If set, use this to specify double field formatting\n",
      "    (per the \"Format Specification Mini-Language\"); if it is not set but\n",
      "    float_format is set, use float_format. Otherwise, use ``str()``\n",
      "  use_field_number: If True, print field numbers instead of names.\n",
      "  descriptor_pool (DescriptorPool): Descriptor pool used to resolve Any types.\n",
      "  indent (int): The initial indent level, in terms of spaces, for pretty\n",
      "    print.\n",
      "  message_formatter (function(message, indent, as_one_line) -> unicode|None):\n",
      "    Custom formatter for selected sub-messages (usually based on message\n",
      "    type). Use to pretty print parts of the protobuf for easier diffing.\n",
      "  print_unknown_fields: If True, unknown fields will be printed.\n",
      "  force_colon: If set, a colon will be added after the field name even if the\n",
      "    field is a proto message.\n",
      "\n",
      "Returns:\n",
      "  str: A string of the text formatted protocol buffer message.\n",
      "\u001b[31mFile:\u001b[39m      /media/pc/data/lxw/envs/anaconda3a/envs/py313/lib/python3.13/site-packages/google/protobuf/text_format.py\n",
      "\u001b[31mType:\u001b[39m      function"
     ]
    }
   ],
   "source": [
    "from google.protobuf import text_format\n",
    "text_format.MessageToString?"
   ]
  },
  {
   "cell_type": "markdown",
   "id": "85183d83",
   "metadata": {},
   "source": [
    "{func}`google.protobuf.text_format.Parse` 将协议消息的文本表示解析为消息。"
   ]
  },
  {
   "cell_type": "code",
   "execution_count": 2,
   "id": "17ae8968",
   "metadata": {
    "tags": [
     "hide-output"
    ]
   },
   "outputs": [
    {
     "name": "stdout",
     "output_type": "stream",
     "text": [
      "\u001b[31mSignature:\u001b[39m\n",
      "text_format.Parse(\n",
      "    text,\n",
      "    message,\n",
      "    allow_unknown_extension=\u001b[38;5;28;01mFalse\u001b[39;00m,\n",
      "    allow_field_number=\u001b[38;5;28;01mFalse\u001b[39;00m,\n",
      "    descriptor_pool=\u001b[38;5;28;01mNone\u001b[39;00m,\n",
      "    allow_unknown_field=\u001b[38;5;28;01mFalse\u001b[39;00m,\n",
      ")\n",
      "\u001b[31mDocstring:\u001b[39m\n",
      "Parses a text representation of a protocol message into a message.\n",
      "\n",
      "NOTE: for historical reasons this function does not clear the input\n",
      "message. This is different from what the binary msg.ParseFrom(...) does.\n",
      "If text contains a field already set in message, the value is appended if the\n",
      "field is repeated. Otherwise, an error is raised.\n",
      "\n",
      "Example::\n",
      "\n",
      "  a = MyProto()\n",
      "  a.repeated_field.append('test')\n",
      "  b = MyProto()\n",
      "\n",
      "  # Repeated fields are combined\n",
      "  text_format.Parse(repr(a), b)\n",
      "  text_format.Parse(repr(a), b) # repeated_field contains [\"test\", \"test\"]\n",
      "\n",
      "  # Non-repeated fields cannot be overwritten\n",
      "  a.singular_field = 1\n",
      "  b.singular_field = 2\n",
      "  text_format.Parse(repr(a), b) # ParseError\n",
      "\n",
      "  # Binary version:\n",
      "  b.ParseFromString(a.SerializeToString()) # repeated_field is now \"test\"\n",
      "\n",
      "Caller is responsible for clearing the message as needed.\n",
      "\n",
      "Args:\n",
      "  text (str): Message text representation.\n",
      "  message (Message): A protocol buffer message to merge into.\n",
      "  allow_unknown_extension: if True, skip over missing extensions and keep\n",
      "    parsing\n",
      "  allow_field_number: if True, both field number and field name are allowed.\n",
      "  descriptor_pool (DescriptorPool): Descriptor pool used to resolve Any types.\n",
      "  allow_unknown_field: if True, skip over unknown field and keep\n",
      "    parsing. Avoid to use this option if possible. It may hide some\n",
      "    errors (e.g. spelling error on field name)\n",
      "\n",
      "Returns:\n",
      "  Message: The same message passed as argument.\n",
      "\n",
      "Raises:\n",
      "  ParseError: On text parsing problems.\n",
      "\u001b[31mFile:\u001b[39m      /media/pc/data/lxw/envs/anaconda3a/envs/py313/lib/python3.13/site-packages/google/protobuf/text_format.py\n",
      "\u001b[31mType:\u001b[39m      function"
     ]
    }
   ],
   "source": [
    "text_format.Parse?"
   ]
  },
  {
   "cell_type": "markdown",
   "id": "cdb7c81c",
   "metadata": {},
   "source": [
    "注意：由于历史原因，此函数不会清除输入消息。这与二进制 `msg.ParseFrom(…)` 的行为不同。如果文本中包含消息中已设置的字段，如果该字段是重复的，则追加值；否则，会引发错误。"
   ]
  },
  {
   "cell_type": "markdown",
   "id": "f7467140",
   "metadata": {},
   "source": [
    "示例：\n",
    "\n",
    "```python\n",
    "a = MyProto()\n",
    "a.repeated_field.append('test')\n",
    "b = MyProto()\n",
    "\n",
    "# Repeated fields are combined\n",
    "text_format.Parse(repr(a), b)\n",
    "text_format.Parse(repr(a), b) # repeated_field contains [\"test\", \"test\"]\n",
    "\n",
    "# Non-repeated fields cannot be overwritten\n",
    "a.singular_field = 1\n",
    "b.singular_field = 2\n",
    "text_format.Parse(repr(a), b) # ParseError\n",
    "\n",
    "# Binary version:\n",
    "b.ParseFromString(a.SerializeToString()) # repeated_field is now \"test\"\n",
    "```"
   ]
  },
  {
   "cell_type": "markdown",
   "id": "bb6aa5f9",
   "metadata": {},
   "source": [
    "{func}`google.protobuf.text_format.Merge` 将协议消息的文本表示解析为消息。"
   ]
  },
  {
   "cell_type": "code",
   "execution_count": 4,
   "id": "bc250279",
   "metadata": {
    "tags": [
     "hide-output"
    ]
   },
   "outputs": [
    {
     "name": "stdout",
     "output_type": "stream",
     "text": [
      "\u001b[31mSignature:\u001b[39m\n",
      "text_format.Merge(\n",
      "    text,\n",
      "    message,\n",
      "    allow_unknown_extension=\u001b[38;5;28;01mFalse\u001b[39;00m,\n",
      "    allow_field_number=\u001b[38;5;28;01mFalse\u001b[39;00m,\n",
      "    descriptor_pool=\u001b[38;5;28;01mNone\u001b[39;00m,\n",
      "    allow_unknown_field=\u001b[38;5;28;01mFalse\u001b[39;00m,\n",
      ")\n",
      "\u001b[31mDocstring:\u001b[39m\n",
      "Parses a text representation of a protocol message into a message.\n",
      "\n",
      "Like Parse(), but allows repeated values for a non-repeated field, and uses\n",
      "the last one. This means any non-repeated, top-level fields specified in text\n",
      "replace those in the message.\n",
      "\n",
      "Args:\n",
      "  text (str): Message text representation.\n",
      "  message (Message): A protocol buffer message to merge into.\n",
      "  allow_unknown_extension: if True, skip over missing extensions and keep\n",
      "    parsing\n",
      "  allow_field_number: if True, both field number and field name are allowed.\n",
      "  descriptor_pool (DescriptorPool): Descriptor pool used to resolve Any types.\n",
      "  allow_unknown_field: if True, skip over unknown field and keep\n",
      "    parsing. Avoid to use this option if possible. It may hide some\n",
      "    errors (e.g. spelling error on field name)\n",
      "\n",
      "Returns:\n",
      "  Message: The same message passed as argument.\n",
      "\n",
      "Raises:\n",
      "  ParseError: On text parsing problems.\n",
      "\u001b[31mFile:\u001b[39m      /media/pc/data/lxw/envs/anaconda3a/envs/py313/lib/python3.13/site-packages/google/protobuf/text_format.py\n",
      "\u001b[31mType:\u001b[39m      function"
     ]
    }
   ],
   "source": [
    "text_format.Merge?"
   ]
  },
  {
   "cell_type": "markdown",
   "id": "6f00508d",
   "metadata": {},
   "source": [
    "与 {func}`google.protobuf.text_format.Parse` 类似，但允许非重复字段有重复值，并使用最后一个值。这意味着文本中指定的任何非重复、顶层字段将替换消息中的字段。"
   ]
  },
  {
   "cell_type": "code",
   "execution_count": null,
   "id": "7adc6c81",
   "metadata": {},
   "outputs": [],
   "source": []
  }
 ],
 "metadata": {
  "kernelspec": {
   "display_name": "py313",
   "language": "python",
   "name": "python3"
  },
  "language_info": {
   "codemirror_mode": {
    "name": "ipython",
    "version": 3
   },
   "file_extension": ".py",
   "mimetype": "text/x-python",
   "name": "python",
   "nbconvert_exporter": "python",
   "pygments_lexer": "ipython3",
   "version": "3.13.5"
  }
 },
 "nbformat": 4,
 "nbformat_minor": 5
}
