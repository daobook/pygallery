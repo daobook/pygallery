{
 "cells": [
  {
   "cell_type": "markdown",
   "metadata": {},
   "source": [
    "# {mod}`contextvars` 简介"
   ]
  },
  {
   "cell_type": "markdown",
   "metadata": {},
   "source": [
    "{mod}`contextvars` 模块来管理上下文变量，可以用于在异步编程中传递上下文信息。"
   ]
  },
  {
   "cell_type": "code",
   "execution_count": 1,
   "metadata": {},
   "outputs": [
    {
     "name": "stdout",
     "output_type": "stream",
     "text": [
      "A\n"
     ]
    }
   ],
   "source": [
    "import contextvars\n",
    "\n",
    "# 创建名为 `var` 的上下文变量，并将其初始值设置为 `'A'`。\n",
    "var = contextvars.ContextVar('var')\n",
    "var.set('A')\n",
    "print(var.get()) # 使用 `var.get()` 获取当前上下文中的值"
   ]
  },
  {
   "cell_type": "markdown",
   "metadata": {},
   "source": [
    "{func}`contextvars.copy_context` 复制当前的上下文："
   ]
  },
  {
   "cell_type": "code",
   "execution_count": 2,
   "metadata": {},
   "outputs": [
    {
     "name": "stdout",
     "output_type": "stream",
     "text": [
      "[(<ContextVar name='decimal_context' at 0x7fad82a8ee30>, Context(prec=28, rounding=ROUND_HALF_EVEN, Emin=-999999, Emax=999999, capitals=1, clamp=0, flags=[], traps=[InvalidOperation, DivisionByZero, Overflow])), (<ContextVar name='var' at 0x7fad7c6f1d50>, 'A')]\n"
     ]
    }
   ],
   "source": [
    "ctx = contextvars.copy_context()\n",
    "print(list(ctx.items()))"
   ]
  },
  {
   "cell_type": "markdown",
   "metadata": {},
   "source": [
    "```{note}\n",
    "{func}`contextvars.copy_context` 函数具有 O(1) 复杂度，也就是说对于只包含几个上下文变量和很多上下文变量的情况运行速度是相同的。\n",
    "```"
   ]
  },
  {
   "cell_type": "code",
   "execution_count": 3,
   "metadata": {},
   "outputs": [],
   "source": [
    "def main():\n",
    "    print(f\"var.get(): {var.get()}\")\n",
    "    print(f\"ctx[var]: {ctx[var]}\")\n",
    "    # 修改上下文变量\n",
    "    token = var.set('B')\n",
    "    print(f\"修改后 var.get(): {var.get()}||token:{token}\")\n",
    "    print(f\"修改后 ctx[var]: {ctx[var]}\")"
   ]
  },
  {
   "cell_type": "code",
   "execution_count": 4,
   "metadata": {},
   "outputs": [
    {
     "name": "stdout",
     "output_type": "stream",
     "text": [
      "var.get(): A\n",
      "ctx[var]: A\n",
      "修改后 var.get(): B||token:<Token var=<ContextVar name='var' at 0x7fad7c6f1d50> at 0x7fad7c6f7080>\n",
      "修改后 ctx[var]: A\n"
     ]
    }
   ],
   "source": [
    "main()"
   ]
  },
  {
   "cell_type": "markdown",
   "metadata": {},
   "source": [
    "可以看到 `ctx[var]` 没有被修改。"
   ]
  },
  {
   "cell_type": "markdown",
   "metadata": {},
   "source": [
    "`ctx.run(callable, *args, **kwargs)`\n",
    ":   进入上下文，执行 `callable(*args, **kwargs)`，然后退出上下文。返回 `callable` 的返回值，如果发生异常则传播该异常。"
   ]
  },
  {
   "cell_type": "code",
   "execution_count": 5,
   "metadata": {},
   "outputs": [
    {
     "name": "stdout",
     "output_type": "stream",
     "text": [
      "var.get(): A\n",
      "ctx[var]: A\n",
      "修改后 var.get(): B||token:<Token var=<ContextVar name='var' at 0x7fad7c6f1d50> at 0x7fad7c717f40>\n",
      "修改后 ctx[var]: B\n"
     ]
    }
   ],
   "source": [
    "ctx.run(main) # “main”函数对“var”所做的任何更改都将包含在“ctx”中。"
   ]
  },
  {
   "cell_type": "code",
   "execution_count": 6,
   "metadata": {},
   "outputs": [
    {
     "data": {
      "text/plain": [
       "'B'"
      ]
     },
     "execution_count": 6,
     "metadata": {},
     "output_type": "execute_result"
    }
   ],
   "source": [
    "ctx[var]"
   ]
  },
  {
   "cell_type": "code",
   "execution_count": 7,
   "metadata": {},
   "outputs": [
    {
     "data": {
      "text/plain": [
       "'B'"
      ]
     },
     "execution_count": 7,
     "metadata": {},
     "output_type": "execute_result"
    }
   ],
   "source": [
    "var.get()"
   ]
  }
 ],
 "metadata": {
  "kernelspec": {
   "display_name": "xxx",
   "language": "python",
   "name": "python3"
  },
  "language_info": {
   "codemirror_mode": {
    "name": "ipython",
    "version": 3
   },
   "file_extension": ".py",
   "mimetype": "text/x-python",
   "name": "python",
   "nbconvert_exporter": "python",
   "pygments_lexer": "ipython3",
   "version": "3.12.2"
  }
 },
 "nbformat": 4,
 "nbformat_minor": 2
}
