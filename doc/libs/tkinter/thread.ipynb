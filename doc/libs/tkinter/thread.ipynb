{
 "cells": [
  {
   "cell_type": "markdown",
   "metadata": {},
   "source": [
    "# {mod}`tkinter` 运行多线程任务"
   ]
  },
  {
   "cell_type": "markdown",
   "metadata": {},
   "source": [
    "```python\n",
    "from tkinter import ttk, Tk, StringVar\n",
    "import time\n",
    "import threading\n",
    "\n",
    "class Window(Tk):\n",
    "    def __init__(self, **kw):\n",
    "        super().__init__(**kw)\n",
    "        self.download_thread = None\n",
    "        self.download_button = ttk.Button(self, text=\"开始下载\", command=self.start_download_thread)\n",
    "        self.result_label = ttk.Label(self, text=\"\")\n",
    "        self.text_var = StringVar(self)\n",
    "        self.entry = ttk.Entry(self, textvariable=self.text_var)\n",
    "        self.label = ttk.Label(self, textvariable=self.text_var)\n",
    "        self.text_var.trace_add(\"write\", self.update_text())\n",
    "        self.download_button.grid(row=0, column=0)\n",
    "        self.result_label.grid(row=1, column=0)\n",
    "        self.entry.grid(row=0, column=1)\n",
    "        self.label.grid(row=1, column=1)\n",
    "        \n",
    "    def start_download_thread(self):\n",
    "        if self.download_thread is None or not self.download_thread.is_alive():\n",
    "            self.download_thread = threading.Thread(target=self.download, daemon=True)\n",
    "            self.download_thread.start()\n",
    "\n",
    "    def download(self):\n",
    "        # 模拟下载任务，这里可以替换为实际的下载操作\n",
    "        for i in range(1, 6):\n",
    "            self.result_label.config(text=f\"下载中... ({i}/5)\")\n",
    "            self.update()  # 更新主界面以显示下载进度\n",
    "            time.sleep(2)  # 模拟下载延迟\n",
    "        self.result_label.config(text=\"下载完成\")\n",
    "\n",
    "    def update_text(self, *args):\n",
    "        def wrap(*args):\n",
    "            self.text_var.set(self.entry.get())\n",
    "        return wrap\n",
    "\n",
    "root = Window()\n",
    "root.title(\"多线程示例\")\n",
    "root.mainloop()\n",
    "```"
   ]
  },
  {
   "cell_type": "code",
   "execution_count": null,
   "metadata": {},
   "outputs": [],
   "source": []
  }
 ],
 "metadata": {
  "kernelspec": {
   "display_name": "xxx",
   "language": "python",
   "name": "python3"
  },
  "language_info": {
   "codemirror_mode": {
    "name": "ipython",
    "version": 3
   },
   "file_extension": ".py",
   "mimetype": "text/x-python",
   "name": "python",
   "nbconvert_exporter": "python",
   "pygments_lexer": "ipython3",
   "version": "3.12.2"
  }
 },
 "nbformat": 4,
 "nbformat_minor": 2
}
