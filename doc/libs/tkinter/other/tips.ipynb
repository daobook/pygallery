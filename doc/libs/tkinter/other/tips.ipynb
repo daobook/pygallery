{
 "cells": [
  {
   "cell_type": "markdown",
   "metadata": {},
   "source": [
    "# Tips\n",
    "\n",
    "## 1 tkinter: Model-View-Controller (MVC) 模式\n",
    "\n",
    "简而言之，这种模式有三个组件以何种方式划分我们的 GUI：\n",
    "\n",
    "- Model：它保存应用程序数据\n",
    "- View：显示此数据的视图\n",
    "- Controller：处理用户事件并将视图与模型连接的控制器\n",
    "\n",
    "## 2 利用 PIL 处理图片\n",
    "\n",
    "由于 tkinter.PhotoImage 不支持 JPG 等图片格式，所以需要借助 PIL.ImageTk.PhotoImage 来完成对图片的操作。\n",
    "\n",
    "比如，**设置窗口的图标**可以这样：\n",
    "\n",
    "```python\n",
    "from tkinter import Tk, ttk, StringVar\n",
    "from PIL import ImageTk, Image\n",
    "\n",
    "root = Tk()\n",
    "root.geometry('327x272')  \n",
    "im = Image.open('images/test.jpg')\n",
    "root.iconphoto(False, ImageTk.PhotoImage(im))\n",
    "root.mainloop()\n",
    "```\n",
    "\n",
    "在这里，`root.iconphoto` 的第一参数 `False`表示该图标图像仅适用于该特定窗口，而不适用于将来创建的 toplevels 窗口；如果设置为 `True` ，则图标图像也将应用于以后创建的所有 toplevels 图像。"
   ]
  }
 ],
 "metadata": {
  "language_info": {
   "name": "python"
  }
 },
 "nbformat": 4,
 "nbformat_minor": 2
}
