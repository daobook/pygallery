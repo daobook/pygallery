{
 "cells": [
  {
   "cell_type": "markdown",
   "metadata": {},
   "source": [
    "# 窗口的 `wm_overrideredirect` 方法\n",
    "\n",
    "如果参数为 1 或者 `True`，就让 window manager 忽略这个窗体控件；如果参数为 `None`，就返回此窗体控件当前的这个 overrideredirect 状态。此函数只在 Window 系统平台下有效，在 Ubuntu 桌面下无效（函数可以正常运行，但是没有实际效果）。\n",
    "\n",
    "在 Windows 平台下，这个函数的作用，视觉上窗体整个边框消失（没有最小化最大化关闭这几个按钮，也无法拖动这个窗体），程序的窗体在 Windows 系统任务栏上也消失（看不到有这么一个程序在运行），但是 `Alt+F4` 关闭窗体的功能还存在。\n",
    "\n",
    "先看默认状态的情况：\n",
    "\n",
    "```python\n",
    "root = Tk()\n",
    "lb = ttk.Label(root, text='wm_overrideredirect', font=('',27))\n",
    "lb.pack()\n",
    "# 默认状态\n",
    "root.wm_overrideredirect(0)  # 可以忽略而不设置\n",
    "root.mainloop()\n",
    "```\n",
    "\n",
    "显示的结果为：\n",
    "\n",
    "![图1.1 默认状态下的窗体](https://upload-images.jianshu.io/upload_images/1114626-2ed8a9ad543748ca.png?imageMogr2/auto-orient/strip%7CimageView2/2/w/1240)\n",
    "\n",
    "修改默认值：\n",
    "\n",
    "```python\n",
    "root.wm_overrideredirect(1)\n",
    "```\n",
    "\n",
    "![图1.2 设定 overrideredirect 为真](https://upload-images.jianshu.io/upload_images/1114626-b5fe9986f42801a7.png?imageMogr2/auto-orient/strip%7CimageView2/2/w/1240)\n",
    "\n",
    "注意：`wm_overrideredirect` 的别名是 `overrideredirect`。\n",
    "\n"
   ]
  }
 ],
 "metadata": {
  "language_info": {
   "name": "python"
  }
 },
 "nbformat": 4,
 "nbformat_minor": 2
}
