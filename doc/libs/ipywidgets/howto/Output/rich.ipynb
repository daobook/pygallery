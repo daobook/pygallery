{
 "cells": [
  {
   "cell_type": "markdown",
   "metadata": {},
   "source": [
    "# 输出小部件：富文本"
   ]
  },
  {
   "cell_type": "code",
   "execution_count": 1,
   "metadata": {
    "tags": [
     "remove-cell"
    ]
   },
   "outputs": [
    {
     "name": "stdout",
     "output_type": "stream",
     "text": [
      "Note: you may need to restart the kernel to use updated packages.\n"
     ]
    }
   ],
   "source": [
    "# 为了保证 `JupyterLite` 可用，需要 notebook 开头添加：\n",
    "%pip install -q ipywidgets"
   ]
  },
  {
   "cell_type": "code",
   "execution_count": 2,
   "metadata": {},
   "outputs": [],
   "source": [
    "import ipywidgets as widgets"
   ]
  },
  {
   "cell_type": "markdown",
   "metadata": {},
   "source": [
    "富文本输出也可以定向到输出区域。任何在 Jupyter 笔记本中显示良好的内容也会在 `Output` 部件中显示得很好。"
   ]
  },
  {
   "cell_type": "markdown",
   "metadata": {},
   "source": [
    "```python\n",
    "from IPython.display import YouTubeVideo\n",
    "with out:\n",
    "    display(YouTubeVideo('eWzY2nGfkXk'))\n",
    "```"
   ]
  },
  {
   "cell_type": "markdown",
   "metadata": {},
   "source": [
    "甚至可以在输出部件中显示复杂的 `mimetypes`，例如嵌套的部件。"
   ]
  },
  {
   "cell_type": "code",
   "execution_count": 3,
   "metadata": {},
   "outputs": [],
   "source": [
    "out = widgets.Output(layout={'border': '2px solid black'})\n",
    "with out:\n",
    "    display(widgets.IntSlider())"
   ]
  },
  {
   "cell_type": "code",
   "execution_count": null,
   "metadata": {},
   "outputs": [
    {
     "data": {
      "application/vnd.jupyter.widget-view+json": {
       "model_id": "5dfed4a259664fffba503b609eb196fc",
       "version_major": 2,
       "version_minor": 0
      },
      "text/plain": [
       "Output(layout=Layout(border_bottom='2px solid black', border_left='2px solid black', border_right='2px solid b…"
      ]
     },
     "execution_count": 4,
     "metadata": {},
     "output_type": "execute_result"
    }
   ],
   "source": [
    "# out"
   ]
  },
  {
   "cell_type": "markdown",
   "metadata": {},
   "source": [
    "可以通过在上下文管理器中使用 `IPython.display.clear_output` 来清除输出，或者我们可以直接调用部件的 `clear_output `方法。"
   ]
  },
  {
   "cell_type": "code",
   "execution_count": null,
   "metadata": {},
   "outputs": [
    {
     "data": {
      "application/vnd.jupyter.widget-view+json": {
       "model_id": "10f60f7376da496ab3e54f7fbf6932c5",
       "version_major": 2,
       "version_minor": 0
      },
      "text/plain": [
       "Output(layout=Layout(border_bottom='2px solid black', border_left='2px solid black', border_right='2px solid b…"
      ]
     },
     "execution_count": 5,
     "metadata": {},
     "output_type": "execute_result"
    }
   ],
   "source": [
    "out = widgets.Output(layout={'border': '2px solid black'})\n",
    "with out:\n",
    "    display(widgets.IntSlider())\n",
    "out.clear_output()\n",
    "# out"
   ]
  },
  {
   "cell_type": "code",
   "execution_count": 1,
   "metadata": {},
   "outputs": [],
   "source": [
    "import os"
   ]
  },
  {
   "cell_type": "code",
   "execution_count": null,
   "metadata": {},
   "outputs": [
    {
     "data": {
      "text/plain": [
       "environ{'SHELL': '/bin/bash',\n",
       "        'LC_ADDRESS': 'zh_CN.UTF-8',\n",
       "        'LC_NAME': 'zh_CN.UTF-8',\n",
       "        'LC_MONETARY': 'zh_CN.UTF-8',\n",
       "        'PWD': '/home/ai',\n",
       "        'LOGNAME': 'ai',\n",
       "        'XDG_SESSION_TYPE': 'tty',\n",
       "        'MOTD_SHOWN': 'pam',\n",
       "        'HOME': '/home/ai',\n",
       "        'LC_PAPER': 'zh_CN.UTF-8',\n",
       "        'LANG': 'zh_CN.UTF-8',\n",
       "        'SSL_CERT_DIR': '/usr/lib/ssl/certs',\n",
       "        'VSCODE_AGENT_FOLDER': '/home/ai/.vscode-server',\n",
       "        'SSH_CONNECTION': '10.16.2.109 59882 10.16.11.3 22',\n",
       "        'XDG_SESSION_CLASS': 'user',\n",
       "        'LC_IDENTIFICATION': 'zh_CN.UTF-8',\n",
       "        'USER': 'ai',\n",
       "        'DISPLAY': 'localhost:12.0',\n",
       "        'SHLVL': '1',\n",
       "        'LC_TELEPHONE': 'zh_CN.UTF-8',\n",
       "        'LC_MEASUREMENT': 'zh_CN.UTF-8',\n",
       "        'XDG_SESSION_ID': '3042',\n",
       "        'XDG_RUNTIME_DIR': '/run/user/1006',\n",
       "        'SSL_CERT_FILE': '/usr/lib/ssl/certs/ca-certificates.crt',\n",
       "        'SSH_CLIENT': '10.16.2.109 59882 22',\n",
       "        'LC_TIME': 'zh_CN.UTF-8',\n",
       "        'VSCODE_CLI_REQUIRE_TOKEN': 'a2d4eece-ad41-436b-9660-812271e7852e',\n",
       "        'PATH': '/media/pc/data/lxw/envs/anaconda3x/envs/xxx/bin:/media/pc/data/tasks/.vscode-server/cli/servers/Stable-f1a4fb101478ce6ec82fe9627c43efbf9e98c813/server/bin/remote-cli:/opt/xm_toolchain/arm-xmv5-linux/usr/bin/:/opt/xm_toolchain/arm-xm-linux/usr/bin/:/usr/local/sbin:/usr/local/bin:/usr/sbin:/usr/bin:/sbin:/bin:/usr/games:/usr/local/games:/snap/bin:/home/ai/.dotnet/tools:/media/pc/data/tasks/.vscode-server/cli/servers/Stable-f1a4fb101478ce6ec82fe9627c43efbf9e98c813/server/bin/remote-cli:/opt/xm_toolchain/arm-xmv5-linux/usr/bin/:/opt/xm_toolchain/arm-xm-linux/usr/bin/:/usr/local/sbin:/usr/local/bin:/usr/sbin:/usr/bin:/sbin:/bin:/usr/games:/usr/local/games:/snap/bin:/home/ai/.dotnet/tools',\n",
       "        'DBUS_SESSION_BUS_ADDRESS': 'unix:path=/run/user/1006/bus',\n",
       "        'LC_NUMERIC': 'zh_CN.UTF-8',\n",
       "        '_': '/media/pc/data/tasks/.vscode-server/cli/servers/Stable-f1a4fb101478ce6ec82fe9627c43efbf9e98c813/server/node',\n",
       "        'VSCODE_CWD': '/home/ai',\n",
       "        'VSCODE_NLS_CONFIG': '{\"userLocale\":\"zh-cn\",\"osLocale\":\"zh-cn\",\"resolvedLanguage\":\"en\",\"defaultMessagesFile\":\"/media/pc/data/tasks/.vscode-server/cli/servers/Stable-f1a4fb101478ce6ec82fe9627c43efbf9e98c813/server/out/nls.messages.json\",\"locale\":\"zh-cn\",\"availableLanguages\":{}}',\n",
       "        'VSCODE_HANDLES_SIGPIPE': 'true',\n",
       "        'PKG_CONFIG_PATH': ':/usr/local/lib/pkgconfig',\n",
       "        'XDG_DATA_DIRS': '/usr/share/gnome:/usr/local/share:/usr/share:/var/lib/snapd/desktop',\n",
       "        'VSCODE_ESM_ENTRYPOINT': 'vs/workbench/api/node/extensionHostProcess',\n",
       "        'VSCODE_HANDLES_UNCAUGHT_ERRORS': 'true',\n",
       "        'BROWSER': '/media/pc/data/tasks/.vscode-server/cli/servers/Stable-f1a4fb101478ce6ec82fe9627c43efbf9e98c813/server/bin/helpers/browser.sh',\n",
       "        'ELECTRON_RUN_AS_NODE': '1',\n",
       "        'VSCODE_IPC_HOOK_CLI': '/run/user/1006/vscode-ipc-fe2f7cea-7f3e-4542-9bda-f72377914116.sock',\n",
       "        'VSCODE_L10N_BUNDLE_LOCATION': 'vscode-local:/c%3A/Users/XMICUser/.vscode/extensions/ms-ceintl.vscode-language-pack-zh-hans-1.95.2024103009/translations/extensions/vscode.html-language-features.i18n.json',\n",
       "        'CONDA_PREFIX': '/media/pc/data/lxw/envs/anaconda3x/envs/xxx',\n",
       "        'PYDEVD_IPYTHON_COMPATIBLE_DEBUGGING': '1',\n",
       "        'PYTHONUNBUFFERED': '1',\n",
       "        'PYTHONIOENCODING': 'utf-8',\n",
       "        'PYTHON_FROZEN_MODULES': 'on',\n",
       "        'PYDEVD_USE_FRAME_EVAL': 'NO',\n",
       "        'TERM': 'xterm-color',\n",
       "        'CLICOLOR': '1',\n",
       "        'FORCE_COLOR': '1',\n",
       "        'CLICOLOR_FORCE': '1',\n",
       "        'PAGER': 'cat',\n",
       "        'GIT_PAGER': 'cat',\n",
       "        'MPLBACKEND': 'module://matplotlib_inline.backend_inline'}"
      ]
     },
     "execution_count": 2,
     "metadata": {},
     "output_type": "execute_result"
    }
   ],
   "source": [
    "os."
   ]
  },
  {
   "cell_type": "code",
   "execution_count": null,
   "metadata": {},
   "outputs": [],
   "source": []
  }
 ],
 "metadata": {
  "kernelspec": {
   "display_name": "Python 3",
   "language": "python",
   "name": "python3"
  },
  "language_info": {
   "codemirror_mode": {
    "name": "ipython",
    "version": 3
   },
   "file_extension": ".py",
   "mimetype": "text/x-python",
   "name": "python",
   "nbconvert_exporter": "python",
   "pygments_lexer": "ipython3",
   "version": "3.12.2"
  }
 },
 "nbformat": 4,
 "nbformat_minor": 4
}
