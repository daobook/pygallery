{
 "cells": [
  {
   "cell_type": "markdown",
   "metadata": {},
   "source": [
    "# Sphinx AutoAPI 简介\n",
    "\n",
    "[Sphinx AutoAPI](https://sphinx-autoapi.readthedocs.io/en/latest/index.html) 是用于生成完整 API 文档的 Sphinx 扩展，它不需要加载、运行或导入正在记录的项目。\n",
    "\n",
    "与传统的 Sphinx [autodoc](https://www.sphinx-doc.org/en/master/usage/extensions/autodoc.html) 不同，后者需要一些手动编写并使用代码导入，而 AutoAPI 通过解析源代码来查找和生成文档。"
   ]
  },
  {
   "cell_type": "markdown",
   "metadata": {},
   "source": [
    "安装：\n",
    "\n",
    "```python\n",
    "pip install sphinx-autoapi\n",
    "```\n",
    "\n",
    "要启用扩展，我们需要将其添加到Sphinx的conf.py文件中的扩展列表中:\n",
    "\n",
    "```python\n",
    "extensions = ['autoapi.extension']\n",
    "```"
   ]
  },
  {
   "cell_type": "markdown",
   "metadata": {},
   "source": [
    "只需要设置必需的配置选项。[`autoapi_dirs`](https://sphinx-autoapi.readthedocs.io/en/latest/reference/config.html#confval-autoapi_dirs) 告诉 AutoAPI 哪些目录包含要记录的源代码。这些可以是绝对的，也可以是相对于文档文件的源目录的。例如，假设有一个包，已经使用 `sphinx-quickstart` 在 `doc/` 文件夹中创建了 Sphinx 项目。目录结构可能是这样的：\n",
    "\n",
    "```\n",
    "mypackage/\n",
    "├── docs\n",
    "│   ├── _build\n",
    "│   ├── conf.py\n",
    "│   ├── index.rst\n",
    "│   ├── make.bat\n",
    "│   ├── Makefile\n",
    "│   ├── _static\n",
    "│   └── _templates\n",
    "├── mypackage\n",
    "│   ├── _client.py\n",
    "│   ├── __init__.py\n",
    "│   └── _server.py\n",
    "└── README.md\n",
    "```"
   ]
  },
  {
   "cell_type": "markdown",
   "metadata": {},
   "source": [
    "`sphinx-quickstart` 将 `sphinx-build` 设置为从 `doc/` 目录中运行，源代码在上一级。所以 `autoapi_dirs` 选项的值应该是：\n",
    "\n",
    "```python\n",
    "autoapi_dirs = ['../mypackage']\n",
    "```"
   ]
  },
  {
   "cell_type": "markdown",
   "metadata": {},
   "source": [
    "如果您记录了许多包，您可以将 AutoAPI 指向包含这些包的目录。例如，如果源代码在 `src/` 目录中：\n",
    "\n",
    "```\n",
    "mypackage/\n",
    "├── docs\n",
    "│   ├── _build\n",
    "│   ├── conf.py\n",
    "│   ├── index.rst\n",
    "│   ├── make.bat\n",
    "│   ├── Makefile\n",
    "│   ├── _static\n",
    "│   └── _templates\n",
    "├── README.md\n",
    "└── src\n",
    "    └── mypackage\n",
    "        ├── _client.py\n",
    "        ├── __init__.py\n",
    "        └── _server.py\n",
    "```"
   ]
  },
  {
   "cell_type": "markdown",
   "metadata": {},
   "source": [
    "`autoapi_dirs` 选项的值应该是：\n",
    "\n",
    "```python\n",
    "autoapi_dirs = ['../src']\n",
    "```"
   ]
  },
  {
   "cell_type": "markdown",
   "metadata": {},
   "source": [
    "既然所有配置都已完成，当你运行 Sphinx 时，AutoAPI 将生成文档！\n",
    "```bash\n",
    "cd doc/\n",
    "sphinx-build -b html . _build\n",
    "```"
   ]
  }
 ],
 "metadata": {
  "kernelspec": {
   "display_name": "ai",
   "language": "python",
   "name": "python3"
  },
  "language_info": {
   "name": "python",
   "version": "3.12.7"
  }
 },
 "nbformat": 4,
 "nbformat_minor": 2
}
