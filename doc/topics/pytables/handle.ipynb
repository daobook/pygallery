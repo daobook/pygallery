{
 "cells": [
  {
   "cell_type": "markdown",
   "metadata": {},
   "source": [
    "# 将数据提交到表和数组\n",
    "\n",
    "已经了解了如何创建表和数组，以及如何浏览对象树中的数据和元数据。现在，让我们更仔细地研究 PyTables 最强大的功能之一，即如何修改已创建的表和数组。"
   ]
  },
  {
   "cell_type": "code",
   "execution_count": 1,
   "metadata": {},
   "outputs": [],
   "source": [
    "from pathlib import Path\n",
    "\n",
    "temp_dir = Path(\".temp\")\n",
    "temp_dir.mkdir(exist_ok=True)"
   ]
  },
  {
   "cell_type": "code",
   "execution_count": 2,
   "metadata": {},
   "outputs": [],
   "source": [
    "from tables import *"
   ]
  },
  {
   "cell_type": "code",
   "execution_count": 3,
   "metadata": {},
   "outputs": [],
   "source": [
    "h5file = open_file(temp_dir/\"tutorial1.h5\", mode=\"a\")"
   ]
  },
  {
   "cell_type": "markdown",
   "metadata": {},
   "source": [
    "## 向现有表追加数据\n",
    "\n",
    "现在，让我们看看如何向磁盘上的现有表添加记录。让我们使用我们熟悉的 `readout` 对象，并向其中追加一些新值："
   ]
  },
  {
   "cell_type": "code",
   "execution_count": 4,
   "metadata": {},
   "outputs": [],
   "source": [
    "table = h5file.root.detector.readout\n",
    "particle = table.row\n",
    "for i in range(10, 15):\n",
    "    particle['name']  = f'Particle: {i:6d}'\n",
    "    particle['TDCcount'] = i % 256\n",
    "    particle['ADCcount'] = (i * 256) % (1 << 16)\n",
    "    particle['grid_i'] = i\n",
    "    particle['grid_j'] = 10 - i\n",
    "    particle['pressure'] = float(i*i)\n",
    "    particle['energy'] = float(particle['pressure'] ** 4)\n",
    "    particle['idnumber'] = i * (2 ** 34)\n",
    "    particle.append()\n",
    "table.flush()"
   ]
  },
  {
   "cell_type": "markdown",
   "metadata": {},
   "source": [
    "它与填充新表时使用的方法相同。PyTables 知道这个表在磁盘上，当您添加新记录时，它们会被追加到表的末尾。\n",
    "\n",
    "如果您仔细查看代码，您会看到我们使用了 `table.row` 属性来创建表行，并用新值填充它。每次调用其 {meth}`append` 方法时，实际行都会提交到输出缓冲区，并且行指针会递增以指向下一个表记录。当缓冲区满时，数据会保存到磁盘，并且缓冲区会再次用于下一个周期。\n",
    "\n",
    "警告：在写操作后不要忘记始终调用 `flush` 方法，否则您的表将不会更新！\n",
    "\n",
    "让我们查看修改后的表中的一些行，并验证我们的新数据是否已追加："
   ]
  },
  {
   "cell_type": "code",
   "execution_count": 9,
   "metadata": {},
   "outputs": [
    {
     "name": "stdout",
     "output_type": "stream",
     "text": [
      "b'Particle:      0' |         0.0 |           0 |      0 |     10 |        0 |\n",
      "b'Particle:      1' |         1.0 |           1 |      1 |      9 |        1 |\n",
      "b'Particle:      2' |         4.0 |         256 |      2 |      8 |        2 |\n",
      "b'Particle:      3' |         9.0 |        6561 |      3 |      7 |        3 |\n",
      "b'Particle:      4' |        16.0 |   6.554e+04 |      4 |      6 |        4 |\n",
      "b'Particle:      5' |        25.0 |   3.906e+05 |      5 |      5 |        5 |\n",
      "b'Particle:      6' |        36.0 |    1.68e+06 |      6 |      4 |        6 |\n",
      "b'Particle:      7' |        49.0 |   5.765e+06 |      7 |      3 |        7 |\n",
      "b'Particle:      8' |        64.0 |   1.678e+07 |      8 |      2 |        8 |\n",
      "b'Particle:      9' |        81.0 |   4.305e+07 |      9 |      1 |        9 |\n",
      "b'Particle:     10' |       100.0 |       1e+08 |     10 |      0 |       10 |\n",
      "b'Particle:     11' |       121.0 |   2.144e+08 |     11 |     -1 |       11 |\n",
      "b'Particle:     12' |       144.0 |     4.3e+08 |     12 |     -2 |       12 |\n",
      "b'Particle:     13' |       169.0 |   8.157e+08 |     13 |     -3 |       13 |\n",
      "b'Particle:     14' |       196.0 |   1.476e+09 |     14 |     -4 |       14 |\n"
     ]
    }
   ],
   "source": [
    "for r in table.iterrows():\n",
    "    print(\n",
    "        f\"{r['name']} | {r['pressure']:11.1f} | {r['energy']:11.4g} \"\n",
    "        f\"| {r['grid_i']:6d} | {r['grid_j']:6d} | {r['TDCcount']:8d} |\"\n",
    "    )"
   ]
  },
  {
   "cell_type": "markdown",
   "metadata": {},
   "source": [
    "## 修改数据表\n",
    "到目前为止，我们只是读取和写入（追加）值到我们的表中。但有时你需要在数据被保存到磁盘后对其进行修改（这在你为了适应你的目标需要修改现实世界的数据时尤其正确）。让我们看看如何修改已存在于我们现有数据表中的值。我们将从粒子表的第一行开始修改单个单元格："
   ]
  },
  {
   "cell_type": "code",
   "execution_count": 10,
   "metadata": {},
   "outputs": [
    {
     "name": "stdout",
     "output_type": "stream",
     "text": [
      "Before modif--> (0, 0, 0., 0, 10, 0, b'Particle:      0', 0.)\n"
     ]
    }
   ],
   "source": [
    "print(\"Before modif-->\", table[0])"
   ]
  },
  {
   "cell_type": "code",
   "execution_count": 11,
   "metadata": {},
   "outputs": [
    {
     "name": "stdout",
     "output_type": "stream",
     "text": [
      "After modifying first row of ADCcount--> (0, 1, 0., 0, 10, 0, b'Particle:      0', 0.)\n",
      "After modifying first row of energy--> (0, 1, 2., 0, 10, 0, b'Particle:      0', 0.)\n"
     ]
    }
   ],
   "source": [
    "table.cols.TDCcount[0] = 1\n",
    "print(\"After modifying first row of ADCcount-->\", table[0])\n",
    "table.cols.energy[0] = 2\n",
    "print(\"After modifying first row of energy-->\", table[0])"
   ]
  },
  {
   "cell_type": "markdown",
   "metadata": {},
   "source": [
    "也可以修改整列的范围："
   ]
  },
  {
   "cell_type": "code",
   "execution_count": 12,
   "metadata": {},
   "outputs": [
    {
     "name": "stdout",
     "output_type": "stream",
     "text": [
      "After modifying slice [2:5] of TDCcount--> [(   0, 1, 2.0000e+00, 0, 10,           0, b'Particle:      0',  0.)\n",
      " ( 256, 1, 1.0000e+00, 1,  9, 17179869184, b'Particle:      1',  1.)\n",
      " ( 512, 2, 2.5600e+02, 2,  8, 34359738368, b'Particle:      2',  4.)\n",
      " ( 768, 3, 6.5610e+03, 3,  7, 51539607552, b'Particle:      3',  9.)\n",
      " (1024, 4, 6.5536e+04, 4,  6, 68719476736, b'Particle:      4', 16.)]\n",
      "After modifying slice [1:9:3] of energy--> [(   0, 1, 2.0000000e+00, 0, 10,            0, b'Particle:      0',  0.)\n",
      " ( 256, 1, 2.0000000e+00, 1,  9,  17179869184, b'Particle:      1',  1.)\n",
      " ( 512, 2, 2.5600000e+02, 2,  8,  34359738368, b'Particle:      2',  4.)\n",
      " ( 768, 3, 6.5610000e+03, 3,  7,  51539607552, b'Particle:      3',  9.)\n",
      " (1024, 4, 3.0000000e+00, 4,  6,  68719476736, b'Particle:      4', 16.)\n",
      " (1280, 5, 3.9062500e+05, 5,  5,  85899345920, b'Particle:      5', 25.)\n",
      " (1536, 6, 1.6796160e+06, 6,  4, 103079215104, b'Particle:      6', 36.)\n",
      " (1792, 7, 4.0000000e+00, 7,  3, 120259084288, b'Particle:      7', 49.)\n",
      " (2048, 8, 1.6777216e+07, 8,  2, 137438953472, b'Particle:      8', 64.)]\n"
     ]
    }
   ],
   "source": [
    "table.cols.TDCcount[2:5] = [2,3,4]\n",
    "print(\"After modifying slice [2:5] of TDCcount-->\", table[0:5])\n",
    "table.cols.energy[1:9:3] = [2,3,4]\n",
    "print(\"After modifying slice [1:9:3] of energy-->\", table[0:9])"
   ]
  },
  {
   "cell_type": "markdown",
   "metadata": {},
   "source": [
    "请检查这些数值是否已正确修改！\n",
    "\n",
    "```{hint}\n",
    "请记住，``TDCcount`` 列是第二列，能量是第三列。有关修改列的更多信息，请查阅 {meth}`tables.Column.__setitem__`。\n",
    "```"
   ]
  },
  {
   "cell_type": "markdown",
   "metadata": {},
   "source": [
    "PyTables 还允许您同时修改完整的行集。作为这些功能的演示，请参见下一个示例："
   ]
  },
  {
   "cell_type": "code",
   "execution_count": 15,
   "metadata": {},
   "outputs": [
    {
     "name": "stdout",
     "output_type": "stream",
     "text": [
      "After modifying the complete third row--> [(  0, 1, 2.000e+00, 0, 10,           0, b'Particle:      0',  0.)\n",
      " (  1, 2, 3.000e+00, 4,  5,           6, b'Particle:   None',  8.)\n",
      " (512, 2, 2.560e+02, 2,  8, 34359738368, b'Particle:      2',  4.)\n",
      " (768, 3, 6.561e+03, 3,  7, 51539607552, b'Particle:      3',  9.)\n",
      " (  2, 4, 6.000e+00, 8, 10,          12, b'Particle: None*2', 16.)]\n"
     ]
    }
   ],
   "source": [
    "table.modify_rows(start=1, step=3,\n",
    "                rows=[(1, 2, 3.0, 4, 5, 6, 'Particle:   None', 8.0),\n",
    "                      (2, 4, 6.0, 8, 10, 12, 'Particle: None*2', 16.0)])\n",
    "print(\"After modifying the complete third row-->\", table[0:5])"
   ]
  },
  {
   "cell_type": "markdown",
   "metadata": {},
   "source": [
    "如您所见，{meth}`~tabels.Table.modify_rows` 函数调用修改了第二行和第五行，并返回了被修改的行数。\n",
    "\n",
    "除了 {meth}`~tabels.Table.modify_rows` 之外，还有另一种方法叫做 {meth}`~tabels.Table.modify_column`，用于修改特定列。\n",
    "\n",
    "最后，还有一种通常比上述方法更便捷的方法来修改表。这种新方法使用与每个表关联的 {meth}`tables.Row.update` 方法，因此它适用于表迭代器。请看以下例子："
   ]
  },
  {
   "cell_type": "code",
   "execution_count": 17,
   "metadata": {},
   "outputs": [
    {
     "name": "stdout",
     "output_type": "stream",
     "text": [
      "After modifying energy column (where TDCcount <=2)--> [(  0, 1, 2.000e+00, 0, 10,           0, b'Particle:      0', 0.)\n",
      " (  1, 2, 4.000e+00, 4,  5,           6, b'Particle:   None', 8.)\n",
      " (512, 2, 4.000e+00, 2,  8, 34359738368, b'Particle:      2', 4.)\n",
      " (768, 3, 6.561e+03, 3,  7, 51539607552, b'Particle:      3', 9.)]\n"
     ]
    }
   ],
   "source": [
    "for row in table.where('TDCcount <= 2'):\n",
    "    row['energy'] = row['TDCcount']*2\n",
    "    row.update()\n",
    "print(\"After modifying energy column (where TDCcount <=2)-->\", table[0:4])"
   ]
  },
  {
   "cell_type": "markdown",
   "metadata": {},
   "source": [
    "```{note}\n",
    "使用这种方法更新表格（即使用 {meth}`tables.Row.update`）既方便又高效。请确保广泛使用它。\n",
    "```"
   ]
  },
  {
   "cell_type": "markdown",
   "metadata": {},
   "source": [
    "请注意：目前，如果循环被 `break` 语句中断，{meth}`tables.Row.update` 将不会生效（表不会被更新）。可能的解决方案是在 `break` 语句之前手动刷新行内部缓冲区，通过调用 {meth}`row._flushModRows`。\n",
    "\n",
    "## 修改数组中的数据\n",
    "接下来，我们将学习如何修改数组对象中的数据。基本方法是使用 {meth}`tables.Array.__setitem__` 特殊方法。让我们看看如何修改 `pressureObject` 数组上的数据："
   ]
  },
  {
   "cell_type": "code",
   "execution_count": 18,
   "metadata": {},
   "outputs": [
    {
     "name": "stdout",
     "output_type": "stream",
     "text": [
      "Before modif--> [25. 36. 49.]\n",
      "First modif--> [ 2. 36. 49.]\n",
      "Second modif--> [2.  2.1 3.5]\n",
      "Third modif--> [1.  2.1 2. ]\n"
     ]
    }
   ],
   "source": [
    "pressureObject = h5file.root.columns.pressure\n",
    "print(\"Before modif-->\", pressureObject[:])\n",
    "pressureObject[0] = 2\n",
    "print(\"First modif-->\", pressureObject[:])\n",
    "pressureObject[1:3] = [2.1, 3.5]\n",
    "print(\"Second modif-->\", pressureObject[:])\n",
    "pressureObject[::2] = [1,2]\n",
    "print(\"Third modif-->\", pressureObject[:])"
   ]
  },
  {
   "cell_type": "markdown",
   "metadata": {},
   "source": [
    "因此，总的来说，你可以使用任何组合的扩展切片（多维）。\n",
    "\n",
    "唯一的例外是，你不能使用负值作为步长来引用你想要修改的索引。\n",
    "\n",
    "## 从表中删除行\n",
    "\n",
    "我们将通过从表中删除一些行来结束本教程。假设我们想删除第 5 到第 9 行（包括第 9 行）："
   ]
  },
  {
   "cell_type": "code",
   "execution_count": 20,
   "metadata": {},
   "outputs": [
    {
     "data": {
      "text/plain": [
       "5"
      ]
     },
     "execution_count": 20,
     "metadata": {},
     "output_type": "execute_result"
    }
   ],
   "source": [
    "table.remove_rows(5,10)"
   ]
  },
  {
   "cell_type": "markdown",
   "metadata": {},
   "source": [
    "{meth}`~tabels.Table.remove_rows` 方法用于删除指定范围 `(start, stop)` 内的行，并返回实际被移除的行数。\n",
    "\n",
    "请记得在完成操作后关闭文件："
   ]
  },
  {
   "cell_type": "code",
   "execution_count": 21,
   "metadata": {},
   "outputs": [],
   "source": [
    "h5file.close()"
   ]
  },
  {
   "cell_type": "code",
   "execution_count": null,
   "metadata": {},
   "outputs": [],
   "source": []
  }
 ],
 "metadata": {
  "kernelspec": {
   "display_name": "ai",
   "language": "python",
   "name": "python3"
  },
  "language_info": {
   "codemirror_mode": {
    "name": "ipython",
    "version": 3
   },
   "file_extension": ".py",
   "mimetype": "text/x-python",
   "name": "python",
   "nbconvert_exporter": "python",
   "pygments_lexer": "ipython3",
   "version": "3.12.7"
  }
 },
 "nbformat": 4,
 "nbformat_minor": 2
}
