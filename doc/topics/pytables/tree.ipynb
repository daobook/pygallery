{
 "cells": [
  {
   "cell_type": "markdown",
   "metadata": {},
   "source": [
    "# 浏览对象树\n",
    "\n",
    "在本节中，我们将学习如何浏览树并检索数据以及有关实际数据的元信息。\n",
    "\n",
    "在 `examples/tutorial1-2.py` 中，您将找到本节中所有代码的工作版本。"
   ]
  },
  {
   "cell_type": "code",
   "execution_count": 1,
   "metadata": {},
   "outputs": [],
   "source": [
    "from pathlib import Path\n",
    "\n",
    "temp_dir = Path(\".temp\")\n",
    "temp_dir.mkdir(exist_ok=True)"
   ]
  },
  {
   "cell_type": "code",
   "execution_count": 2,
   "metadata": {},
   "outputs": [],
   "source": [
    "from tables import *"
   ]
  },
  {
   "cell_type": "markdown",
   "metadata": {},
   "source": [
    "## 遍历对象树\n",
    "从打开 [](start) 部分中创建的文件开始："
   ]
  },
  {
   "cell_type": "code",
   "execution_count": 3,
   "metadata": {},
   "outputs": [],
   "source": [
    "h5file = open_file(temp_dir/\"tutorial1.h5\", mode=\"a\")"
   ]
  },
  {
   "cell_type": "markdown",
   "metadata": {},
   "source": [
    "这次，我们以“a”ppend 模式打开文件。使用此模式向文件添加更多信息。\n",
    "\n",
    "PyTables 遵循 Python 传统，提供了强大的内省能力，即您可以轻松地询问对象树的任何组件的信息，以及搜索树。\n",
    "\n",
    "首先，您可以通过简单地打印现有的 {class}`~tables.File` 实例来获得对象树的初步概览："
   ]
  },
  {
   "cell_type": "code",
   "execution_count": 4,
   "metadata": {},
   "outputs": [
    {
     "name": "stdout",
     "output_type": "stream",
     "text": [
      ".temp/tutorial1.h5 (File) 'Test file'\n",
      "Last modif.: '2024-12-03T09:38:12+00:00'\n",
      "Object Tree: \n",
      "/ (RootGroup) 'Test file'\n",
      "/columns (Group) 'Pressure and Name'\n",
      "/columns/name (Array(3,)) 'Name column selection'\n",
      "/columns/pressure (Array(3,)) 'Pressure column selection'\n",
      "/detector (Group) 'Detector information'\n",
      "/detector/readout (Table(10,)) 'Readout example'\n",
      "\n"
     ]
    }
   ],
   "source": [
    "print(h5file)"
   ]
  },
  {
   "cell_type": "markdown",
   "metadata": {},
   "source": [
    "看起来我们所有的对象都在那里。现在，让我们利用文件迭代器来看看如何列出对象树中的所有节点："
   ]
  },
  {
   "cell_type": "code",
   "execution_count": 5,
   "metadata": {},
   "outputs": [
    {
     "name": "stdout",
     "output_type": "stream",
     "text": [
      "/ (RootGroup) 'Test file'\n",
      "/columns (Group) 'Pressure and Name'\n",
      "/detector (Group) 'Detector information'\n",
      "/columns/name (Array(3,)) 'Name column selection'\n",
      "/columns/pressure (Array(3,)) 'Pressure column selection'\n",
      "/detector/readout (Table(10,)) 'Readout example'\n"
     ]
    }
   ],
   "source": [
    "for node in h5file:\n",
    "    print(node)"
   ]
  },
  {
   "cell_type": "markdown",
   "metadata": {},
   "source": [
    "可以使用 {meth}`~tables.File.walk_groups` 方法来仅列出树结构上的群组。"
   ]
  },
  {
   "cell_type": "code",
   "execution_count": 6,
   "metadata": {},
   "outputs": [
    {
     "name": "stdout",
     "output_type": "stream",
     "text": [
      "/ (RootGroup) 'Test file'\n",
      "/columns (Group) 'Pressure and Name'\n",
      "/detector (Group) 'Detector information'\n"
     ]
    }
   ],
   "source": [
    "for group in h5file.walk_groups():\n",
    "    print(group)"
   ]
  },
  {
   "cell_type": "markdown",
   "metadata": {},
   "source": [
    "请注意，{meth}`tables.File.walk_groups` 实际上返回的是迭代器，而非对象列表。将这个迭代器与 {meth}`tables.File.list_nodes` 方法结合使用是一种强大的组合。让我们通过例子来看看如何列出树中的所有数组："
   ]
  },
  {
   "cell_type": "code",
   "execution_count": 7,
   "metadata": {},
   "outputs": [
    {
     "name": "stdout",
     "output_type": "stream",
     "text": [
      "/columns/name (Array(3,)) 'Name column selection'\n",
      "/columns/pressure (Array(3,)) 'Pressure column selection'\n"
     ]
    }
   ],
   "source": [
    "for group in h5file.walk_groups(\"/\"):\n",
    "    for array in h5file.list_nodes(group, classname='Array'):\n",
    "        print(array)"
   ]
  },
  {
   "cell_type": "markdown",
   "metadata": {},
   "source": [
    "{meth}`tables.File.list_nodes` 返回列表，其中包含挂在特定 {class}`~tables.Group` 下的所有节点。如果指定了 `classname` 关键字，该方法将过滤掉所有不是该类后代实例的节点。只要求 {class}`~tables.Array` 实例。在某些情况下，还存在一个名为 {meth}`tables.File.iter_nodes` 的迭代器对应方法，可能会很方便，例如在处理后面有大量节点的组时。\n",
    "\n",
    "可以通过使用 {meth}`tables.File.walk_nodes` 特殊方法来组合这两个调用。例如："
   ]
  },
  {
   "cell_type": "code",
   "execution_count": 8,
   "metadata": {},
   "outputs": [
    {
     "name": "stdout",
     "output_type": "stream",
     "text": [
      "/columns/name (Array(3,)) 'Name column selection'\n",
      "/columns/pressure (Array(3,)) 'Pressure column selection'\n"
     ]
    }
   ],
   "source": [
    "for array in h5file.walk_nodes(\"/\", \"Array\"):\n",
    "    print(array)"
   ]
  },
  {
   "cell_type": "markdown",
   "metadata": {},
   "source": [
    "这是在交互式工作时的便捷快捷方式。\n",
    "\n",
    "最后，将列出 `/detector` 组中的所有 {class}`tabels.Leaf`，即 {class}`tabels.Table` 和 {class}`tabels.Array` 实例。请注意，在这个组中只会选择 {class}`tabels.Table` 类的实例（即 `readout`，这应该是正常情况）："
   ]
  },
  {
   "cell_type": "code",
   "execution_count": 9,
   "metadata": {},
   "outputs": [
    {
     "name": "stdout",
     "output_type": "stream",
     "text": [
      "/detector/readout (Table(10,)) 'Readout example'\n"
     ]
    }
   ],
   "source": [
    "for leaf in h5file.root.detector._f_walknodes('Leaf'):\n",
    "    print(leaf)"
   ]
  },
  {
   "cell_type": "markdown",
   "metadata": {},
   "source": [
    "我们使用了 {meth}`~tabels.Group._f_walknodes` 方法的调用，使用了自然命名路径规范。\n",
    "\n",
    "当然，您可以使用这些强大的方法进行更复杂的节点选择。但首先，让我们看看一些重要的 PyTables 对象实例变量。\n",
    "\n",
    "## 设置和获取用户属性\n",
    "\n",
    "PyTables 提供了一种简单而简洁的方式，通过使用 {class}`~tables.attributeset.AttributeSet` 类来补充树中节点对象的含义。您可以通过标准属性 `attrs` 访问 {class}`tabels.Leaf` 节点和 `_v_attrs` 访问 {class}`tabels.Group` 节点中的此对象。\n",
    "\n",
    "例如，假设想要保存 `/detector/readout` 表中数据采集的日期，以及采集过程中的温度："
   ]
  },
  {
   "cell_type": "code",
   "execution_count": 10,
   "metadata": {},
   "outputs": [],
   "source": [
    "table = h5file.root.detector.readout\n",
    "table.attrs.gath_date = \"Wed, 06/12/2003 18:33\"\n",
    "table.attrs.temperature = 18.4\n",
    "table.attrs.temp_scale = \"Celsius\""
   ]
  },
  {
   "cell_type": "markdown",
   "metadata": {},
   "source": [
    "现在，让我们在 `/detector` 组中设置稍微复杂的属性："
   ]
  },
  {
   "cell_type": "code",
   "execution_count": 11,
   "metadata": {},
   "outputs": [],
   "source": [
    "detector = h5file.root.detector\n",
    "detector._v_attrs.stuff = [5, (2.3, 4.5), \"Integer and tuple\"]"
   ]
  },
  {
   "cell_type": "markdown",
   "metadata": {},
   "source": [
    "请注意，如何通过 `_v_attrs` 属性访问 {class}`~tables.attributeset.AttributeSet` 实例，因为 `detector` 是 {class}`~tabels.Group` 节点。通常，您可以将任何标准 Python 数据结构保存为属性节点\n",
    "\n",
    "检索属性同样简单："
   ]
  },
  {
   "cell_type": "code",
   "execution_count": 12,
   "metadata": {},
   "outputs": [
    {
     "data": {
      "text/plain": [
       "'Wed, 06/12/2003 18:33'"
      ]
     },
     "execution_count": 12,
     "metadata": {},
     "output_type": "execute_result"
    }
   ],
   "source": [
    "table.attrs.gath_date"
   ]
  },
  {
   "cell_type": "code",
   "execution_count": 13,
   "metadata": {},
   "outputs": [
    {
     "data": {
      "text/plain": [
       "18.4"
      ]
     },
     "execution_count": 13,
     "metadata": {},
     "output_type": "execute_result"
    }
   ],
   "source": [
    "table.attrs.temperature"
   ]
  },
  {
   "cell_type": "code",
   "execution_count": 14,
   "metadata": {},
   "outputs": [
    {
     "data": {
      "text/plain": [
       "'Celsius'"
      ]
     },
     "execution_count": 14,
     "metadata": {},
     "output_type": "execute_result"
    }
   ],
   "source": [
    "table.attrs.temp_scale"
   ]
  },
  {
   "cell_type": "code",
   "execution_count": 15,
   "metadata": {},
   "outputs": [
    {
     "data": {
      "text/plain": [
       "[5, (2.3, 4.5), 'Integer and tuple']"
      ]
     },
     "execution_count": 15,
     "metadata": {},
     "output_type": "execute_result"
    }
   ],
   "source": [
    "detector._v_attrs.stuff"
   ]
  },
  {
   "cell_type": "markdown",
   "metadata": {},
   "source": [
    "可能猜到如何删除属性："
   ]
  },
  {
   "cell_type": "code",
   "execution_count": 16,
   "metadata": {},
   "outputs": [],
   "source": [
    "del table.attrs.gath_date"
   ]
  },
  {
   "cell_type": "markdown",
   "metadata": {},
   "source": [
    "\n",
    "\n",
    "如果您想检查 `/detector/table` 的当前用户属性集，可以打印其表示（如果您在具有 `rlcompleter` 模块的 Unix Python 控制台上，请尝试按 TAB 键两次）："
   ]
  },
  {
   "cell_type": "code",
   "execution_count": 17,
   "metadata": {},
   "outputs": [
    {
     "data": {
      "text/plain": [
       "/detector/readout._v_attrs (AttributeSet), 22 attributes:\n",
       "   [CLASS := 'TABLE',\n",
       "    FIELD_0_FILL := 0,\n",
       "    FIELD_0_NAME := 'ADCcount',\n",
       "    FIELD_1_FILL := 0,\n",
       "    FIELD_1_NAME := 'TDCcount',\n",
       "    FIELD_2_FILL := 0.0,\n",
       "    FIELD_2_NAME := 'energy',\n",
       "    FIELD_3_FILL := 0,\n",
       "    FIELD_3_NAME := 'grid_i',\n",
       "    FIELD_4_FILL := 0,\n",
       "    FIELD_4_NAME := 'grid_j',\n",
       "    FIELD_5_FILL := 0,\n",
       "    FIELD_5_NAME := 'idnumber',\n",
       "    FIELD_6_FILL := b'',\n",
       "    FIELD_6_NAME := 'name',\n",
       "    FIELD_7_FILL := 0.0,\n",
       "    FIELD_7_NAME := 'pressure',\n",
       "    NROWS := 10,\n",
       "    TITLE := 'Readout example',\n",
       "    VERSION := '2.7',\n",
       "    temp_scale := 'Celsius',\n",
       "    temperature := 18.4]"
      ]
     },
     "execution_count": 17,
     "metadata": {},
     "output_type": "execute_result"
    }
   ],
   "source": [
    "table.attrs"
   ]
  },
  {
   "cell_type": "markdown",
   "metadata": {},
   "source": [
    "得到了所有属性（包括系统属性）。您可以使用 `_f_list()` 方法获取所有属性或仅获取用户或系统属性的列表："
   ]
  },
  {
   "cell_type": "code",
   "execution_count": 18,
   "metadata": {},
   "outputs": [
    {
     "name": "stdout",
     "output_type": "stream",
     "text": [
      "['CLASS', 'FIELD_0_FILL', 'FIELD_0_NAME', 'FIELD_1_FILL', 'FIELD_1_NAME', 'FIELD_2_FILL', 'FIELD_2_NAME', 'FIELD_3_FILL', 'FIELD_3_NAME', 'FIELD_4_FILL', 'FIELD_4_NAME', 'FIELD_5_FILL', 'FIELD_5_NAME', 'FIELD_6_FILL', 'FIELD_6_NAME', 'FIELD_7_FILL', 'FIELD_7_NAME', 'NROWS', 'TITLE', 'VERSION', 'temp_scale', 'temperature']\n"
     ]
    }
   ],
   "source": [
    "print(table.attrs._f_list(\"all\"))"
   ]
  },
  {
   "cell_type": "code",
   "execution_count": 19,
   "metadata": {},
   "outputs": [
    {
     "name": "stdout",
     "output_type": "stream",
     "text": [
      "['temp_scale', 'temperature']\n"
     ]
    }
   ],
   "source": [
    "print(table.attrs._f_list(\"user\"))"
   ]
  },
  {
   "cell_type": "code",
   "execution_count": 20,
   "metadata": {},
   "outputs": [
    {
     "name": "stdout",
     "output_type": "stream",
     "text": [
      "['CLASS', 'FIELD_0_FILL', 'FIELD_0_NAME', 'FIELD_1_FILL', 'FIELD_1_NAME', 'FIELD_2_FILL', 'FIELD_2_NAME', 'FIELD_3_FILL', 'FIELD_3_NAME', 'FIELD_4_FILL', 'FIELD_4_NAME', 'FIELD_5_FILL', 'FIELD_5_NAME', 'FIELD_6_FILL', 'FIELD_6_NAME', 'FIELD_7_FILL', 'FIELD_7_NAME', 'NROWS', 'TITLE', 'VERSION']\n"
     ]
    }
   ],
   "source": [
    "print(table.attrs._f_list(\"sys\"))"
   ]
  },
  {
   "cell_type": "markdown",
   "metadata": {},
   "source": [
    "您还可以更改属性的名称："
   ]
  },
  {
   "cell_type": "code",
   "execution_count": 21,
   "metadata": {},
   "outputs": [
    {
     "name": "stdout",
     "output_type": "stream",
     "text": [
      "['tempScale', 'temperature']\n"
     ]
    }
   ],
   "source": [
    "table.attrs._f_rename(\"temp_scale\",\"tempScale\")\n",
    "print(table.attrs._f_list())"
   ]
  },
  {
   "cell_type": "markdown",
   "metadata": {},
   "source": [
    "从PyTables 2.0版本开始，您也被允许设置、删除或重命名系统属性。"
   ]
  },
  {
   "cell_type": "code",
   "execution_count": 22,
   "metadata": {},
   "outputs": [
    {
     "ename": "AttributeError",
     "evalue": "Attribute 'VERSION' does not exist in node: '/detector/readout'",
     "output_type": "error",
     "traceback": [
      "\u001b[0;31m---------------------------------------------------------------------------\u001b[0m",
      "\u001b[0;31mAttributeError\u001b[0m                            Traceback (most recent call last)",
      "Cell \u001b[0;32mIn[22], line 2\u001b[0m\n\u001b[1;32m      1\u001b[0m table\u001b[38;5;241m.\u001b[39mattrs\u001b[38;5;241m.\u001b[39m_f_rename(\u001b[38;5;124m\"\u001b[39m\u001b[38;5;124mVERSION\u001b[39m\u001b[38;5;124m\"\u001b[39m, \u001b[38;5;124m\"\u001b[39m\u001b[38;5;124mversion\u001b[39m\u001b[38;5;124m\"\u001b[39m)\n\u001b[0;32m----> 2\u001b[0m \u001b[43mtable\u001b[49m\u001b[38;5;241;43m.\u001b[39;49m\u001b[43mattrs\u001b[49m\u001b[38;5;241;43m.\u001b[39;49m\u001b[43mVERSION\u001b[49m\n",
      "File \u001b[0;32m/media/pc/data/lxw/envs/anaconda3a/envs/ai/lib/python3.12/site-packages/tables/attributeset.py:287\u001b[0m, in \u001b[0;36mAttributeSet.__getattr__\u001b[0;34m(self, name)\u001b[0m\n\u001b[1;32m    285\u001b[0m \u001b[38;5;66;03m# If attribute does not exist, raise AttributeError\u001b[39;00m\n\u001b[1;32m    286\u001b[0m \u001b[38;5;28;01mif\u001b[39;00m name \u001b[38;5;129;01mnot\u001b[39;00m \u001b[38;5;129;01min\u001b[39;00m \u001b[38;5;28mself\u001b[39m\u001b[38;5;241m.\u001b[39m_v_attrnames:\n\u001b[0;32m--> 287\u001b[0m     \u001b[38;5;28;01mraise\u001b[39;00m \u001b[38;5;167;01mAttributeError\u001b[39;00m(\u001b[38;5;124mf\u001b[39m\u001b[38;5;124m\"\u001b[39m\u001b[38;5;124mAttribute \u001b[39m\u001b[38;5;132;01m{\u001b[39;00mname\u001b[38;5;132;01m!r}\u001b[39;00m\u001b[38;5;124m does not exist \u001b[39m\u001b[38;5;124m\"\u001b[39m\n\u001b[1;32m    288\u001b[0m                          \u001b[38;5;124mf\u001b[39m\u001b[38;5;124m\"\u001b[39m\u001b[38;5;124min node: \u001b[39m\u001b[38;5;132;01m{\u001b[39;00m\u001b[38;5;28mself\u001b[39m\u001b[38;5;241m.\u001b[39m_v__nodepath\u001b[38;5;132;01m!r}\u001b[39;00m\u001b[38;5;124m\"\u001b[39m)\n\u001b[1;32m    290\u001b[0m \u001b[38;5;66;03m# Read the attribute from disk. This is an optimization to read\u001b[39;00m\n\u001b[1;32m    291\u001b[0m \u001b[38;5;66;03m# quickly system attributes that are _string_ values, but it\u001b[39;00m\n\u001b[1;32m    292\u001b[0m \u001b[38;5;66;03m# takes care of other types as well as for example NROWS for\u001b[39;00m\n\u001b[1;32m    293\u001b[0m \u001b[38;5;66;03m# Tables and EXTDIM for EArrays\u001b[39;00m\n\u001b[1;32m    294\u001b[0m format_version \u001b[38;5;241m=\u001b[39m \u001b[38;5;28mself\u001b[39m\u001b[38;5;241m.\u001b[39m_v__format_version\n",
      "\u001b[0;31mAttributeError\u001b[0m: Attribute 'VERSION' does not exist in node: '/detector/readout'"
     ]
    }
   ],
   "source": [
    "table.attrs._f_rename(\"VERSION\", \"version\")\n",
    "table.attrs.VERSION"
   ]
  },
  {
   "cell_type": "code",
   "execution_count": 23,
   "metadata": {},
   "outputs": [
    {
     "data": {
      "text/plain": [
       "'2.7'"
      ]
     },
     "execution_count": 23,
     "metadata": {},
     "output_type": "execute_result"
    }
   ],
   "source": [
    "table.attrs.version"
   ]
  },
  {
   "cell_type": "markdown",
   "metadata": {},
   "source": [
    "```{waring}\n",
    "在修改系统属性时必须小心，因为您可能会愚弄 PyTables，最终导致不希望的行为。只有在您知道自己在做什么时才使用此功能。\n",
    "\n",
    "因此，鉴于上述警告，我们将继续恢复 VERSION 属性的原始名称：\n",
    "```"
   ]
  },
  {
   "cell_type": "code",
   "execution_count": 24,
   "metadata": {},
   "outputs": [
    {
     "data": {
      "text/plain": [
       "'2.7'"
      ]
     },
     "execution_count": 24,
     "metadata": {},
     "output_type": "execute_result"
    }
   ],
   "source": [
    "table.attrs._f_rename(\"version\", \"VERSION\")\n",
    "table.attrs.VERSION"
   ]
  },
  {
   "cell_type": "markdown",
   "metadata": {},
   "source": [
    "属性是向你的数据添加持久性（元）信息的有用机制。\n",
    "\n",
    "从PyTables 3.9.0版本开始，你还可以对单个列设置、删除或重命名属性。API 的设计旨在与表上的属性表现一致。"
   ]
  },
  {
   "cell_type": "code",
   "execution_count": 25,
   "metadata": {},
   "outputs": [],
   "source": [
    "table.cols.pressure.attrs['units'] = 'kPa'\n",
    "table.cols.energy.attrs['units'] = 'MeV'"
   ]
  },
  {
   "cell_type": "markdown",
   "metadata": {},
   "source": [
    "## 获取对象元数据\n",
    "PyTables中的每个对象都包含了关于文件中数据的元数据信息。通常，这些元信息可以通过节点实例变量来访问。让我们来看一些例子："
   ]
  },
  {
   "cell_type": "code",
   "execution_count": 26,
   "metadata": {},
   "outputs": [
    {
     "name": "stdout",
     "output_type": "stream",
     "text": [
      "Object: /detector/readout (Table(10,)) 'Readout example'\n"
     ]
    }
   ],
   "source": [
    "print(\"Object:\", table)"
   ]
  },
  {
   "cell_type": "code",
   "execution_count": 27,
   "metadata": {},
   "outputs": [
    {
     "name": "stdout",
     "output_type": "stream",
     "text": [
      "Table name: readout\n"
     ]
    }
   ],
   "source": [
    "print(\"Table name:\", table.name)"
   ]
  },
  {
   "cell_type": "code",
   "execution_count": 28,
   "metadata": {},
   "outputs": [
    {
     "name": "stdout",
     "output_type": "stream",
     "text": [
      "Table title: Readout example\n"
     ]
    }
   ],
   "source": [
    "print(\"Table title:\", table.title)"
   ]
  },
  {
   "cell_type": "code",
   "execution_count": 29,
   "metadata": {},
   "outputs": [
    {
     "name": "stdout",
     "output_type": "stream",
     "text": [
      "Number of rows in table: 10\n"
     ]
    }
   ],
   "source": [
    "print(\"Number of rows in table:\", table.nrows)"
   ]
  },
  {
   "cell_type": "code",
   "execution_count": 30,
   "metadata": {},
   "outputs": [
    {
     "name": "stdout",
     "output_type": "stream",
     "text": [
      "ADCcount := uint16, ()\n",
      "TDCcount := uint8, ()\n",
      "energy := float64, ()\n",
      "grid_i := int32, ()\n",
      "grid_j := int32, ()\n",
      "idnumber := int64, ()\n",
      "name := |S16, ()\n",
      "pressure := float32, ()\n"
     ]
    }
   ],
   "source": [
    "for name in table.colnames:\n",
    "    print(name, ':= %s, %s' % (table.coldtypes[name], table.coldtypes[name].shape))"
   ]
  },
  {
   "cell_type": "markdown",
   "metadata": {},
   "source": [
    "要检查 `/columns/pressure` 数组对象中的元数据："
   ]
  },
  {
   "cell_type": "code",
   "execution_count": 31,
   "metadata": {},
   "outputs": [
    {
     "name": "stdout",
     "output_type": "stream",
     "text": [
      "Info on the object: /columns/pressure (Array(3,)) 'Pressure column selection'\n",
      "  atom := Float64Atom(shape=(), dflt=0.0)\n",
      "  maindim := 0\n",
      "  flavor := 'numpy'\n",
      "  byteorder := 'little'\n",
      "  chunkshape := None\n"
     ]
    }
   ],
   "source": [
    "pressureObject = h5file.get_node(\"/columns\", \"pressure\")\n",
    "print(\"Info on the object:\", repr(pressureObject))"
   ]
  },
  {
   "cell_type": "code",
   "execution_count": 32,
   "metadata": {},
   "outputs": [
    {
     "name": "stdout",
     "output_type": "stream",
     "text": [
      "  shape: ==> (3,)\n"
     ]
    }
   ],
   "source": [
    "print(\"  shape: ==>\", pressureObject.shape)"
   ]
  },
  {
   "cell_type": "code",
   "execution_count": 33,
   "metadata": {},
   "outputs": [
    {
     "name": "stdout",
     "output_type": "stream",
     "text": [
      "  title: ==> Pressure column selection\n"
     ]
    }
   ],
   "source": [
    "print(\"  title: ==>\", pressureObject.title)"
   ]
  },
  {
   "cell_type": "code",
   "execution_count": 34,
   "metadata": {},
   "outputs": [
    {
     "name": "stdout",
     "output_type": "stream",
     "text": [
      "  atom: ==> Float64Atom(shape=(), dflt=0.0)\n"
     ]
    }
   ],
   "source": [
    "print(\"  atom: ==>\", pressureObject.atom)"
   ]
  },
  {
   "cell_type": "markdown",
   "metadata": {},
   "source": [
    "请注意，使用了 {meth}`~tabels.File.get_node` 方法来访问树中的节点，而不是自然命名方法。两者都很有用，并且根据上下文，您将更喜欢其中之一。{meth}`~tabels.File.get_node` 的优点是它可以从路径名字符串（如本例所示）获取节点，并且还可以作为过滤器，仅显示特定位置中属于 `classname` 类的实例的节点。然而，通常情况下，我认为自然命名更优雅且更易于使用，尤其是在使用交互式控制台中存在的名称补全功能时。尝试这种自然命名和大多数 Python 控制台中存在的补全功能的强大组合，看看浏览对象树是多么愉快（好吧，至少对于这样的活动来说是很愉快的）。\n",
    "\n",
    "如果您查看 `pressureObject` 对象的 `type` 属性，您可以验证它是“float64”数组。通过查看其 `shape` 属性，您可以推断出磁盘上的数组是一维的，并且有 3 个元素。\n",
    "\n",
    "## 从 Array 对象读取数据\n",
    "\n",
    "一旦找到所需的 {class}`~tabels.Array`，请使用 {meth}`~tabels.Array.read` 方法检索其数据："
   ]
  },
  {
   "cell_type": "code",
   "execution_count": 35,
   "metadata": {},
   "outputs": [
    {
     "data": {
      "text/plain": [
       "array([25., 36., 49.])"
      ]
     },
     "execution_count": 35,
     "metadata": {},
     "output_type": "execute_result"
    }
   ],
   "source": [
    "pressureArray = pressureObject.read()\n",
    "pressureArray"
   ]
  },
  {
   "cell_type": "code",
   "execution_count": 36,
   "metadata": {},
   "outputs": [
    {
     "name": "stdout",
     "output_type": "stream",
     "text": [
      "pressureArray is an object of type: <class 'numpy.ndarray'>\n"
     ]
    }
   ],
   "source": [
    "print(\"pressureArray is an object of type:\", type(pressureArray))"
   ]
  },
  {
   "cell_type": "code",
   "execution_count": 37,
   "metadata": {},
   "outputs": [
    {
     "name": "stdout",
     "output_type": "stream",
     "text": [
      "nameArray is an object of type: <class 'list'>\n"
     ]
    }
   ],
   "source": [
    "nameArray = h5file.root.columns.name.read()\n",
    "print(\"nameArray is an object of type:\", type(nameArray))"
   ]
  },
  {
   "cell_type": "code",
   "execution_count": 38,
   "metadata": {},
   "outputs": [
    {
     "name": "stdout",
     "output_type": "stream",
     "text": [
      "Data on arrays nameArray and pressureArray:\n",
      "b'Particle:      5' --> 25.0\n",
      "b'Particle:      6' --> 36.0\n",
      "b'Particle:      7' --> 49.0\n"
     ]
    }
   ],
   "source": [
    "print(\"Data on arrays nameArray and pressureArray:\")\n",
    "for i in range(pressureObject.shape[0]):\n",
    "    print(nameArray[i], \"-->\", pressureArray[i])"
   ]
  },
  {
   "cell_type": "markdown",
   "metadata": {},
   "source": [
    "您可以通过查看 {class}`type` 调用的输出来看到，{meth}`tables.Array.read` 方法为 `pressureObject` 实例返回了真实的 NumPy 对象。对 `nameArray` 对象实例的 {meth}`tables.Array.read` 返回了本地的 Python 列表（字符串）。保存对象的类型作为 HDF5 属性（名为 `FLAVOR`）存储在磁盘上的对象中。然后，此属性作为数组元信息读取（可通过 `Array.attrs.FLAVOR` 变量访问），使读取的数组能够转换为原始对象。这提供了一种将各种对象保存为数组的方法，并保证您以后能够以原始形式恢复它们。"
   ]
  },
  {
   "cell_type": "code",
   "execution_count": 39,
   "metadata": {},
   "outputs": [],
   "source": [
    "h5file.close()"
   ]
  }
 ],
 "metadata": {
  "kernelspec": {
   "display_name": "ai",
   "language": "python",
   "name": "python3"
  },
  "language_info": {
   "codemirror_mode": {
    "name": "ipython",
    "version": 3
   },
   "file_extension": ".py",
   "mimetype": "text/x-python",
   "name": "python",
   "nbconvert_exporter": "python",
   "pygments_lexer": "ipython3",
   "version": "3.12.7"
  }
 },
 "nbformat": 4,
 "nbformat_minor": 2
}
