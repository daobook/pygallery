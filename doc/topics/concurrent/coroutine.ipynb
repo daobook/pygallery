{
 "cells": [
  {
   "cell_type": "markdown",
   "metadata": {},
   "source": [
    "# {class}`~_collections_abc.coroutine`"
   ]
  },
  {
   "cell_type": "code",
   "execution_count": 1,
   "metadata": {},
   "outputs": [],
   "source": [
    "# from _collections_abc import coroutine\n",
    "from abc import ABCMeta, abstractmethod\n",
    "from _collections_abc import _check_methods, GenericAlias, Awaitable, Coroutine\n",
    "\n",
    "## coroutine ##\n",
    "async def _coro(): pass\n",
    "_coro = _coro()\n",
    "coroutine = type(_coro) # 协程\n",
    "_coro.close()  # Prevent ResourceWarning\n",
    "del _coro"
   ]
  },
  {
   "cell_type": "code",
   "execution_count": null,
   "metadata": {},
   "outputs": [
    {
     "data": {
      "text/plain": [
       "coroutine"
      ]
     },
     "execution_count": 2,
     "metadata": {},
     "output_type": "execute_result"
    }
   ],
   "source": [
    "class Coroutine(Awaitable):\n",
    "\n",
    "    __slots__ = ()\n",
    "\n",
    "    @abstractmethod\n",
    "    def send(self, value):\n",
    "        \"\"\"将 `value` 发送到协程中。\n",
    "        返回下一个生成的值，或者引发 StopIteration 异常。\n",
    "        \"\"\"\n",
    "        raise StopIteration\n",
    "\n",
    "    @abstractmethod\n",
    "    def throw(self, typ, val=None, tb=None):\n",
    "        \"\"\"\n",
    "        在协程中引发异常。\n",
    "        返回下一个生成的值或引发 StopIteration 异常。\n",
    "        \"\"\"\n",
    "        if val is None:\n",
    "            if tb is None:\n",
    "                raise typ\n",
    "            val = typ()\n",
    "        if tb is not None:\n",
    "            val = val.with_traceback(tb)\n",
    "        raise val\n",
    "\n",
    "    def close(self):\n",
    "        \"\"\"在协程内引发 GeneratorExit 异常。\n",
    "        \"\"\"\n",
    "        try:\n",
    "            self.throw(GeneratorExit)\n",
    "        except (GeneratorExit, StopIteration):\n",
    "            pass\n",
    "        else:\n",
    "            raise RuntimeError(\"coroutine ignored GeneratorExit\")\n",
    "\n",
    "    @classmethod\n",
    "    def __subclasshook__(cls, C):\n",
    "        if cls is Coroutine:\n",
    "            return _check_methods(C, '__await__', 'send', 'throw', 'close')\n",
    "        return NotImplemented\n",
    "\n",
    "\n",
    "Coroutine.register(coroutine) # 将 coroutine 函数注册为 Coroutine 类的虚拟子类"
   ]
  },
  {
   "cell_type": "code",
   "execution_count": null,
   "metadata": {},
   "outputs": [],
   "source": []
  }
 ],
 "metadata": {
  "kernelspec": {
   "display_name": "xxx",
   "language": "python",
   "name": "python3"
  },
  "language_info": {
   "codemirror_mode": {
    "name": "ipython",
    "version": 3
   },
   "file_extension": ".py",
   "mimetype": "text/x-python",
   "name": "python",
   "nbconvert_exporter": "python",
   "pygments_lexer": "ipython3",
   "version": "3.12.2"
  }
 },
 "nbformat": 4,
 "nbformat_minor": 2
}
