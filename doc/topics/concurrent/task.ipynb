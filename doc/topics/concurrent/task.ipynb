{
 "cells": [
  {
   "cell_type": "markdown",
   "metadata": {},
   "source": [
    "# 任务"
   ]
  },
  {
   "cell_type": "markdown",
   "metadata": {},
   "source": [
    "## 在线程池中执行代码"
   ]
  },
  {
   "cell_type": "markdown",
   "metadata": {},
   "source": [
    "`awaitable loop.run_in_executor(executor, func, *args)`\n",
    ":   安排在指定的执行器 `executor` 中调用 `func(*args)` 。"
   ]
  },
  {
   "cell_type": "code",
   "execution_count": 1,
   "metadata": {},
   "outputs": [
    {
     "name": "stdout",
     "output_type": "stream",
     "text": [
      "开始异步操作||Mon Nov 11 00:12:49 2024\n",
      "IO 操作已完成，共阻塞了 2 秒||Mon Nov 11 00:12:51 2024\n"
     ]
    }
   ],
   "source": [
    "import asyncio\n",
    "import functools\n",
    "import concurrent.futures\n",
    "import time\n",
    "\n",
    "# 定义用于阻塞 IO 操作的函数\n",
    "def block_io_operation(seconds):\n",
    "    import time\n",
    "    time.sleep(seconds)\n",
    "    return f\"IO 操作已完成，共阻塞了 {seconds} 秒\"\n",
    "\n",
    "# 使用 asyncio 创建异步协程\n",
    "async def async_operation():\n",
    "    print(f\"开始异步操作||{time.asctime()}\")\n",
    "    loop = asyncio.get_running_loop()\n",
    "    # 创建线程池\n",
    "    with concurrent.futures.ThreadPoolExecutor(max_workers=5) as executor:\n",
    "        # 在线程池中运行阻塞IO操作\n",
    "        task_call = functools.partial(block_io_operation, 2)\n",
    "        result = await loop.run_in_executor(executor, task_call)\n",
    "    print(f\"{result}||{time.asctime()}\")\n",
    "\n",
    "# 在当前线程中运行异步协程\n",
    "# asyncio.run(async_operation())\n",
    "await async_operation()"
   ]
  },
  {
   "cell_type": "markdown",
   "metadata": {},
   "source": [
    "## "
   ]
  },
  {
   "cell_type": "markdown",
   "metadata": {},
   "source": [
    "## 跨线程调度"
   ]
  },
  {
   "cell_type": "markdown",
   "metadata": {},
   "source": [
    "构建 GUI 的框架通常会运行自己的事件循环，而事件循环会阻塞主线程，这意味着任何长时间运行的操作都可能导致用户界面挂起。此外，这个 UI 事件循环也会阻止创建异步事件循环。\n",
    "\n",
    "下面我们来学习如何使用多线程执行多个事件循环。"
   ]
  },
  {
   "cell_type": "markdown",
   "metadata": {},
   "source": [
    "{mod}`asyncio` 专门实现 Concurrency and Multithreading（多线程和并发）的函数:\n",
    "1. `loop.call_soon_threadsafe(callback, *args)`: 很底层的 API 接口，一般很少使用，本文也暂时不做讨论。\n",
    "2. `asyncio.run_coroutine_threadsafe(coroutine，loop)`\n",
    "\n",
    "`asyncio.run_coroutine_threadsafe(coro, loop)`\n",
    ":   向指定事件循环提交协程。(线程安全)\n",
    "    - `coro` 表示需要异步执行的协程函数\n",
    "    - `loop` 表示在新线程中创建的事件循环\n",
    "\n",
    "    返回 {class}`concurrent.futures.Future` 以等待来自其他 OS 线程的结果。\n",
    "    \n",
    "{func}`asyncio.run_coroutine_threadsafe` 函数应该从另一个 OS 线程中调用，而非事件循环运行所在线程。示例:"
   ]
  },
  {
   "cell_type": "code",
   "execution_count": 2,
   "metadata": {},
   "outputs": [
    {
     "name": "stdout",
     "output_type": "stream",
     "text": [
      "准备调用 <function func at 0x7f9864640900>, 大约耗时 3 Mon Nov 11 00:12:51 2024i    Mon Nov 11 00:12:51 2024\n",
      "l    Mon Nov 11 00:12:51 2024\n",
      "o    Mon Nov 11 00:12:51 2024\n",
      "v    Mon Nov 11 00:12:51 2024\n",
      "e    Mon Nov 11 00:12:51 2024\n",
      "u    Mon Nov 11 00:12:51 2024\n",
      "\n",
      "准备调用 <function func at 0x7f9864640900>, 大约耗时 2 Mon Nov 11 00:12:51 2024\n",
      "准备调用 <function func at 0x7f9864640900>, 大约耗时 1 Mon Nov 11 00:12:51 2024\n",
      "耗时1之后, <function func at 0x7f9864640900> 函数运行结束 Mon Nov 11 00:12:52 2024\n",
      "耗时2之后, <function func at 0x7f9864640900> 函数运行结束 Mon Nov 11 00:12:53 2024\n",
      "耗时3之后, <function func at 0x7f9864640900> 函数运行结束 Mon Nov 11 00:12:54 2024\n"
     ]
    }
   ],
   "source": [
    "import asyncio \n",
    "import time\n",
    "import threading\n",
    "\n",
    "#需要执行的耗时异步任务\n",
    "async def func(num):\n",
    "    print(f'准备调用 {func}, 大约耗时 {num} {time.asctime()}')\n",
    "    await asyncio.sleep(num)\n",
    "    print(f'耗时{num}之后, {func} 函数运行结束 {time.asctime()}')\n",
    "\n",
    "#定义专门创建事件循环 loop 的函数，在另一个线程中启动它\n",
    "def start_loop(loop):\n",
    "    asyncio.set_event_loop(loop)\n",
    "    loop.run_forever()\n",
    "\n",
    "#定义main函数\n",
    "def main():\n",
    "    coroutine1 = func(3)\n",
    "    coroutine2 = func(2)\n",
    "    coroutine3 = func(1)\n",
    " \n",
    "    new_loop = asyncio.new_event_loop()                        #在当前线程下创建时间循环，（未启用），在 start_loop 里面启动它\n",
    "    t = threading.Thread(target=start_loop, args=(new_loop,))   #通过当前线程开启新的线程去启动事件循环\n",
    "    t.start()\n",
    " \n",
    "    asyncio.run_coroutine_threadsafe(coroutine1, new_loop)  #这几个是关键，代表在新线程中事件循环不断“游走”执行\n",
    "    asyncio.run_coroutine_threadsafe(coroutine2, new_loop)\n",
    "    asyncio.run_coroutine_threadsafe(coroutine3, new_loop)\n",
    " \n",
    "    for i in \"iloveu\":\n",
    "        print(f\"{i}    {time.asctime()}\")\n",
    " \n",
    "main()\n",
    "await asyncio.sleep(6) # 保证 ipykernel 单元格线程耗尽"
   ]
  },
  {
   "cell_type": "markdown",
   "metadata": {},
   "source": [
    "亦可跨线程调度协程的返回值："
   ]
  },
  {
   "cell_type": "code",
   "execution_count": 3,
   "metadata": {},
   "outputs": [
    {
     "name": "stdout",
     "output_type": "stream",
     "text": [
      "准备 Mon Nov 11 00:12:57 2024\n",
      "函数运行结束 Mon Nov 11 00:12:58 2024\n"
     ]
    }
   ],
   "source": [
    "import asyncio \n",
    "import time\n",
    "import threading\n",
    "\n",
    "# 构建 coroutine\n",
    "async def coro(num):\n",
    "    print(f'准备 {time.asctime()}')\n",
    "    res = await asyncio.sleep(1, result=num*2)\n",
    "    print(f'函数运行结束 {time.asctime()}')\n",
    "    return res\n",
    "\n",
    "#定义专门创建事件循环 loop 的函数，在另一个线程中启动它\n",
    "def start_loop(loop):\n",
    "    asyncio.set_event_loop(loop)\n",
    "    loop.run_forever()\n",
    "\n",
    "# 为给定的 loop 提交 coro\n",
    "new_loop = asyncio.new_event_loop()\n",
    "future = asyncio.run_coroutine_threadsafe(coro(3), new_loop) # 在当前线程下创建时间循环，（未启用）\n",
    "t = threading.Thread(target=start_loop, args=(new_loop,))   #通过当前线程开启新的线程去启动事件循环\n",
    "t.start()\n",
    "# 等待结果，可选的超时参数\n",
    "assert future.result(timeout=None) == 6\n",
    "await asyncio.sleep(3) # 保证 ipykernel 单元格线程耗尽"
   ]
  },
  {
   "cell_type": "markdown",
   "metadata": {},
   "source": [
    "可以提供异常处理："
   ]
  },
  {
   "cell_type": "code",
   "execution_count": 4,
   "metadata": {},
   "outputs": [
    {
     "name": "stdout",
     "output_type": "stream",
     "text": [
      "准备 Mon Nov 11 00:13:01 2024\n",
      "函数运行结束 Mon Nov 11 00:13:02 2024\n",
      "协程返回: 6\n"
     ]
    }
   ],
   "source": [
    "timeout = 2\n",
    "future = asyncio.run_coroutine_threadsafe(coro(3), new_loop) # 在当前线程下创建时间循环，（未启用）\n",
    "try:\n",
    "    result = future.result(timeout)\n",
    "except TimeoutError:\n",
    "    future.cancel()\n",
    "    print(\"协程执行超时，任务已被取消...\")\n",
    "except Exception as exc:\n",
    "    print(f'协程引发了异常: {exc!r}')\n",
    "else:\n",
    "    print(f'协程返回: {result!r}')\n",
    "await asyncio.sleep(3) # 保证 ipykernel 单元格线程耗尽"
   ]
  },
  {
   "cell_type": "markdown",
   "metadata": {},
   "source": [
    "如果在协程内产生了异常，将会通知返回的 `Future` 对象。它也可被用来取消事件循环中的任务:"
   ]
  },
  {
   "cell_type": "code",
   "execution_count": 5,
   "metadata": {},
   "outputs": [
    {
     "name": "stdout",
     "output_type": "stream",
     "text": [
      "准备 Mon Nov 11 00:13:05 2024\n",
      "协程执行超时，任务已被取消...\n"
     ]
    }
   ],
   "source": [
    "timeout = 1\n",
    "future = asyncio.run_coroutine_threadsafe(coro(3), new_loop) # 在当前线程下创建时间循环，（未启用）\n",
    "try:\n",
    "    result = future.result(timeout)\n",
    "except TimeoutError:\n",
    "    future.cancel()\n",
    "    print(\"协程执行超时，任务已被取消...\")\n",
    "except Exception as exc:\n",
    "    print(f'协程引发了异常: {exc!r}')\n",
    "else:\n",
    "    print(f'协程返回: {result!r}')\n",
    "await asyncio.sleep(3) # 保证 ipykernel 单元格线程耗尽"
   ]
  },
  {
   "cell_type": "code",
   "execution_count": 6,
   "metadata": {},
   "outputs": [
    {
     "name": "stdout",
     "output_type": "stream",
     "text": [
      "准备 Mon Nov 11 00:13:09 2024\n",
      "协程引发了异常: TypeError(\"unsupported operand type(s) for *: 'function' and 'int'\")\n"
     ]
    }
   ],
   "source": [
    "timeout = 2\n",
    "future = asyncio.run_coroutine_threadsafe(coro(coro), new_loop) # 在当前线程下创建时间循环，（未启用）\n",
    "try:\n",
    "    result = future.result(timeout)\n",
    "except TimeoutError:\n",
    "    future.cancel()\n",
    "    print(\"协程执行超时，任务已被取消...\")\n",
    "except Exception as exc:\n",
    "    print(f'协程引发了异常: {exc!r}')\n",
    "else:\n",
    "    print(f'协程返回: {result!r}')\n",
    "await asyncio.sleep(3) # 保证 ipykernel 单元格线程耗尽"
   ]
  },
  {
   "cell_type": "markdown",
   "metadata": {},
   "source": [
    "## 简化跨线程调度"
   ]
  },
  {
   "cell_type": "code",
   "execution_count": 7,
   "metadata": {},
   "outputs": [],
   "source": [
    "# import functools\n",
    "from contextlib import ContextDecorator\n",
    "from dataclasses import dataclass\n",
    "from typing import Coroutine\n",
    "import asyncio\n",
    "from asyncio.events import AbstractEventLoop\n",
    "import threading\n",
    "import time\n",
    "\n",
    "@dataclass\n",
    "class Scheduler(ContextDecorator):\n",
    "    coro: Coroutine\n",
    "    loop: AbstractEventLoop\n",
    "\n",
    "    def __post_init__(self):\n",
    "        # 初始化\n",
    "        self.thread = None\n",
    "        self.future = None\n",
    "\n",
    "    def __call__(self):\n",
    "        if self.thread is None or not self.thread.is_alive():\n",
    "            self.thread = threading.Thread(\n",
    "                target=self.start_loop, \n",
    "                daemon=True, # 保证设置子线程为守护线程，当主线程结束时，守护线程会自动结束\n",
    "            )   #通过当前线程开启新的线程去启动事件循环\n",
    "            self.thread.start()\n",
    "            # 在新线程中事件循环不断“游走”执行\n",
    "            self.future = asyncio.run_coroutine_threadsafe(self.coro, self.loop)\n",
    "\n",
    "    def start_loop(self):\n",
    "        \"\"\"定义专门创建事件循环 loop 的函数，在另一个线程中启动它\"\"\"\n",
    "        asyncio.set_event_loop(self.loop)\n",
    "        self.loop.run_forever()\n",
    "\n",
    "    def __enter__(self):\n",
    "        print(f'启动：{self.coro}@{self.loop}')\n",
    "        return self\n",
    "\n",
    "    def __exit__(self, *exc):\n",
    "        print(f'离开：{self.coro}@{self.loop}')\n",
    "        return False"
   ]
  },
  {
   "cell_type": "code",
   "execution_count": 8,
   "metadata": {},
   "outputs": [
    {
     "name": "stdout",
     "output_type": "stream",
     "text": [
      "准备调用, Mon Nov 11 00:13:12 2024\n",
      "函数运行结束 Mon Nov 11 00:13:13 2024\n"
     ]
    }
   ],
   "source": [
    "async def async_task(num):\n",
    "    print(f'准备调用, {time.asctime()}')\n",
    "    res = await asyncio.sleep(1, result=num*2)\n",
    "    print(f'函数运行结束 {time.asctime()}')\n",
    "    return res\n",
    "\n",
    "new_loop = asyncio.new_event_loop()\n",
    "scheduler = Scheduler(async_task(3), new_loop)\n",
    "scheduler()\n",
    "scheduler.future.result()\n",
    "await asyncio.sleep(1) # 保证 ipykernel 单元格线程耗尽"
   ]
  },
  {
   "cell_type": "code",
   "execution_count": 9,
   "metadata": {},
   "outputs": [
    {
     "name": "stdout",
     "output_type": "stream",
     "text": [
      "启动：<coroutine object async_task at 0x7f986467c120>@<_UnixSelectorEventLoop running=False closed=False debug=False>\n",
      "离开：<coroutine object async_task at 0x7f986467c120>@<_UnixSelectorEventLoop running=True closed=False debug=False>\n",
      "准备调用, Mon Nov 11 00:13:14 2024\n",
      "函数运行结束 Mon Nov 11 00:13:15 2024\n",
      "结果：0\n",
      "启动：<coroutine object async_task at 0x7f986467c4a0>@<_UnixSelectorEventLoop running=False closed=False debug=False>\n",
      "离开：<coroutine object async_task at 0x7f986467c4a0>@<_UnixSelectorEventLoop running=True closed=False debug=False>\n",
      "准备调用, Mon Nov 11 00:13:15 2024\n",
      "函数运行结束 Mon Nov 11 00:13:16 2024\n",
      "结果：2\n",
      "启动：<coroutine object async_task at 0x7f986467c820>@<_UnixSelectorEventLoop running=False closed=False debug=False>\n",
      "离开：<coroutine object async_task at 0x7f986467c820>@<_UnixSelectorEventLoop running=True closed=False debug=False>\n",
      "准备调用, Mon Nov 11 00:13:16 2024\n",
      "函数运行结束 Mon Nov 11 00:13:17 2024\n",
      "结果：4\n",
      "启动：<coroutine object async_task at 0x7f986467cba0>@<_UnixSelectorEventLoop running=False closed=False debug=False>\n",
      "离开：<coroutine object async_task at 0x7f986467cba0>@<_UnixSelectorEventLoop running=True closed=False debug=False>\n",
      "准备调用, Mon Nov 11 00:13:17 2024\n",
      "函数运行结束 Mon Nov 11 00:13:18 2024\n",
      "结果：6\n",
      "启动：<coroutine object async_task at 0x7f986467cf20>@<_UnixSelectorEventLoop running=False closed=False debug=False>\n",
      "离开：<coroutine object async_task at 0x7f986467cf20>@<_UnixSelectorEventLoop running=True closed=False debug=False>\n",
      "准备调用, Mon Nov 11 00:13:18 2024\n",
      "函数运行结束 Mon Nov 11 00:13:19 2024\n",
      "结果：8\n"
     ]
    }
   ],
   "source": [
    "for num in range(5):\n",
    "    new_loop = asyncio.new_event_loop()\n",
    "    scheduler = Scheduler(async_task(num), new_loop)\n",
    "    with scheduler:\n",
    "        scheduler()\n",
    "    print(f\"结果：{scheduler.future.result()}\")\n",
    "await asyncio.sleep(5) # 保证 ipykernel 单元格线程耗尽"
   ]
  },
  {
   "cell_type": "markdown",
   "metadata": {},
   "source": [
    "## 在 `tkinter` 中调度异步任务"
   ]
  },
  {
   "cell_type": "markdown",
   "metadata": {},
   "source": [
    "```python\n",
    "from tkinter import ttk, Tk, StringVar\n",
    "import time\n",
    "\n",
    "class Window(Tk):\n",
    "    def __init__(self, **kw):\n",
    "        super().__init__(**kw)\n",
    "        self.download_button = ttk.Button(self, text=\"开始下载\", command=self.start_download_thread)\n",
    "        self.result_label = ttk.Label(self, text=\"\")\n",
    "        self.text_var = StringVar(self)\n",
    "        self.entry = ttk.Entry(self, textvariable=self.text_var)\n",
    "        self.label = ttk.Label(self, textvariable=self.text_var)\n",
    "        self.text_var.trace_add(\"write\", self.update_text())\n",
    "        self.download_button.grid(row=0, column=0)\n",
    "        self.result_label.grid(row=1, column=0)\n",
    "        self.entry.grid(row=0, column=1)\n",
    "        self.label.grid(row=1, column=1)\n",
    "        \n",
    "    def start_download_thread(self):\n",
    "        new_loop = asyncio.new_event_loop()\n",
    "        scheduler = Scheduler(self.download()， new_loop)\n",
    "        scheduler()\n",
    "\n",
    "    async def download(self):\n",
    "        # 模拟下载任务，这里可以替换为实际的下载操作\n",
    "        for i in range(1, 6):\n",
    "            self.result_label.config(text=f\"下载中... ({i}/5)\")\n",
    "            self.update()  # 更新主界面以显示下载进度\n",
    "            time.sleep(2)  # 模拟下载延迟\n",
    "        self.result_label.config(text=\"下载完成\")\n",
    "\n",
    "    def update_text(self, *args):\n",
    "        def wrap(*args):\n",
    "            self.text_var.set(self.entry.get())\n",
    "        return wrap\n",
    "\n",
    "root = Window()\n",
    "root.title(\"多线程示例\")\n",
    "root.mainloop()\n",
    "```"
   ]
  }
 ],
 "metadata": {
  "kernelspec": {
   "display_name": "Python 3",
   "language": "python",
   "name": "python3"
  },
  "language_info": {
   "codemirror_mode": {
    "name": "ipython",
    "version": 3
   },
   "file_extension": ".py",
   "mimetype": "text/x-python",
   "name": "python",
   "nbconvert_exporter": "python",
   "pygments_lexer": "ipython3",
   "version": "3.12.2"
  }
 },
 "nbformat": 4,
 "nbformat_minor": 2
}
