{
 "cells": [
  {
   "cell_type": "markdown",
   "metadata": {},
   "source": [
    "# {class}`~collections.abc.Awaitable`"
   ]
  },
  {
   "cell_type": "code",
   "execution_count": 1,
   "metadata": {},
   "outputs": [],
   "source": [
    "from abc import ABCMeta, abstractmethod\n",
    "from _collections_abc import _check_methods, GenericAlias, Awaitable\n",
    "\n",
    "class Awaitable(metaclass=ABCMeta):\n",
    "\n",
    "    __slots__ = () # 限制了该类的实例只能拥有指定的属性，这里定义为空元组，表示不允许添加任何新的实例属性。\n",
    "\n",
    "    @abstractmethod\n",
    "    def __await__(self):\n",
    "        # 要求所有子类必须实现这个方法\n",
    "        yield\n",
    "\n",
    "    @classmethod\n",
    "    def __subclasshook__(cls, C):\n",
    "        if cls is Awaitable:\n",
    "            # 检查某个类是否实现了特定的方法 __await__\n",
    "            return _check_methods(C, \"__await__\")\n",
    "        return NotImplemented\n",
    "\n",
    "    __class_getitem__ = classmethod(GenericAlias) # 用于支持泛型类型提示，比如 Awaitable[int]"
   ]
  },
  {
   "cell_type": "code",
   "execution_count": 2,
   "metadata": {},
   "outputs": [
    {
     "data": {
      "text/plain": [
       "__main__.Awaitable[int]"
      ]
     },
     "execution_count": 2,
     "metadata": {},
     "output_type": "execute_result"
    }
   ],
   "source": [
    "Awaitable[int]"
   ]
  },
  {
   "cell_type": "code",
   "execution_count": null,
   "metadata": {},
   "outputs": [],
   "source": []
  }
 ],
 "metadata": {
  "kernelspec": {
   "display_name": "xxx",
   "language": "python",
   "name": "python3"
  },
  "language_info": {
   "codemirror_mode": {
    "name": "ipython",
    "version": 3
   },
   "file_extension": ".py",
   "mimetype": "text/x-python",
   "name": "python",
   "nbconvert_exporter": "python",
   "pygments_lexer": "ipython3",
   "version": "3.12.2"
  }
 },
 "nbformat": 4,
 "nbformat_minor": 2
}
