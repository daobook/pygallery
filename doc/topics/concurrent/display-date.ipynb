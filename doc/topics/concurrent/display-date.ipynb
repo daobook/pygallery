{
 "cells": [
  {
   "cell_type": "markdown",
   "metadata": {},
   "source": [
    "# 定时刷新显示时间"
   ]
  },
  {
   "cell_type": "code",
   "execution_count": 1,
   "metadata": {},
   "outputs": [],
   "source": [
    "import asyncio\n",
    "import datetime\n",
    "\n",
    "async def display_date(time_s_end: float = 5.0, delay: float = 1.0):\n",
    "    \"\"\"每隔 delay 秒刷新显示当前日期，直至 time_s_end 秒终止\"\"\"\n",
    "    loop = asyncio.get_running_loop()\n",
    "    end_time = loop.time() + time_s_end\n",
    "    while 1:\n",
    "        print(datetime.datetime.now())\n",
    "        if (loop.time() + delay) >= end_time:\n",
    "            break\n",
    "        await asyncio.sleep(1)"
   ]
  },
  {
   "cell_type": "code",
   "execution_count": 2,
   "metadata": {},
   "outputs": [
    {
     "name": "stdout",
     "output_type": "stream",
     "text": [
      "2024-11-09 17:19:47.116832\n",
      "2024-11-09 17:19:48.118124\n",
      "2024-11-09 17:19:49.119406\n",
      "2024-11-09 17:19:50.120694\n",
      "2024-11-09 17:19:51.121978\n"
     ]
    }
   ],
   "source": [
    "await display_date(5)"
   ]
  },
  {
   "cell_type": "code",
   "execution_count": null,
   "metadata": {},
   "outputs": [],
   "source": []
  }
 ],
 "metadata": {
  "kernelspec": {
   "display_name": "xxx",
   "language": "python",
   "name": "python3"
  },
  "language_info": {
   "codemirror_mode": {
    "name": "ipython",
    "version": 3
   },
   "file_extension": ".py",
   "mimetype": "text/x-python",
   "name": "python",
   "nbconvert_exporter": "python",
   "pygments_lexer": "ipython3",
   "version": "3.12.2"
  }
 },
 "nbformat": 4,
 "nbformat_minor": 2
}
